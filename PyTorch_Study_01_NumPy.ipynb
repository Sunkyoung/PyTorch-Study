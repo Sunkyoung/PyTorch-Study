{
  "cells": [
    {
      "cell_type": "markdown",
      "metadata": {
        "id": "view-in-github",
        "colab_type": "text"
      },
      "source": [
        "<a href=\"https://colab.research.google.com/github/Sunkyoung/PyTorch-Study/blob/main/PyTorch_Study_01_NumPy.ipynb\" target=\"_parent\"><img src=\"https://colab.research.google.com/assets/colab-badge.svg\" alt=\"Open In Colab\"/></a>"
      ]
    },
    {
      "cell_type": "code",
      "execution_count": 1,
      "metadata": {
        "id": "z_DttAKGjHQd"
      },
      "outputs": [],
      "source": [
        "import numpy as np"
      ]
    },
    {
      "cell_type": "code",
      "execution_count": 2,
      "metadata": {
        "id": "LgkwqiLnjHQg"
      },
      "outputs": [],
      "source": [
        "def print_obj(obj, name):\n",
        "    print(\"%s:\\n%s\\n\" % (name, obj))\n",
        "    \n",
        "def check_each(a, b):\n",
        "    return (a == b).astype('bool')\n",
        "\n",
        "def check_mean(a, b):\n",
        "    return np.mean(a == b).astype('bool')"
      ]
    },
    {
      "cell_type": "markdown",
      "metadata": {
        "id": "ndTYrskPjHQh"
      },
      "source": [
        "### Scalars, Vectors, Matrices"
      ]
    },
    {
      "cell_type": "code",
      "execution_count": 3,
      "metadata": {
        "id": "uEwKPHZkjHQi"
      },
      "outputs": [],
      "source": [
        "a = np.array(1.)\n",
        "b = np.array([1., 2., 3.])\n",
        "c = np.array([[1., 2., 3.], [4., 5., 6.]])"
      ]
    },
    {
      "cell_type": "code",
      "execution_count": 4,
      "metadata": {
        "colab": {
          "base_uri": "https://localhost:8080/"
        },
        "id": "yP5XXV2qjHQj",
        "outputId": "5403ed34-8eb9-4fd1-bd62-c3b0c6f52dba"
      },
      "outputs": [
        {
          "output_type": "stream",
          "name": "stdout",
          "text": [
            "a:\n",
            "1.0\n",
            "\n",
            "b:\n",
            "[1. 2. 3.]\n",
            "\n",
            "c:\n",
            "[[1. 2. 3.]\n",
            " [4. 5. 6.]]\n",
            "\n"
          ]
        }
      ],
      "source": [
        "print_obj(a, \"a\")\n",
        "print_obj(b, \"b\")\n",
        "print_obj(c, \"c\")"
      ]
    },
    {
      "cell_type": "code",
      "execution_count": 5,
      "metadata": {
        "colab": {
          "base_uri": "https://localhost:8080/"
        },
        "id": "ZgoYAOzcjHQj",
        "outputId": "1b5c3dbf-4a48-4eec-f6f3-c8b00ee1799f"
      },
      "outputs": [
        {
          "output_type": "stream",
          "name": "stdout",
          "text": [
            "a.ndim:\n",
            "0\n",
            "\n",
            "b.ndim:\n",
            "1\n",
            "\n",
            "c.ndim:\n",
            "2\n",
            "\n"
          ]
        }
      ],
      "source": [
        "print_obj(a.ndim, \"a.ndim\")\n",
        "print_obj(b.ndim, \"b.ndim\")\n",
        "print_obj(c.ndim, \"c.ndim\")"
      ]
    },
    {
      "cell_type": "code",
      "execution_count": 6,
      "metadata": {
        "colab": {
          "base_uri": "https://localhost:8080/"
        },
        "id": "87OzqOzhjHQj",
        "outputId": "76410ee2-1c4a-4ec8-823c-da3811bfe362"
      },
      "outputs": [
        {
          "output_type": "stream",
          "name": "stdout",
          "text": [
            "a.shape:\n",
            "()\n",
            "\n",
            "b.shape:\n",
            "(3,)\n",
            "\n",
            "c.shape:\n",
            "(2, 3)\n",
            "\n"
          ]
        }
      ],
      "source": [
        "print_obj(a.shape, \"a.shape\")\n",
        "print_obj(b.shape, \"b.shape\")\n",
        "print_obj(c.shape, \"c.shape\")"
      ]
    },
    {
      "cell_type": "markdown",
      "metadata": {
        "id": "ume7EhnyjHQk"
      },
      "source": [
        "### Tensors (N-dimensional array)"
      ]
    },
    {
      "cell_type": "code",
      "execution_count": 7,
      "metadata": {
        "id": "pKl42f4jjHQk"
      },
      "outputs": [],
      "source": [
        "d = np.array([[[1., 2., 3.], [4., 5., 6.]], [[7., 8., 9.], [10., 11., 12.]]])\n",
        "e = np.array([[[[1., 2., 3.], [1., 2., 3.]], [[4., 5., 6.], [4., 5., 6.]]],\n",
        "              [[[7., 8., 9.], [7., 8., 9.]], [[10., 11., 12.], [10., 11., 12.]]]])"
      ]
    },
    {
      "cell_type": "code",
      "execution_count": 8,
      "metadata": {
        "colab": {
          "base_uri": "https://localhost:8080/"
        },
        "id": "nQ7aNwN0jHQl",
        "outputId": "2788e467-6f64-44ec-9114-d71459062a7f"
      },
      "outputs": [
        {
          "output_type": "stream",
          "name": "stdout",
          "text": [
            "d:\n",
            "[[[ 1.  2.  3.]\n",
            "  [ 4.  5.  6.]]\n",
            "\n",
            " [[ 7.  8.  9.]\n",
            "  [10. 11. 12.]]]\n",
            "\n",
            "d.ndim:\n",
            "3\n",
            "\n",
            "d.shape:\n",
            "(2, 2, 3)\n",
            "\n",
            "e:\n",
            "[[[[ 1.  2.  3.]\n",
            "   [ 1.  2.  3.]]\n",
            "\n",
            "  [[ 4.  5.  6.]\n",
            "   [ 4.  5.  6.]]]\n",
            "\n",
            "\n",
            " [[[ 7.  8.  9.]\n",
            "   [ 7.  8.  9.]]\n",
            "\n",
            "  [[10. 11. 12.]\n",
            "   [10. 11. 12.]]]]\n",
            "\n",
            "e.ndim:\n",
            "4\n",
            "\n",
            "e.shape:\n",
            "(2, 2, 2, 3)\n",
            "\n"
          ]
        }
      ],
      "source": [
        "print_obj(d, \"d\")\n",
        "print_obj(d.ndim, \"d.ndim\")\n",
        "print_obj(d.shape, \"d.shape\")\n",
        "\n",
        "print_obj(e, \"e\")\n",
        "print_obj(e.ndim, \"e.ndim\")\n",
        "print_obj(e.shape, \"e.shape\")"
      ]
    },
    {
      "cell_type": "code",
      "execution_count": 9,
      "metadata": {
        "colab": {
          "base_uri": "https://localhost:8080/"
        },
        "id": "ggmiJlgGjHQm",
        "outputId": "eb4a80d6-13be-42d6-bcf5-564f426a432b"
      },
      "outputs": [
        {
          "output_type": "execute_result",
          "data": {
            "text/plain": [
              "(2, 3, 1)"
            ]
          },
          "metadata": {},
          "execution_count": 9
        }
      ],
      "source": [
        "# Quiz: What is the shape of [[[1], [2], [3]], [[4], [5], [6]]]?\n",
        "a = np.array([[[1], [2], [3]], [[4], [5], [6]]])\n",
        "a.shape"
      ]
    },
    {
      "cell_type": "markdown",
      "metadata": {
        "id": "YB-xKvFLjHQn"
      },
      "source": [
        "### Defining Numpy arrays"
      ]
    },
    {
      "cell_type": "code",
      "execution_count": 10,
      "metadata": {
        "colab": {
          "base_uri": "https://localhost:8080/"
        },
        "id": "3wLZr7InjHQn",
        "outputId": "d8f8219a-a265-4eee-d914-b34046e261f0"
      },
      "outputs": [
        {
          "output_type": "execute_result",
          "data": {
            "text/plain": [
              "array([1., 1., 1., 1., 1., 1., 1., 1., 1., 1.])"
            ]
          },
          "metadata": {},
          "execution_count": 10
        }
      ],
      "source": [
        "a = np.ones(10)\n",
        "a"
      ]
    },
    {
      "cell_type": "code",
      "execution_count": 11,
      "metadata": {
        "colab": {
          "base_uri": "https://localhost:8080/"
        },
        "id": "rxafLkkvjHQn",
        "outputId": "fbde3e9d-9fe4-470e-efc5-a496a4d4e5ab"
      },
      "outputs": [
        {
          "output_type": "execute_result",
          "data": {
            "text/plain": [
              "array([[0., 0., 0., 0., 0.],\n",
              "       [0., 0., 0., 0., 0.]])"
            ]
          },
          "metadata": {},
          "execution_count": 11
        }
      ],
      "source": [
        "a = np.zeros((2, 5))\n",
        "a"
      ]
    },
    {
      "cell_type": "code",
      "execution_count": 12,
      "metadata": {
        "colab": {
          "base_uri": "https://localhost:8080/"
        },
        "id": "3dAyObZ3jHQo",
        "outputId": "ad92d309-5d4a-4bd8-ddbb-40a15e92ec71"
      },
      "outputs": [
        {
          "output_type": "execute_result",
          "data": {
            "text/plain": [
              "array([[5, 5, 5, 5, 5],\n",
              "       [5, 5, 5, 5, 5]])"
            ]
          },
          "metadata": {},
          "execution_count": 12
        }
      ],
      "source": [
        "a = np.full((2,5), 5)\n",
        "a"
      ]
    },
    {
      "cell_type": "code",
      "execution_count": 13,
      "metadata": {
        "id": "MnyWgM6cjHQo",
        "colab": {
          "base_uri": "https://localhost:8080/"
        },
        "outputId": "882fff15-a5ad-4827-af0e-9c6d8b1192cf"
      },
      "outputs": [
        {
          "output_type": "execute_result",
          "data": {
            "text/plain": [
              "array([[[0.28021528, 0.40754572, 0.55816813, 0.6485839 ],\n",
              "        [0.87524247, 0.54568827, 0.86354362, 0.58303442],\n",
              "        [0.22970502, 0.51086516, 0.80430179, 0.38255833]],\n",
              "\n",
              "       [[0.08680766, 0.23207305, 0.60041804, 0.75421173],\n",
              "        [0.25512713, 0.8685999 , 0.42556193, 0.85345845],\n",
              "        [0.01302898, 0.50158792, 0.98815595, 0.74769336]]])"
            ]
          },
          "metadata": {},
          "execution_count": 13
        }
      ],
      "source": [
        "a = np.random.random((2, 3, 4))\n",
        "a"
      ]
    },
    {
      "cell_type": "code",
      "execution_count": 14,
      "metadata": {
        "id": "Mv9NUi_qjHQo",
        "colab": {
          "base_uri": "https://localhost:8080/"
        },
        "outputId": "2b269302-718b-4cf6-add7-b8aa31004dc5"
      },
      "outputs": [
        {
          "output_type": "execute_result",
          "data": {
            "text/plain": [
              "array([0, 1, 2, 3, 4, 5, 6, 7, 8, 9])"
            ]
          },
          "metadata": {},
          "execution_count": 14
        }
      ],
      "source": [
        "a = np.arange(10)\n",
        "a"
      ]
    },
    {
      "cell_type": "code",
      "execution_count": 15,
      "metadata": {
        "id": "RTHWPZYZjHQo",
        "colab": {
          "base_uri": "https://localhost:8080/"
        },
        "outputId": "f7152c47-ba8a-4f9e-80ef-61a335f3ffb4"
      },
      "outputs": [
        {
          "output_type": "execute_result",
          "data": {
            "text/plain": [
              "array([0., 1., 2., 3., 4., 5., 6., 7., 8., 9.])"
            ]
          },
          "metadata": {},
          "execution_count": 15
        }
      ],
      "source": [
        "a = np.arange(10).astype(float)\n",
        "a"
      ]
    },
    {
      "cell_type": "code",
      "execution_count": 16,
      "metadata": {
        "id": "Mak-LmAHjHQp",
        "colab": {
          "base_uri": "https://localhost:8080/"
        },
        "outputId": "900002e0-db10-4f81-f441-0ceda413ba17"
      },
      "outputs": [
        {
          "output_type": "execute_result",
          "data": {
            "text/plain": [
              "array([[0, 1],\n",
              "       [2, 3],\n",
              "       [4, 5],\n",
              "       [6, 7],\n",
              "       [8, 9]])"
            ]
          },
          "metadata": {},
          "execution_count": 16
        }
      ],
      "source": [
        "a = np.arange(10).reshape((5,2))\n",
        "a"
      ]
    },
    {
      "cell_type": "code",
      "execution_count": 17,
      "metadata": {
        "id": "XW6sn88FjHQp",
        "outputId": "09a742e5-ced4-4196-dc77-cc83381dfcd2",
        "colab": {
          "base_uri": "https://localhost:8080/"
        }
      },
      "outputs": [
        {
          "output_type": "execute_result",
          "data": {
            "text/plain": [
              "array([[[ 0.,  1.],\n",
              "        [ 2.,  3.],\n",
              "        [ 4.,  5.]],\n",
              "\n",
              "       [[ 6.,  7.],\n",
              "        [ 8.,  9.],\n",
              "        [10., 11.]],\n",
              "\n",
              "       [[12., 13.],\n",
              "        [14., 15.],\n",
              "        [16., 17.]],\n",
              "\n",
              "       [[18., 19.],\n",
              "        [20., 21.],\n",
              "        [22., 23.]]])"
            ]
          },
          "metadata": {},
          "execution_count": 17
        }
      ],
      "source": [
        "# Quiz: Create a 4-by-3-by-2 tensor filled with 0.0 to 23.0\n",
        "a = np.arange(24).reshape((4,3,2)).astype(float)\n",
        "a"
      ]
    },
    {
      "cell_type": "markdown",
      "metadata": {
        "id": "o3vVyMDQjHQp"
      },
      "source": [
        "### Indexing & Slicing"
      ]
    },
    {
      "cell_type": "code",
      "execution_count": 18,
      "metadata": {
        "id": "UHhWY7J0jHQp",
        "outputId": "deef59f6-50e5-4609-ab37-4c22da130dd8",
        "colab": {
          "base_uri": "https://localhost:8080/"
        }
      },
      "outputs": [
        {
          "output_type": "stream",
          "name": "stdout",
          "text": [
            "a:\n",
            "[0 1 2 3 4 5 6 7 8 9]\n",
            "\n",
            "a[0]:\n",
            "0\n",
            "\n",
            "a[1]:\n",
            "1\n",
            "\n",
            "a[-1]:\n",
            "9\n",
            "\n",
            "a[-3]:\n",
            "7\n",
            "\n",
            "a[0:10]:\n",
            "[0 1 2 3 4 5 6 7 8 9]\n",
            "\n",
            "a[0:]:\n",
            "[0 1 2 3 4 5 6 7 8 9]\n",
            "\n",
            "a[:10]:\n",
            "[0 1 2 3 4 5 6 7 8 9]\n",
            "\n",
            "a[:]:\n",
            "[0 1 2 3 4 5 6 7 8 9]\n",
            "\n",
            "a[7:]:\n",
            "[7 8 9]\n",
            "\n",
            "a[:5]:\n",
            "[0 1 2 3 4]\n",
            "\n",
            "a[2:5]:\n",
            "[2 3 4]\n",
            "\n",
            "[6 7 8 9]\n",
            "[0 1]\n",
            "a[0:10:2]:\n",
            "[0 2 4 6 8]\n",
            "\n",
            "a[0:10:3]:\n",
            "[0 3 6 9]\n",
            "\n",
            "a[2:6:3]:\n",
            "[2 5]\n",
            "\n",
            "a[::-1]:\n",
            "[9 8 7 6 5 4 3 2 1 0]\n",
            "\n",
            "a[8:5:-1]:\n",
            "[8 7 6]\n",
            "\n",
            "a[8:5]:\n",
            "[]\n",
            "\n",
            "[9 6 3]\n"
          ]
        }
      ],
      "source": [
        "# Indexing and slicing a vector\n",
        "a = np.arange(10)\n",
        "print_obj(a, \"a\")\n",
        "\n",
        "print_obj(a[0], \"a[0]\")\n",
        "print_obj(a[1], \"a[1]\")\n",
        "print_obj(a[-1], \"a[-1]\")\n",
        "print_obj(a[-3], \"a[-3]\")\n",
        "\n",
        "print_obj(a[0:10], \"a[0:10]\")\n",
        "print_obj(a[0:], \"a[0:]\")\n",
        "print_obj(a[:10], \"a[:10]\")\n",
        "print_obj(a[:], \"a[:]\")\n",
        "\n",
        "print_obj(a[7:], \"a[7:]\")\n",
        "print_obj(a[:5], \"a[:5]\")\n",
        "print_obj(a[2:5], \"a[2:5]\")\n",
        "\n",
        "# Quiz: What is a[-4:]?\n",
        "print(a[-4:]) # last 4 elements\n",
        "# Quiz: What is a[:-8]?\n",
        "print(a[:-8]) # reverse counting until the last 8th \n",
        "\n",
        "print_obj(a[0:10:2], \"a[0:10:2]\")\n",
        "print_obj(a[0:10:3], \"a[0:10:3]\")\n",
        "print_obj(a[2:6:3], \"a[2:6:3]\")\n",
        "\n",
        "print_obj(a[::-1], \"a[::-1]\")\n",
        "print_obj(a[8:5:-1], \"a[8:5:-1]\")\n",
        "print_obj(a[8:5], \"a[8:5]\")\n",
        "\n",
        "# Quiz: Create [9, 6, 3] using a.\n",
        "print(a[9:2:-3])"
      ]
    },
    {
      "cell_type": "code",
      "execution_count": 19,
      "metadata": {
        "id": "EeQpbcqjjHQq",
        "outputId": "eb32d961-de0d-4ddb-d523-4879d5f88f3d",
        "colab": {
          "base_uri": "https://localhost:8080/"
        }
      },
      "outputs": [
        {
          "output_type": "stream",
          "name": "stdout",
          "text": [
            "a:\n",
            "[[0 1 2]\n",
            " [3 4 5]\n",
            " [6 7 8]]\n",
            "\n",
            "a[0][0]:\n",
            "0\n",
            "\n",
            "a[0,0]:\n",
            "0\n",
            "\n",
            "a[1,1]:\n",
            "4\n",
            "\n",
            "[6 7 8]\n",
            "[1 4 7]\n",
            "[8 5]\n"
          ]
        }
      ],
      "source": [
        "# Indexing a matrix\n",
        "a = np.arange(9).reshape((3,3))\n",
        "print_obj(a, \"a\")\n",
        "print_obj(a[0][0], \"a[0][0]\")\n",
        "print_obj(a[0,0], \"a[0,0]\")\n",
        "print_obj(a[1,1], \"a[1,1]\")\n",
        "\n",
        "# Quiz: How to access the last row?\n",
        "print(a[-1])\n",
        "# Quiz: How to access the second column?\n",
        "print(a[:,1])\n",
        "# Quiz: How to create [8, 5] using a?\n",
        "print(a[2:0:-1,2])"
      ]
    },
    {
      "cell_type": "code",
      "execution_count": 20,
      "metadata": {
        "id": "XZJ2Wi3OjHQs",
        "outputId": "f86d6e66-a5a7-4e94-9c90-17ae8811bb55",
        "colab": {
          "base_uri": "https://localhost:8080/"
        }
      },
      "outputs": [
        {
          "output_type": "stream",
          "name": "stdout",
          "text": [
            "a:\n",
            "[[[ 0  1]\n",
            "  [ 2  3]\n",
            "  [ 4  5]]\n",
            "\n",
            " [[ 6  7]\n",
            "  [ 8  9]\n",
            "  [10 11]]\n",
            "\n",
            " [[12 13]\n",
            "  [14 15]\n",
            "  [16 17]]\n",
            "\n",
            " [[18 19]\n",
            "  [20 21]\n",
            "  [22 23]]]\n",
            "\n",
            "a[2, 1, 0]:\n",
            "14\n",
            "\n",
            "[[0 1]\n",
            " [2 3]\n",
            " [4 5]]\n",
            "[2 3]\n",
            "[[ 0  2  4]\n",
            " [ 6  8 10]]\n"
          ]
        }
      ],
      "source": [
        "# Indexing and slicing a 3D tensor\n",
        "a = np.arange(4*3*2).reshape((4, 3, 2))\n",
        "print_obj(a, \"a\")\n",
        "print_obj(a[2, 1, 0], \"a[2, 1, 0]\")\n",
        "\n",
        "# Quiz: What would be a[0]?\n",
        "print(a[0])\n",
        "# Quiz: What would be a[0, 1]?\n",
        "print(a[0,1])\n",
        "# Quiz: Create [[0, 2, 4], [6, 8, 10]]\n",
        "print(a[:2,:,0])"
      ]
    },
    {
      "cell_type": "code",
      "execution_count": 21,
      "metadata": {
        "id": "3VggEJdmjHQs",
        "outputId": "10406aab-9916-4fc2-ba6a-7ed548e3067d",
        "colab": {
          "base_uri": "https://localhost:8080/"
        }
      },
      "outputs": [
        {
          "output_type": "stream",
          "name": "stdout",
          "text": [
            "a:\n",
            "[[0 1]\n",
            " [2 3]\n",
            " [4 5]]\n",
            "\n",
            "idx:\n",
            "[[ True False]\n",
            " [ True False]\n",
            " [ True False]]\n",
            "\n",
            "[0 2 4]\n",
            "[3 4 5]\n"
          ]
        }
      ],
      "source": [
        "# Conditional indexing\n",
        "a = np.arange(3*2).reshape((3,2))\n",
        "print_obj(a, \"a\")\n",
        "\n",
        "idx = a % 2 == 0\n",
        "print_obj(idx, \"idx\")\n",
        "print(a[idx])\n",
        "\n",
        "# Quiz: How would you create [3, 4, 5] using a?\n",
        "k = a >= 3\n",
        "print(a[k])"
      ]
    },
    {
      "cell_type": "code",
      "source": [
        "b = np.arange(9).reshape(3,3)\n",
        "\n",
        "idx = b % 2 == 0\n",
        "print_obj(idx, \"idx\")\n",
        "print(b[idx])\n",
        "\n",
        "# idx:\n",
        "# [[ True False  True]\n",
        "#  [False  True False]\n",
        "#  [ True False  True]]"
      ],
      "metadata": {
        "colab": {
          "base_uri": "https://localhost:8080/"
        },
        "id": "ULxqOCdTdMT-",
        "outputId": "ff099d84-e343-4ecf-f01a-caaf7cc6cc5e"
      },
      "execution_count": 22,
      "outputs": [
        {
          "output_type": "stream",
          "name": "stdout",
          "text": [
            "idx:\n",
            "[[ True False  True]\n",
            " [False  True False]\n",
            " [ True False  True]]\n",
            "\n",
            "[0 2 4 6 8]\n"
          ]
        }
      ]
    },
    {
      "cell_type": "code",
      "source": [
        "print_obj(b[:,[0, 2]], \"b[idx]\")\n",
        "print_obj(b[[0, 2], :], \"b[idx]\")\n",
        "idx = np.array([[0,0,1],[1,2,0]])\n",
        "print(b[idx])\n",
        "# [[[0 1 2]\n",
        "#   [0 1 2]\n",
        "#   [3 4 5]]\n",
        "\n",
        "#  [[3 4 5]\n",
        "#   [6 7 8]\n",
        "#   [0 1 2]]]"
      ],
      "metadata": {
        "colab": {
          "base_uri": "https://localhost:8080/"
        },
        "id": "4fQx3cWkeugt",
        "outputId": "4a92c8ae-9728-4acb-f18d-f0c55c3cef98"
      },
      "execution_count": 23,
      "outputs": [
        {
          "output_type": "stream",
          "name": "stdout",
          "text": [
            "b[idx]:\n",
            "[[0 2]\n",
            " [3 5]\n",
            " [6 8]]\n",
            "\n",
            "b[idx]:\n",
            "[[0 1 2]\n",
            " [6 7 8]]\n",
            "\n",
            "[[[0 1 2]\n",
            "  [0 1 2]\n",
            "  [3 4 5]]\n",
            "\n",
            " [[3 4 5]\n",
            "  [6 7 8]\n",
            "  [0 1 2]]]\n"
          ]
        }
      ]
    },
    {
      "cell_type": "code",
      "execution_count": 24,
      "metadata": {
        "id": "vo-j1LzajHQt",
        "colab": {
          "base_uri": "https://localhost:8080/"
        },
        "outputId": "4f2bad69-81a3-4ece-f8f1-26a224f386f5"
      },
      "outputs": [
        {
          "output_type": "stream",
          "name": "stdout",
          "text": [
            "a[idx]:\n",
            "[0 2 3]\n",
            "\n"
          ]
        }
      ],
      "source": [
        "# Taking specific elements from a vector\n",
        "a = np.arange(10)\n",
        "idx = [0, 2, 3]\n",
        "print_obj(a[idx], \"a[idx]\")"
      ]
    },
    {
      "cell_type": "code",
      "execution_count": 25,
      "metadata": {
        "id": "qUjtqzcujHQt",
        "colab": {
          "base_uri": "https://localhost:8080/"
        },
        "outputId": "a69e8186-55e5-4c5c-b877-9052f24baf92"
      },
      "outputs": [
        {
          "output_type": "stream",
          "name": "stdout",
          "text": [
            "a:\n",
            "[[ 0  1  2  3]\n",
            " [ 4  5  6  7]\n",
            " [ 8  9 10 11]\n",
            " [12 13 14 15]\n",
            " [16 17 18 19]\n",
            " [20 21 22 23]]\n",
            "\n",
            "a[idx]:\n",
            "[[ 0  2  3]\n",
            " [ 4  6  7]\n",
            " [ 8 10 11]\n",
            " [12 14 15]\n",
            " [16 18 19]\n",
            " [20 22 23]]\n",
            "\n",
            "a[idx]:\n",
            "[[ 0  1  2  3]\n",
            " [ 8  9 10 11]\n",
            " [12 13 14 15]]\n",
            "\n",
            "tuple indexing:\n",
            "[ 1  2  4 23]\n",
            "\n",
            "ndarray indexing:\n",
            "[[[ 0  1  2  3]\n",
            "  [ 0  1  2  3]\n",
            "  [ 4  5  6  7]\n",
            "  [20 21 22 23]]\n",
            "\n",
            " [[ 4  5  6  7]\n",
            "  [ 8  9 10 11]\n",
            "  [ 0  1  2  3]\n",
            "  [12 13 14 15]]]\n",
            "\n"
          ]
        }
      ],
      "source": [
        "# Taking specific elements from a tensor\n",
        "a = np.arange(24).reshape((6,4))\n",
        "print_obj(a, \"a\")\n",
        "\n",
        "print_obj(a[:,[0, 2, 3]], \"a[idx]\")\n",
        "print_obj(a[[0, 2, 3], :], \"a[idx]\")\n",
        "idx = ((0,0,1,5),(1,2,0,3))\n",
        "print_obj(a[idx], \"tuple indexing\")\n",
        "idx = np.array([[0,0,1,5],[1,2,0,3]])\n",
        "print_obj(a[idx], \"ndarray indexing\")"
      ]
    },
    {
      "cell_type": "markdown",
      "metadata": {
        "id": "SOs-AchOjHQt"
      },
      "source": [
        "### Math Operations"
      ]
    },
    {
      "cell_type": "code",
      "execution_count": 26,
      "metadata": {
        "id": "36fRBqmyjHQt",
        "colab": {
          "base_uri": "https://localhost:8080/"
        },
        "outputId": "b961b205-7f46-4e60-c983-1937186fc4ac"
      },
      "outputs": [
        {
          "output_type": "stream",
          "name": "stdout",
          "text": [
            "a:\n",
            "[[0 1]\n",
            " [2 3]\n",
            " [4 5]]\n",
            "\n",
            "b:\n",
            "[[1. 1.]\n",
            " [1. 1.]\n",
            " [1. 1.]]\n",
            "\n",
            "a+b:\n",
            "[[1. 2.]\n",
            " [3. 4.]\n",
            " [5. 6.]]\n",
            "\n",
            "a-b:\n",
            "[[-1.  0.]\n",
            " [ 1.  2.]\n",
            " [ 3.  4.]]\n",
            "\n",
            "a*b:\n",
            "[[0. 1.]\n",
            " [2. 3.]\n",
            " [4. 5.]]\n",
            "\n",
            "a/b:\n",
            "[[0. 1.]\n",
            " [2. 3.]\n",
            " [4. 5.]]\n",
            "\n"
          ]
        }
      ],
      "source": [
        "# Basic operations\n",
        "a = np.arange(6).reshape((3, 2))\n",
        "b = np.ones((3, 2))\n",
        "print_obj(a, \"a\")\n",
        "print_obj(b, \"b\")\n",
        "\n",
        "# +, -, *, /\n",
        "print_obj(a+b, \"a+b\")\n",
        "print_obj(a-b, \"a-b\")\n",
        "print_obj(a*b, \"a*b\")\n",
        "print_obj(a/b, \"a/b\")"
      ]
    },
    {
      "cell_type": "code",
      "source": [
        "a = np.arange(6).reshape((3, 2))\n",
        "b = np.full((3,2),2)\n",
        "print_obj(a, \"a\")\n",
        "print_obj(b, \"b\")\n",
        "\n",
        "# +, -, *, /\n",
        "print_obj(a+b, \"a+b\")\n",
        "print_obj(a-b, \"a-b\")\n",
        "print_obj(a*b, \"a*b\")\n",
        "print_obj(a/b, \"a/b\")\n",
        "\n",
        "# a+b:\n",
        "# [[2 3]\n",
        "#  [4 5]\n",
        "#  [6 7]]\n",
        "\n",
        "# a-b:\n",
        "# [[-2 -1]\n",
        "#  [ 0  1]\n",
        "#  [ 2  3]]\n",
        "\n",
        "# a*b:\n",
        "# [[ 0  2]\n",
        "#  [ 4  6]\n",
        "#  [ 8 10]]\n",
        "\n",
        "# a/b:\n",
        "# [[0.  0.5]\n",
        "#  [1.  1.5]\n",
        "#  [2.  2.5]]"
      ],
      "metadata": {
        "colab": {
          "base_uri": "https://localhost:8080/"
        },
        "id": "BiJhGC8z84vF",
        "outputId": "c9511613-f528-41ef-dd99-6bde6d364372"
      },
      "execution_count": 27,
      "outputs": [
        {
          "output_type": "stream",
          "name": "stdout",
          "text": [
            "a:\n",
            "[[0 1]\n",
            " [2 3]\n",
            " [4 5]]\n",
            "\n",
            "b:\n",
            "[[2 2]\n",
            " [2 2]\n",
            " [2 2]]\n",
            "\n",
            "a+b:\n",
            "[[2 3]\n",
            " [4 5]\n",
            " [6 7]]\n",
            "\n",
            "a-b:\n",
            "[[-2 -1]\n",
            " [ 0  1]\n",
            " [ 2  3]]\n",
            "\n",
            "a*b:\n",
            "[[ 0  2]\n",
            " [ 4  6]\n",
            " [ 8 10]]\n",
            "\n",
            "a/b:\n",
            "[[0.  0.5]\n",
            " [1.  1.5]\n",
            " [2.  2.5]]\n",
            "\n"
          ]
        }
      ]
    },
    {
      "cell_type": "code",
      "execution_count": 28,
      "metadata": {
        "id": "vlZBLXqfjHQu",
        "outputId": "78682dc4-21c6-4e93-fa81-ba2a98ccf0de",
        "colab": {
          "base_uri": "https://localhost:8080/"
        }
      },
      "outputs": [
        {
          "output_type": "stream",
          "name": "stdout",
          "text": [
            "a:\n",
            "[[0 1]\n",
            " [2 3]\n",
            " [4 5]]\n",
            "\n",
            "a.sum():\n",
            "15\n",
            "\n",
            "a.sum(axis=0):\n",
            "[6 9]\n",
            "\n",
            "a.sum(axis=1):\n",
            "[1 5 9]\n",
            "\n",
            "a.mean():\n",
            "2.5\n",
            "\n",
            "a.max():\n",
            "5\n",
            "\n",
            "a.min():\n",
            "0\n",
            "\n",
            "[[[ 0  1  2  3]\n",
            "  [ 4  5  6  7]\n",
            "  [ 8  9 10 11]]\n",
            "\n",
            " [[12 13 14 15]\n",
            "  [16 17 18 19]\n",
            "  [20 21 22 23]]]\n",
            "[[ 6 22 38]\n",
            " [54 70 86]]\n",
            "(2, 3)\n",
            "46.0\n"
          ]
        }
      ],
      "source": [
        "# Unary operations\n",
        "a = np.arange(6).reshape((3,2))\n",
        "print_obj(a, \"a\")\n",
        "\n",
        "print_obj(a.sum(), \"a.sum()\")\n",
        "print_obj(a.sum(axis=0), \"a.sum(axis=0)\")\n",
        "print_obj(a.sum(axis=1), \"a.sum(axis=1)\")\n",
        "\n",
        "print_obj(a.mean(), \"a.mean()\")\n",
        "print_obj(a.max(), \"a.max()\")\n",
        "print_obj(a.min(), \"a.min()\")\n",
        "\n",
        "# Quiz: Given a = np.arange(24).reshape((2,3,4)), what is the mean of the sum w.r.t to the last dimension?\n",
        "a = np.arange(24).reshape((2,3,4))\n",
        "print(a)\n",
        "print(a.sum(axis=-1))\n",
        "print(a.sum(axis=-1).shape)\n",
        "print(a.sum(axis=-1).mean())"
      ]
    },
    {
      "cell_type": "code",
      "execution_count": 29,
      "metadata": {
        "id": "4NLQZa35jHQu",
        "colab": {
          "base_uri": "https://localhost:8080/"
        },
        "outputId": "6b2d5602-41f9-4210-dabc-4dc9a2925ef0"
      },
      "outputs": [
        {
          "output_type": "stream",
          "name": "stdout",
          "text": [
            "a:\n",
            "[0. 1. 2.]\n",
            "\n",
            "b:\n",
            "[1. 1. 1.]\n",
            "\n",
            "a dot b:\n",
            "3.0\n",
            "\n",
            "a @ b:\n",
            "3.0\n",
            "\n"
          ]
        }
      ],
      "source": [
        "# Vector dot product\n",
        "a = np.arange(3).astype('float')\n",
        "b = np.ones(3)\n",
        "print_obj(a, \"a\")\n",
        "print_obj(b, \"b\")\n",
        "\n",
        "print_obj(np.dot(a, b), \"a dot b\")\n",
        "print_obj(a@b, \"a @ b\")"
      ]
    },
    {
      "cell_type": "code",
      "execution_count": 30,
      "metadata": {
        "id": "Ju85bTiMjHQu",
        "colab": {
          "base_uri": "https://localhost:8080/",
          "height": 236
        },
        "outputId": "beb7efe0-9358-448b-aac0-6046b31f3a95"
      },
      "outputs": [
        {
          "output_type": "error",
          "ename": "ValueError",
          "evalue": "ignored",
          "traceback": [
            "\u001b[0;31m---------------------------------------------------------------------------\u001b[0m",
            "\u001b[0;31mValueError\u001b[0m                                Traceback (most recent call last)",
            "\u001b[0;32m<ipython-input-30-55ca5aa40361>\u001b[0m in \u001b[0;36m<module>\u001b[0;34m()\u001b[0m\n\u001b[1;32m      1\u001b[0m \u001b[0;31m# Matrix dot product, matrix multiplication\u001b[0m\u001b[0;34m\u001b[0m\u001b[0;34m\u001b[0m\u001b[0;34m\u001b[0m\u001b[0m\n\u001b[1;32m      2\u001b[0m \u001b[0ma\u001b[0m \u001b[0;34m=\u001b[0m \u001b[0mnp\u001b[0m\u001b[0;34m.\u001b[0m\u001b[0marange\u001b[0m\u001b[0;34m(\u001b[0m\u001b[0;36m6\u001b[0m\u001b[0;34m)\u001b[0m\u001b[0;34m.\u001b[0m\u001b[0mreshape\u001b[0m\u001b[0;34m(\u001b[0m\u001b[0;34m(\u001b[0m\u001b[0;36m3\u001b[0m\u001b[0;34m,\u001b[0m \u001b[0;36m2\u001b[0m\u001b[0;34m)\u001b[0m\u001b[0;34m)\u001b[0m\u001b[0;34m\u001b[0m\u001b[0;34m\u001b[0m\u001b[0m\n\u001b[0;32m----> 3\u001b[0;31m \u001b[0mb\u001b[0m \u001b[0;34m=\u001b[0m \u001b[0mnp\u001b[0m\u001b[0;34m.\u001b[0m\u001b[0marange\u001b[0m\u001b[0;34m(\u001b[0m\u001b[0;36m6\u001b[0m\u001b[0;34m)\u001b[0m\u001b[0;34m.\u001b[0m\u001b[0mreshape\u001b[0m\u001b[0;34m(\u001b[0m\u001b[0;34m(\u001b[0m\u001b[0;36m3\u001b[0m\u001b[0;34m,\u001b[0m \u001b[0;36m2\u001b[0m\u001b[0;34m,\u001b[0m \u001b[0;36m3\u001b[0m\u001b[0;34m)\u001b[0m\u001b[0;34m)\u001b[0m\u001b[0;34m\u001b[0m\u001b[0;34m\u001b[0m\u001b[0m\n\u001b[0m\u001b[1;32m      4\u001b[0m \u001b[0mprint_obj\u001b[0m\u001b[0;34m(\u001b[0m\u001b[0ma\u001b[0m\u001b[0;34m,\u001b[0m \u001b[0;34m\"a\"\u001b[0m\u001b[0;34m)\u001b[0m\u001b[0;34m\u001b[0m\u001b[0;34m\u001b[0m\u001b[0m\n\u001b[1;32m      5\u001b[0m \u001b[0mprint_obj\u001b[0m\u001b[0;34m(\u001b[0m\u001b[0mb\u001b[0m\u001b[0;34m,\u001b[0m \u001b[0;34m\"b\"\u001b[0m\u001b[0;34m)\u001b[0m\u001b[0;34m\u001b[0m\u001b[0;34m\u001b[0m\u001b[0m\n",
            "\u001b[0;31mValueError\u001b[0m: cannot reshape array of size 6 into shape (3,2,3)"
          ]
        }
      ],
      "source": [
        "# Matrix dot product, matrix multiplication\n",
        "a = np.arange(6).reshape((3, 2))\n",
        "b = np.arange(6).reshape((3, 2, 3))\n",
        "print_obj(a, \"a\")\n",
        "print_obj(b, \"b\")\n",
        "\n",
        "print_obj(np.dot(a,b), \"a dot b\")\n",
        "print_obj(a@b, \"a @ b\")"
      ]
    },
    {
      "cell_type": "code",
      "execution_count": 31,
      "metadata": {
        "id": "K1qQhgGAjHQu",
        "outputId": "e41650e5-3a20-44d4-bd68-c0740b27313c",
        "colab": {
          "base_uri": "https://localhost:8080/"
        }
      },
      "outputs": [
        {
          "output_type": "stream",
          "name": "stdout",
          "text": [
            "a:\n",
            "[[[ 0  1]\n",
            "  [ 2  3]\n",
            "  [ 4  5]]\n",
            "\n",
            " [[ 6  7]\n",
            "  [ 8  9]\n",
            "  [10 11]]\n",
            "\n",
            " [[12 13]\n",
            "  [14 15]\n",
            "  [16 17]]\n",
            "\n",
            " [[18 19]\n",
            "  [20 21]\n",
            "  [22 23]]]\n",
            "\n",
            "b:\n",
            "[[[1. 1. 1.]\n",
            "  [1. 1. 1.]]\n",
            "\n",
            " [[1. 1. 1.]\n",
            "  [1. 1. 1.]]\n",
            "\n",
            " [[1. 1. 1.]\n",
            "  [1. 1. 1.]]\n",
            "\n",
            " [[1. 1. 1.]\n",
            "  [1. 1. 1.]]]\n",
            "\n",
            "a dot b:\n",
            "(4, 3, 4, 3)\n",
            "\n",
            "a dot b:\n",
            "[[[[ 1.  1.  1.]\n",
            "   [ 1.  1.  1.]\n",
            "   [ 1.  1.  1.]\n",
            "   [ 1.  1.  1.]]\n",
            "\n",
            "  [[ 5.  5.  5.]\n",
            "   [ 5.  5.  5.]\n",
            "   [ 5.  5.  5.]\n",
            "   [ 5.  5.  5.]]\n",
            "\n",
            "  [[ 9.  9.  9.]\n",
            "   [ 9.  9.  9.]\n",
            "   [ 9.  9.  9.]\n",
            "   [ 9.  9.  9.]]]\n",
            "\n",
            "\n",
            " [[[13. 13. 13.]\n",
            "   [13. 13. 13.]\n",
            "   [13. 13. 13.]\n",
            "   [13. 13. 13.]]\n",
            "\n",
            "  [[17. 17. 17.]\n",
            "   [17. 17. 17.]\n",
            "   [17. 17. 17.]\n",
            "   [17. 17. 17.]]\n",
            "\n",
            "  [[21. 21. 21.]\n",
            "   [21. 21. 21.]\n",
            "   [21. 21. 21.]\n",
            "   [21. 21. 21.]]]\n",
            "\n",
            "\n",
            " [[[25. 25. 25.]\n",
            "   [25. 25. 25.]\n",
            "   [25. 25. 25.]\n",
            "   [25. 25. 25.]]\n",
            "\n",
            "  [[29. 29. 29.]\n",
            "   [29. 29. 29.]\n",
            "   [29. 29. 29.]\n",
            "   [29. 29. 29.]]\n",
            "\n",
            "  [[33. 33. 33.]\n",
            "   [33. 33. 33.]\n",
            "   [33. 33. 33.]\n",
            "   [33. 33. 33.]]]\n",
            "\n",
            "\n",
            " [[[37. 37. 37.]\n",
            "   [37. 37. 37.]\n",
            "   [37. 37. 37.]\n",
            "   [37. 37. 37.]]\n",
            "\n",
            "  [[41. 41. 41.]\n",
            "   [41. 41. 41.]\n",
            "   [41. 41. 41.]\n",
            "   [41. 41. 41.]]\n",
            "\n",
            "  [[45. 45. 45.]\n",
            "   [45. 45. 45.]\n",
            "   [45. 45. 45.]\n",
            "   [45. 45. 45.]]]]\n",
            "\n",
            "a @ b:\n",
            "(4, 3, 3)\n",
            "\n",
            "a @ b:\n",
            "[[[ 1.  1.  1.]\n",
            "  [ 5.  5.  5.]\n",
            "  [ 9.  9.  9.]]\n",
            "\n",
            " [[13. 13. 13.]\n",
            "  [17. 17. 17.]\n",
            "  [21. 21. 21.]]\n",
            "\n",
            " [[25. 25. 25.]\n",
            "  [29. 29. 29.]\n",
            "  [33. 33. 33.]]\n",
            "\n",
            " [[37. 37. 37.]\n",
            "  [41. 41. 41.]\n",
            "  [45. 45. 45.]]]\n",
            "\n",
            "[[[1. 1. 1. 1.]\n",
            "  [1. 1. 1. 1.]\n",
            "  [1. 1. 1. 1.]]\n",
            "\n",
            " [[1. 1. 1. 1.]\n",
            "  [1. 1. 1. 1.]\n",
            "  [1. 1. 1. 1.]]]\n",
            "b:\n",
            "[[[1. 1. 1.]\n",
            "  [1. 1. 1.]]\n",
            "\n",
            " [[1. 1. 1.]\n",
            "  [1. 1. 1.]]\n",
            "\n",
            " [[1. 1. 1.]\n",
            "  [1. 1. 1.]]\n",
            "\n",
            " [[1. 1. 1.]\n",
            "  [1. 1. 1.]]]\n",
            "\n",
            "(4, 3, 3)\n",
            "a @ b:\n",
            "[[[ 1.  1.  1.]\n",
            "  [ 5.  5.  5.]\n",
            "  [ 9.  9.  9.]]\n",
            "\n",
            " [[13. 13. 13.]\n",
            "  [17. 17. 17.]\n",
            "  [21. 21. 21.]]\n",
            "\n",
            " [[25. 25. 25.]\n",
            "  [29. 29. 29.]\n",
            "  [33. 33. 33.]]\n",
            "\n",
            " [[37. 37. 37.]\n",
            "  [41. 41. 41.]\n",
            "  [45. 45. 45.]]]\n",
            "\n",
            "(4, 3, 4, 3)\n"
          ]
        }
      ],
      "source": [
        "# Tensor dot product, tensor multiplication\n",
        "a = np.arange(24).reshape((4, 3, 2))\n",
        "b = np.ones((4, 2, 3))\n",
        "print_obj(a, \"a\")\n",
        "print_obj(b, \"b\")\n",
        "\n",
        "\n",
        "print_obj(np.dot(a,b).shape, \"a dot b\")\n",
        "print_obj(np.dot(a,b), \"a dot b\")\n",
        "print_obj((a@b).shape, \"a @ b\")\n",
        "print_obj((a@b), \"a @ b\")\n",
        "\n",
        "# Quiz: what would happen if a.shape==(4,3,2) and b.shape==(2,3,4)?\n",
        "print(b.reshape((2,3,4)))\n",
        "print_obj(b, \"b\")\n",
        "print((a@b).shape)\n",
        "print_obj((a@b), \"a @ b\")\n",
        "print(np.dot(a,b).shape)"
      ]
    },
    {
      "cell_type": "markdown",
      "metadata": {
        "id": "UsgTh2TjjHQu"
      },
      "source": [
        "### Shape Manipulation"
      ]
    },
    {
      "cell_type": "code",
      "execution_count": 32,
      "metadata": {
        "id": "8ZORdYY3jHQu",
        "outputId": "a0446982-367a-475f-e6c0-199782c62c8b",
        "colab": {
          "base_uri": "https://localhost:8080/",
          "height": 1000
        }
      },
      "outputs": [
        {
          "output_type": "stream",
          "name": "stdout",
          "text": [
            "a:\n",
            "[ 0  1  2  3  4  5  6  7  8  9 10 11 12 13 14 15 16 17 18 19 20 21 22 23]\n",
            "\n",
            "b:\n",
            "[[ 0  1  2  3]\n",
            " [ 4  5  6  7]\n",
            " [ 8  9 10 11]\n",
            " [12 13 14 15]\n",
            " [16 17 18 19]\n",
            " [20 21 22 23]]\n",
            "\n",
            "b':\n",
            "(24,)\n",
            "\n",
            "c:\n",
            "[[ 0  1  2  3]\n",
            " [ 4  5  6  7]\n",
            " [ 8  9 10 11]\n",
            " [12 13 14 15]\n",
            " [16 17 18 19]\n",
            " [20 21 22 23]]\n",
            "\n",
            "d:\n",
            "[[[ 0]\n",
            "  [ 1]\n",
            "  [ 2]\n",
            "  [ 3]]\n",
            "\n",
            " [[ 4]\n",
            "  [ 5]\n",
            "  [ 6]\n",
            "  [ 7]]\n",
            "\n",
            " [[ 8]\n",
            "  [ 9]\n",
            "  [10]\n",
            "  [11]]\n",
            "\n",
            " [[12]\n",
            "  [13]\n",
            "  [14]\n",
            "  [15]]\n",
            "\n",
            " [[16]\n",
            "  [17]\n",
            "  [18]\n",
            "  [19]]\n",
            "\n",
            " [[20]\n",
            "  [21]\n",
            "  [22]\n",
            "  [23]]]\n",
            "\n",
            "d shape:\n",
            "(6, 4, 1)\n",
            "\n"
          ]
        },
        {
          "output_type": "error",
          "ename": "ValueError",
          "evalue": "ignored",
          "traceback": [
            "\u001b[0;31m---------------------------------------------------------------------------\u001b[0m",
            "\u001b[0;31mValueError\u001b[0m                                Traceback (most recent call last)",
            "\u001b[0;32m<ipython-input-32-6bc996329d76>\u001b[0m in \u001b[0;36m<module>\u001b[0;34m()\u001b[0m\n\u001b[1;32m     15\u001b[0m \u001b[0;34m\u001b[0m\u001b[0m\n\u001b[1;32m     16\u001b[0m \u001b[0;31m# Quiz: What would d=a.reshape((6, 4, -1)) look like?\u001b[0m\u001b[0;34m\u001b[0m\u001b[0;34m\u001b[0m\u001b[0;34m\u001b[0m\u001b[0m\n\u001b[0;32m---> 17\u001b[0;31m \u001b[0me\u001b[0m \u001b[0;34m=\u001b[0m \u001b[0ma\u001b[0m\u001b[0;34m.\u001b[0m\u001b[0mreshape\u001b[0m\u001b[0;34m(\u001b[0m\u001b[0;34m(\u001b[0m\u001b[0;36m6\u001b[0m\u001b[0;34m,\u001b[0m\u001b[0;36m4\u001b[0m\u001b[0;34m,\u001b[0m\u001b[0;34m-\u001b[0m\u001b[0;36m1\u001b[0m\u001b[0;34m,\u001b[0m\u001b[0;34m-\u001b[0m\u001b[0;36m1\u001b[0m\u001b[0;34m)\u001b[0m\u001b[0;34m)\u001b[0m\u001b[0;34m\u001b[0m\u001b[0;34m\u001b[0m\u001b[0m\n\u001b[0m\u001b[1;32m     18\u001b[0m \u001b[0mprint\u001b[0m\u001b[0;34m(\u001b[0m\u001b[0me\u001b[0m\u001b[0;34m.\u001b[0m\u001b[0mshape\u001b[0m\u001b[0;34m)\u001b[0m\u001b[0;34m\u001b[0m\u001b[0;34m\u001b[0m\u001b[0m\n\u001b[1;32m     19\u001b[0m \u001b[0mprint\u001b[0m\u001b[0;34m(\u001b[0m\u001b[0me\u001b[0m\u001b[0;34m)\u001b[0m\u001b[0;34m\u001b[0m\u001b[0;34m\u001b[0m\u001b[0m\n",
            "\u001b[0;31mValueError\u001b[0m: can only specify one unknown dimension"
          ]
        }
      ],
      "source": [
        "# Reshapes\n",
        "a = np.arange(24)\n",
        "print_obj(a, \"a\")\n",
        "\n",
        "b = a.reshape((6, 4))\n",
        "print_obj(b, \"b\")\n",
        "print_obj(b.reshape(-1).shape, \"b'\")\n",
        "\n",
        "c = a.reshape((6, -1))\n",
        "print_obj(c, \"c\")\n",
        "\n",
        "d = a.reshape((6,4,-1))\n",
        "print_obj(d, \"d\")\n",
        "print_obj(d.shape, \"d shape\")\n",
        "\n",
        "# Quiz: What would d=a.reshape((6, 4, -1)) look like?\n",
        "e = a.reshape((6,4,-1,-1))\n",
        "print(e.shape)\n",
        "print(e)"
      ]
    },
    {
      "cell_type": "code",
      "execution_count": 33,
      "metadata": {
        "id": "9PLBO9lPjHQv",
        "outputId": "ef1eda3e-86f7-4166-8e85-7450a5ae8219",
        "colab": {
          "base_uri": "https://localhost:8080/"
        }
      },
      "outputs": [
        {
          "output_type": "stream",
          "name": "stdout",
          "text": [
            "a:\n",
            "[0 1 2]\n",
            "\n",
            "(3,)\n",
            "a[:, None]:\n",
            "(3, 1)\n",
            "\n",
            "a[None, :]:\n",
            "(3, 1, 1)\n",
            "\n",
            "(3, 1, 1, 4)\n"
          ]
        }
      ],
      "source": [
        "# Adding an extra dimension\n",
        "a = np.arange(3)\n",
        "print_obj(a, \"a\")\n",
        "print(a.shape)\n",
        "\n",
        "print_obj(a[:, None].shape, \"a[:, None]\")\n",
        "print_obj(a[:, None, None].shape, \"a[None, :]\")\n",
        "\n",
        "# Quiz: How to make a = np.ones((3,4)) into shape (3, 1, 1, 4) using reshape and None?\n",
        "a = np.ones((3,4))\n",
        "print(a[:,None,None,:].shape)"
      ]
    },
    {
      "cell_type": "code",
      "execution_count": 34,
      "metadata": {
        "id": "-TZclvA4jHQv",
        "outputId": "f20b8ed4-3c1c-4733-8aa2-129f5b27fb10",
        "colab": {
          "base_uri": "https://localhost:8080/",
          "height": 947
        }
      },
      "outputs": [
        {
          "output_type": "stream",
          "name": "stdout",
          "text": [
            "a:\n",
            "[[1. 1.]\n",
            " [1. 1.]\n",
            " [1. 1.]]\n",
            "\n",
            "b:\n",
            "[[0. 0.]\n",
            " [0. 0.]\n",
            " [0. 0.]]\n",
            "\n",
            "a,b vstack:\n",
            "[[1. 1.]\n",
            " [1. 1.]\n",
            " [1. 1.]\n",
            " [0. 0.]\n",
            " [0. 0.]\n",
            " [0. 0.]]\n",
            "\n",
            "a,b hstack:\n",
            "[[1. 1. 0. 0.]\n",
            " [1. 1. 0. 0.]\n",
            " [1. 1. 0. 0.]]\n",
            "\n",
            "a,b hstack:\n",
            "[[1. 1. 0. 0. 1. 1.]\n",
            " [1. 1. 0. 0. 1. 1.]\n",
            " [1. 1. 0. 0. 1. 1.]]\n",
            "\n",
            "a,b concat axis=0:\n",
            "[[1. 1.]\n",
            " [1. 1.]\n",
            " [1. 1.]\n",
            " [0. 0.]\n",
            " [0. 0.]\n",
            " [0. 0.]]\n",
            "\n",
            "a,b concat axis=1:\n",
            "[[1. 1. 0. 0.]\n",
            " [1. 1. 0. 0.]\n",
            " [1. 1. 0. 0.]]\n",
            "\n"
          ]
        },
        {
          "output_type": "error",
          "ename": "ValueError",
          "evalue": "ignored",
          "traceback": [
            "\u001b[0;31m---------------------------------------------------------------------------\u001b[0m",
            "\u001b[0;31mValueError\u001b[0m                                Traceback (most recent call last)",
            "\u001b[0;32m<ipython-input-34-93f4e9eb5a01>\u001b[0m in \u001b[0;36m<module>\u001b[0;34m()\u001b[0m\n\u001b[1;32m     17\u001b[0m \u001b[0ma\u001b[0m \u001b[0;34m=\u001b[0m \u001b[0mnp\u001b[0m\u001b[0;34m.\u001b[0m\u001b[0mones\u001b[0m\u001b[0;34m(\u001b[0m\u001b[0;34m(\u001b[0m\u001b[0;36m4\u001b[0m\u001b[0;34m,\u001b[0m\u001b[0;36m3\u001b[0m\u001b[0;34m,\u001b[0m\u001b[0;36m2\u001b[0m\u001b[0;34m)\u001b[0m\u001b[0;34m)\u001b[0m\u001b[0;34m\u001b[0m\u001b[0;34m\u001b[0m\u001b[0m\n\u001b[1;32m     18\u001b[0m \u001b[0mb\u001b[0m \u001b[0;34m=\u001b[0m \u001b[0mnp\u001b[0m\u001b[0;34m.\u001b[0m\u001b[0mzeros\u001b[0m\u001b[0;34m(\u001b[0m\u001b[0;34m(\u001b[0m\u001b[0;36m5\u001b[0m\u001b[0;34m,\u001b[0m\u001b[0;36m4\u001b[0m\u001b[0;34m,\u001b[0m\u001b[0;36m2\u001b[0m\u001b[0;34m)\u001b[0m\u001b[0;34m)\u001b[0m\u001b[0;34m\u001b[0m\u001b[0;34m\u001b[0m\u001b[0m\n\u001b[0;32m---> 19\u001b[0;31m \u001b[0mnp\u001b[0m\u001b[0;34m.\u001b[0m\u001b[0mconcatenate\u001b[0m\u001b[0;34m(\u001b[0m\u001b[0;34m[\u001b[0m\u001b[0ma\u001b[0m\u001b[0;34m,\u001b[0m\u001b[0mb\u001b[0m\u001b[0;34m]\u001b[0m\u001b[0;34m,\u001b[0m \u001b[0maxis\u001b[0m\u001b[0;34m=\u001b[0m\u001b[0;36m2\u001b[0m\u001b[0;34m)\u001b[0m\u001b[0;34m\u001b[0m\u001b[0;34m\u001b[0m\u001b[0m\n\u001b[0m",
            "\u001b[0;32m<__array_function__ internals>\u001b[0m in \u001b[0;36mconcatenate\u001b[0;34m(*args, **kwargs)\u001b[0m\n",
            "\u001b[0;31mValueError\u001b[0m: all the input array dimensions for the concatenation axis must match exactly, but along dimension 0, the array at index 0 has size 4 and the array at index 1 has size 5"
          ]
        }
      ],
      "source": [
        "# Stack, concatenation\n",
        "a = np.ones((3,2))\n",
        "b = np.zeros((3,2))\n",
        "print_obj(a, \"a\")\n",
        "print_obj(b, \"b\")\n",
        "\n",
        "print_obj(np.vstack([a, b]), \"a,b vstack\")\n",
        "print_obj(np.hstack([a, b]), \"a,b hstack\")\n",
        "print_obj(np.hstack([a, b, a]), \"a,b hstack\")\n",
        "\n",
        "print_obj(np.concatenate([a, b], axis=0), \"a,b concat axis=0\")\n",
        "print_obj(np.concatenate([a, b], axis=1), \"a,b concat axis=1\")\n",
        "\n",
        "# Quiz: Would concatenating two tensors whose shapes are (4, 3, 2) and (5, 4, 2) on axis=2 work?\n",
        "# No, all the input dimension along axis must be the same\n",
        "# expect the concatenate one\n",
        "a = np.ones((4,3,2))\n",
        "b = np.zeros((5,4,2))\n",
        "np.concatenate([a,b], axis=2)\n"
      ]
    },
    {
      "cell_type": "code",
      "execution_count": 35,
      "metadata": {
        "id": "esFHy95hjHQv",
        "colab": {
          "base_uri": "https://localhost:8080/"
        },
        "outputId": "e97031a4-9263-4a70-b20b-9635a39d5467"
      },
      "outputs": [
        {
          "output_type": "stream",
          "name": "stdout",
          "text": [
            "a:\n",
            "[[0 1]\n",
            " [2 3]\n",
            " [4 5]]\n",
            "\n",
            "a.T:\n",
            "(2, 3)\n",
            "\n"
          ]
        }
      ],
      "source": [
        "# Matrix transpose\n",
        "a = np.arange(6).reshape((3, 2))\n",
        "print_obj(a, \"a\")\n",
        "\n",
        "print_obj(a.T.shape, \"a.T\")"
      ]
    },
    {
      "cell_type": "code",
      "execution_count": 36,
      "metadata": {
        "id": "dPdQEMqVjHQv",
        "colab": {
          "base_uri": "https://localhost:8080/"
        },
        "outputId": "1377ab59-1d0c-4aa4-a75e-c63107a8b9cb"
      },
      "outputs": [
        {
          "output_type": "stream",
          "name": "stdout",
          "text": [
            "a:\n",
            "[[[ 0  1]\n",
            "  [ 2  3]\n",
            "  [ 4  5]]\n",
            "\n",
            " [[ 6  7]\n",
            "  [ 8  9]\n",
            "  [10 11]]\n",
            "\n",
            " [[12 13]\n",
            "  [14 15]\n",
            "  [16 17]]\n",
            "\n",
            " [[18 19]\n",
            "  [20 21]\n",
            "  [22 23]]]\n",
            "\n",
            "Swap axis 1 and 2:\n",
            "[[[ 0  2  4]\n",
            "  [ 1  3  5]]\n",
            "\n",
            " [[ 6  8 10]\n",
            "  [ 7  9 11]]\n",
            "\n",
            " [[12 14 16]\n",
            "  [13 15 17]]\n",
            "\n",
            " [[18 20 22]\n",
            "  [19 21 23]]]\n",
            "\n",
            "b's shape:\n",
            "(4, 2, 3)\n",
            "\n",
            "Swap axis 0 and 1:\n",
            "[[[ 0  1]\n",
            "  [ 6  7]\n",
            "  [12 13]\n",
            "  [18 19]]\n",
            "\n",
            " [[ 2  3]\n",
            "  [ 8  9]\n",
            "  [14 15]\n",
            "  [20 21]]\n",
            "\n",
            " [[ 4  5]\n",
            "  [10 11]\n",
            "  [16 17]\n",
            "  [22 23]]]\n",
            "\n",
            "c's shape:\n",
            "(3, 4, 2)\n",
            "\n"
          ]
        }
      ],
      "source": [
        "# Tensor transpose\n",
        "a = np.arange(24).reshape((4, 3, 2))\n",
        "print_obj(a, \"a\")\n",
        "\n",
        "b = np.transpose(a, [0, 2, 1])\n",
        "print_obj(b, \"Swap axis 1 and 2\")\n",
        "print_obj(b.shape, \"b's shape\")\n",
        "\n",
        "c = np.transpose(a, [1, 0, 2])\n",
        "print_obj(c, \"Swap axis 0 and 1\")\n",
        "print_obj(c.shape, \"c's shape\")"
      ]
    },
    {
      "cell_type": "markdown",
      "metadata": {
        "id": "eigw8PRujHQw"
      },
      "source": [
        "### Broadcasting"
      ]
    },
    {
      "cell_type": "code",
      "execution_count": 37,
      "metadata": {
        "id": "nub1ARiUjHQw",
        "colab": {
          "base_uri": "https://localhost:8080/"
        },
        "outputId": "23b6a52e-314a-44ba-befa-deeaa348972f"
      },
      "outputs": [
        {
          "output_type": "stream",
          "name": "stdout",
          "text": [
            "a:\n",
            "[0 1 2]\n",
            "\n",
            "a+b:\n",
            "[2. 3. 4.]\n",
            "\n",
            "a-b:\n",
            "[-2. -1.  0.]\n",
            "\n",
            "a*b:\n",
            "[0. 2. 4.]\n",
            "\n",
            "a/b:\n",
            "[0.  0.5 1. ]\n",
            "\n"
          ]
        }
      ],
      "source": [
        "# Vector and scalar\n",
        "a = np.arange(3)\n",
        "b = 2.\n",
        "print_obj(a, \"a\")\n",
        "\n",
        "print_obj(a+b, \"a+b\")\n",
        "print_obj(a-b, \"a-b\")\n",
        "print_obj(a*b, \"a*b\")\n",
        "print_obj(a/b, \"a/b\")\n",
        "\n",
        "# [2. 3. 4.]\n",
        "\n",
        "# a-b:\n",
        "# [-2. -1.  0.]\n",
        "\n",
        "# a*b:\n",
        "# [0. 2. 4.]\n",
        "\n",
        "# a/b:\n",
        "# [0.  0.5 1. ]\n"
      ]
    },
    {
      "cell_type": "code",
      "execution_count": 38,
      "metadata": {
        "id": "QLxtN0rBjHQw",
        "outputId": "0bcf6f7e-2b64-40d2-83d8-d349cdd7848c",
        "colab": {
          "base_uri": "https://localhost:8080/"
        }
      },
      "outputs": [
        {
          "output_type": "stream",
          "name": "stdout",
          "text": [
            "a:\n",
            "[[0 1]\n",
            " [2 3]\n",
            " [4 5]]\n",
            "\n",
            "b:\n",
            "[1 2]\n",
            "\n",
            "b.shape:\n",
            "(2,)\n",
            "\n",
            "a+b:\n",
            "[[1 3]\n",
            " [3 5]\n",
            " [5 7]]\n",
            "\n",
            "[[0 1]]\n",
            "[[0 2]\n",
            " [2 4]\n",
            " [4 6]]\n"
          ]
        }
      ],
      "source": [
        "# Matrix and vector\n",
        "a = np.arange(6).reshape((3,2))\n",
        "b = np.arange(2).reshape(2) + 1\n",
        "print_obj(a, \"a\")\n",
        "print_obj(b, \"b\")\n",
        "print_obj(b.shape, \"b.shape\")\n",
        "\n",
        "print_obj(a+b, \"a+b\")\n",
        "\n",
        "# Quiz: What would happen if b were np.arange(2).reshape((2, 1))? \n",
        "# cannot broadcast since a = (3,2) and b = (2,1)\n",
        "# after comparison between (3,2) and (2,2), the no. of row not the same\n",
        "# How about np.arange(2).reshape((1, 2))?\n",
        "b = np.arange(2).reshape((1, 2)) # broadcast from (1,2) to (3,2)\n",
        "print(b)\n",
        "print(a+b)"
      ]
    },
    {
      "cell_type": "code",
      "execution_count": 39,
      "metadata": {
        "id": "p9n3do4PjHQw",
        "outputId": "cc9e66e8-e8a3-46ad-afa6-59409693901e",
        "colab": {
          "base_uri": "https://localhost:8080/"
        }
      },
      "outputs": [
        {
          "output_type": "stream",
          "name": "stdout",
          "text": [
            "a:\n",
            "[[[ 0  1]\n",
            "  [ 2  3]\n",
            "  [ 4  5]]\n",
            "\n",
            " [[ 6  7]\n",
            "  [ 8  9]\n",
            "  [10 11]]]\n",
            "\n",
            "b:\n",
            "[[0 1]\n",
            " [2 3]\n",
            " [4 5]]\n",
            "\n",
            "a+b:\n",
            "(2, 3, 2)\n",
            "\n",
            "[[[ 0  2]\n",
            "  [ 4  6]\n",
            "  [ 8 10]]\n",
            "\n",
            " [[ 6  8]\n",
            "  [10 12]\n",
            "  [14 16]]]\n"
          ]
        }
      ],
      "source": [
        "# Tensor and matrix\n",
        "a = np.arange(12).reshape((2,3,2))\n",
        "b = np.arange(6).reshape((3,2))\n",
        "print_obj(a, \"a\")\n",
        "print_obj(b, \"b\")\n",
        "\n",
        "print_obj((a+b).shape, \"a+b\")\n",
        "\n",
        "#Quiz: How can we use None to do a+b?\n",
        "print(a + b[None,:])"
      ]
    },
    {
      "cell_type": "markdown",
      "metadata": {
        "id": "QdZZ6YdKjHQw"
      },
      "source": [
        "### Final Quiz\n",
        "\n",
        "Test case: <br>\n",
        "```W = np.arange(16).reshape(8,2).astype('float') / 10.```<br>\n",
        "```M = (np.arange(20).reshape((10,2)).astype('float') - 10.) / 10.```<br>"
      ]
    },
    {
      "cell_type": "code",
      "execution_count": 40,
      "metadata": {
        "id": "HTddBecljHQw",
        "outputId": "18e4af38-9b17-4a86-a1b6-3d3863046298",
        "colab": {
          "base_uri": "https://localhost:8080/"
        }
      },
      "outputs": [
        {
          "output_type": "execute_result",
          "data": {
            "text/plain": [
              "1.0114933115231504"
            ]
          },
          "metadata": {},
          "execution_count": 40
        }
      ],
      "source": [
        "import numpy as np\n",
        "\n",
        "def sigmoid(x):\n",
        "    return 1./(1. + np.exp(-x))\n",
        "\n",
        "# Define a function that, given M of shape (m,n) and W of shape (4n, n), executes the following:\n",
        "# - Take the first half rows of M\n",
        "# - Take the second half rows of M\n",
        "# - Take the odd-numbered rows of M\n",
        "# - Take the even-numbered rows of M\n",
        "# - Append them horizontally in the listed order so that you obtain a matrix X of shape (?, 4n)\n",
        "# - Linearly transform X with W so that you obtain a matrix Y of shape (?, ?)\n",
        "# - Put Y through the sigmoid function\n",
        "# - Obtain the sum of the row-wise mean\n",
        "def foo(M, W):\n",
        "  (row, col) = M.shape\n",
        "  first_half_rows = M[:row//2]\n",
        "  second_half_rows = M[row//2:]\n",
        "  odd_num_rows = M[1::2]\n",
        "  even_num_rows = M[0::2]\n",
        "  X = np.hstack([first_half_rows, second_half_rows, odd_num_rows, even_num_rows])\n",
        "  # X = np.concatenate([first_half_rows, second_half_rows, odd_num_rows, even_num_rows], axis=1)\n",
        "  Y = np.dot(X, W)\n",
        "  sigmoid_Y = sigmoid(Y)\n",
        "  row_wise_mean = sigmoid_Y.mean(axis=0)\n",
        "  return np.sum(row_wise_mean)\n",
        "\n",
        "\n",
        "W = np.arange(16).reshape(8,2).astype('float') / 10.\n",
        "M = (np.arange(20).reshape((10,2)).astype('float') - 10.) / 10.\n",
        "\n",
        "foo(M, W)"
      ]
    }
  ],
  "metadata": {
    "colab": {
      "name": "ai504_01_numpy.ipynb",
      "provenance": [],
      "include_colab_link": true
    },
    "kernelspec": {
      "display_name": "Python 3",
      "language": "python",
      "name": "python3"
    },
    "language_info": {
      "codemirror_mode": {
        "name": "ipython",
        "version": 3
      },
      "file_extension": ".py",
      "mimetype": "text/x-python",
      "name": "python",
      "nbconvert_exporter": "python",
      "pygments_lexer": "ipython3",
      "version": "3.8.2"
    }
  },
  "nbformat": 4,
  "nbformat_minor": 0
}
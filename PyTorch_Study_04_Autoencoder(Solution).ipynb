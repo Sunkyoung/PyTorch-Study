{
  "cells": [
    {
      "cell_type": "markdown",
      "metadata": {
        "id": "view-in-github",
        "colab_type": "text"
      },
      "source": [
        "<a href=\"https://colab.research.google.com/github/Sunkyoung/PyTorch-Study/blob/main/PyTorch_Study_04_Autoencoder(Solution).ipynb\" target=\"_parent\"><img src=\"https://colab.research.google.com/assets/colab-badge.svg\" alt=\"Open In Colab\"/></a>"
      ]
    },
    {
      "cell_type": "markdown",
      "metadata": {
        "id": "qFoq-khqMAh7"
      },
      "source": [
        "# Autoencoder"
      ]
    },
    {
      "cell_type": "markdown",
      "source": [
        "## Practice Notebook Problem Solution\n",
        "### **TODO : Fill the answer below Q**"
      ],
      "metadata": {
        "id": "pCoDWz2FmWGJ"
      }
    },
    {
      "cell_type": "markdown",
      "metadata": {
        "id": "XXpqf4nGMAh8"
      },
      "source": [
        "## 1. Settings"
      ]
    },
    {
      "cell_type": "markdown",
      "metadata": {
        "id": "cuiAb_LX2QiB"
      },
      "source": [
        "### 1) Import required libraries"
      ]
    },
    {
      "cell_type": "code",
      "execution_count": 1,
      "metadata": {
        "id": "gOFx3VQpMAh-"
      },
      "outputs": [],
      "source": [
        "import numpy as np\n",
        "import torch\n",
        "import torch.nn as nn\n",
        "import torch.optim as optim\n",
        "import torch.nn.init as init\n",
        "import torchvision.transforms as transforms\n",
        "from torch.utils.data import DataLoader\n",
        "import matplotlib.pyplot as plt\n",
        "import matplotlib as mpl"
      ]
    },
    {
      "cell_type": "markdown",
      "metadata": {
        "id": "OBDG968zMAiC"
      },
      "source": [
        "### 2) Set hyperparameters"
      ]
    },
    {
      "cell_type": "code",
      "execution_count": 2,
      "metadata": {
        "id": "oxPTgvcjMAiD"
      },
      "outputs": [],
      "source": [
        "batch_size = 256\n",
        "learning_rate = 0.0002\n",
        "num_epochs = 50"
      ]
    },
    {
      "cell_type": "markdown",
      "metadata": {
        "id": "7uaV_HtJMAiG"
      },
      "source": [
        "## 2. Data"
      ]
    },
    {
      "cell_type": "markdown",
      "metadata": {
        "id": "yeRww6jr2iZd"
      },
      "source": [
        "### 1) Download Data"
      ]
    },
    {
      "cell_type": "code",
      "execution_count": 3,
      "metadata": {
        "id": "he-GrlguMAiG",
        "colab": {
          "base_uri": "https://localhost:8080/",
          "height": 443,
          "referenced_widgets": [
            "a6a2632f3db5453f9ad255b0ca5ea251",
            "1482dff97b914601a494c85d2a7b26fd",
            "691330e3870949b78e064a243045dec5",
            "edba010714234c138230671a4837d8c0",
            "d56a53bc0aff475da26caf426b9bb971",
            "01a16c3677b84fb4b253eb90c8bfc278",
            "fe23d06df15b4445b98e3089cddd66d5",
            "48449273329f4f84937135513ac5228a",
            "249faaad76c74cd386fca3fdce4c744e",
            "798c600d86454097956a11b70e89f192",
            "d806b22307d24a64b42ab60d23ea7c0d",
            "5c32dfe9a9824fa88006dc84c4a0e863",
            "ad82acb7a1e64957a00d7bd213eecc7b",
            "be89234c93ce4b26a8070aed962b3b32",
            "7af941f27e1a4ffd9a66f1ef0423bf2f",
            "bc73839332ee4f28abd0cdd8d6f7bd75",
            "b03bf8f81ff6483b82daba6cbfa70dba",
            "be1d8fd75f804c16bedfa238d899c47f",
            "e0c83ceb9a894b7e92e045daa6904404",
            "04704859bbad461d8a09172f1a80f20e",
            "025737b3d8d5491f93b09b7a39cb8eb1",
            "9288cde0035c4e1c9ff0e51aa1f31385",
            "642650c0ea474f6bb28fed13b156c18a",
            "9ece1f1a90cb46cd8b76f398beca715d",
            "1bc8a158b60f4e39aa3085b26c7f6766",
            "aa50a9a6d5bd475f9b20fc4dd82e1aa6",
            "4887027a597e4d939cc47b14b12d5a65",
            "538db3051c8e49fb82c48d35510e181a",
            "5045847febf1492ea291360b731ec12f",
            "4d4cdce98a8d49209ecbfb5736ebc9d6",
            "54465d6cfae94fb6a948d45fe41b3fff",
            "4877a31e0fac4f20a1f4354d97944026",
            "33b66f330e61415ba6b31a541679d56d",
            "9960a95be2bb4a128e2037022c1f21cf",
            "b93a44e342a84f1d8e1b0b75b7cfaa3f",
            "22154ad71c3a46e2a61318d191a21e77",
            "06d49056a80f4d4abc9f73521c8b1169",
            "be4d3b073bb04f57941dafa9f58e406e",
            "bd451077f5e8415cbf0d76b639fbc19e",
            "c74e02bb205746bf8180cf8e094c02fc",
            "73b967dea8144be48ccf8d5ddeb68bd5",
            "3d02cf84e4fd497c946c46f60f3e81bb",
            "a54ebea5891b4f3ba42659e6e5a8d475",
            "5963e49fbc86407ab54ab99c50b3525d"
          ]
        },
        "outputId": "958425eb-199f-4551-b244-f5e102156849"
      },
      "outputs": [
        {
          "output_type": "stream",
          "name": "stdout",
          "text": [
            "Downloading http://yann.lecun.com/exdb/mnist/train-images-idx3-ubyte.gz\n",
            "Downloading http://yann.lecun.com/exdb/mnist/train-images-idx3-ubyte.gz to ./MNIST/raw/train-images-idx3-ubyte.gz\n"
          ]
        },
        {
          "output_type": "display_data",
          "data": {
            "application/vnd.jupyter.widget-view+json": {
              "model_id": "a6a2632f3db5453f9ad255b0ca5ea251",
              "version_minor": 0,
              "version_major": 2
            },
            "text/plain": [
              "  0%|          | 0/9912422 [00:00<?, ?it/s]"
            ]
          },
          "metadata": {}
        },
        {
          "output_type": "stream",
          "name": "stdout",
          "text": [
            "Extracting ./MNIST/raw/train-images-idx3-ubyte.gz to ./MNIST/raw\n",
            "\n",
            "Downloading http://yann.lecun.com/exdb/mnist/train-labels-idx1-ubyte.gz\n",
            "Downloading http://yann.lecun.com/exdb/mnist/train-labels-idx1-ubyte.gz to ./MNIST/raw/train-labels-idx1-ubyte.gz\n"
          ]
        },
        {
          "output_type": "display_data",
          "data": {
            "application/vnd.jupyter.widget-view+json": {
              "model_id": "5c32dfe9a9824fa88006dc84c4a0e863",
              "version_minor": 0,
              "version_major": 2
            },
            "text/plain": [
              "  0%|          | 0/28881 [00:00<?, ?it/s]"
            ]
          },
          "metadata": {}
        },
        {
          "output_type": "stream",
          "name": "stdout",
          "text": [
            "Extracting ./MNIST/raw/train-labels-idx1-ubyte.gz to ./MNIST/raw\n",
            "\n",
            "Downloading http://yann.lecun.com/exdb/mnist/t10k-images-idx3-ubyte.gz\n",
            "Downloading http://yann.lecun.com/exdb/mnist/t10k-images-idx3-ubyte.gz to ./MNIST/raw/t10k-images-idx3-ubyte.gz\n"
          ]
        },
        {
          "output_type": "display_data",
          "data": {
            "application/vnd.jupyter.widget-view+json": {
              "model_id": "642650c0ea474f6bb28fed13b156c18a",
              "version_minor": 0,
              "version_major": 2
            },
            "text/plain": [
              "  0%|          | 0/1648877 [00:00<?, ?it/s]"
            ]
          },
          "metadata": {}
        },
        {
          "output_type": "stream",
          "name": "stdout",
          "text": [
            "Extracting ./MNIST/raw/t10k-images-idx3-ubyte.gz to ./MNIST/raw\n",
            "\n",
            "Downloading http://yann.lecun.com/exdb/mnist/t10k-labels-idx1-ubyte.gz\n",
            "Downloading http://yann.lecun.com/exdb/mnist/t10k-labels-idx1-ubyte.gz to ./MNIST/raw/t10k-labels-idx1-ubyte.gz\n"
          ]
        },
        {
          "output_type": "display_data",
          "data": {
            "application/vnd.jupyter.widget-view+json": {
              "model_id": "9960a95be2bb4a128e2037022c1f21cf",
              "version_minor": 0,
              "version_major": 2
            },
            "text/plain": [
              "  0%|          | 0/4542 [00:00<?, ?it/s]"
            ]
          },
          "metadata": {}
        },
        {
          "output_type": "stream",
          "name": "stdout",
          "text": [
            "Extracting ./MNIST/raw/t10k-labels-idx1-ubyte.gz to ./MNIST/raw\n",
            "\n"
          ]
        }
      ],
      "source": [
        "from torchvision import datasets\n",
        "\n",
        "mnist_train = datasets.MNIST(\"./\", train=True, transform=transforms.ToTensor(), target_transform=None, download=True)\n",
        "mnist_test = datasets.MNIST(\"./\", train=False, transform=transforms.ToTensor(), target_transform=None, download=True)\n",
        "mnist_train, mnist_val = torch.utils.data.random_split(mnist_train, [50000, 10000])"
      ]
    },
    {
      "cell_type": "code",
      "source": [
        "# Q : Print data shape\n",
        "# Hint) data shape (1, 28, 28)\n",
        "mnist_train[0][0].size()"
      ],
      "metadata": {
        "id": "dmc-Mig1nHUz",
        "colab": {
          "base_uri": "https://localhost:8080/"
        },
        "outputId": "d9016fad-b11a-4e56-a30d-26f251a06774"
      },
      "execution_count": 4,
      "outputs": [
        {
          "output_type": "execute_result",
          "data": {
            "text/plain": [
              "torch.Size([1, 28, 28])"
            ]
          },
          "metadata": {},
          "execution_count": 4
        }
      ]
    },
    {
      "cell_type": "code",
      "source": [
        "# first example label\n",
        "mnist_train[0][1]"
      ],
      "metadata": {
        "id": "gQ69Dba7njEX",
        "colab": {
          "base_uri": "https://localhost:8080/"
        },
        "outputId": "1abb8113-4012-4bd9-861a-d98beb6fd6d3"
      },
      "execution_count": 5,
      "outputs": [
        {
          "output_type": "execute_result",
          "data": {
            "text/plain": [
              "5"
            ]
          },
          "metadata": {},
          "execution_count": 5
        }
      ]
    },
    {
      "cell_type": "markdown",
      "metadata": {
        "id": "rKz97cYDMAiJ"
      },
      "source": [
        "### 2) Set DataLoader"
      ]
    },
    {
      "cell_type": "code",
      "execution_count": 6,
      "metadata": {
        "id": "a2YVorheoJKR"
      },
      "outputs": [],
      "source": [
        "# Q : Define three data loader (train, valid, test) using torch.utils.data.DataLoader\n",
        "dataloaders = {}\n",
        "dataloaders['train'] = DataLoader(mnist_train, batch_size=batch_size, shuffle=True)\n",
        "dataloaders['val'] = DataLoader(mnist_val, batch_size=batch_size, shuffle=False)\n",
        "dataloaders['test'] = DataLoader(mnist_test, batch_size=batch_size, shuffle=False)"
      ]
    },
    {
      "cell_type": "code",
      "execution_count": 7,
      "metadata": {
        "colab": {
          "base_uri": "https://localhost:8080/"
        },
        "id": "V83NRcPjaE1t",
        "outputId": "72e4d5b4-ea4a-4fd1-bbf5-770641c2375a"
      },
      "outputs": [
        {
          "output_type": "execute_result",
          "data": {
            "text/plain": [
              "196"
            ]
          },
          "metadata": {},
          "execution_count": 7
        }
      ],
      "source": [
        "len(dataloaders[\"train\"])"
      ]
    },
    {
      "cell_type": "markdown",
      "metadata": {
        "id": "gWlU96lLMAiM"
      },
      "source": [
        "## 3. Model & Optimizer"
      ]
    },
    {
      "cell_type": "markdown",
      "metadata": {
        "id": "vZjl2GHl5gj8"
      },
      "source": [
        "### 1) Model"
      ]
    },
    {
      "cell_type": "code",
      "execution_count": 8,
      "metadata": {
        "id": "mTd6rSIFMAiN"
      },
      "outputs": [],
      "source": [
        "# build your own autoencoder\n",
        "# in my case: 784(28*28) -> 100 -> 30 -> 100 -> 784(28*28)\n",
        "\n",
        "class Autoencoder(nn.Module):\n",
        "    def __init__(self):\n",
        "        super(Autoencoder,self).__init__()\n",
        "        # Q : Define encoder block that two linear layers and ReLU activation\n",
        "        #     first linear layer : input dimension 784, output dimension 100\n",
        "        #     second linear layer : input dimension 100, output dimension 30\n",
        "        # Hint) activation function use after linear layer\n",
        "        self.encoder = nn.Sequential(\n",
        "            nn.Linear(in_features=784, out_features=100),\n",
        "            nn.ReLU(),\n",
        "            nn.Linear(in_features=100, out_features=30),\n",
        "            nn.ReLU()\n",
        "        )\n",
        "\n",
        "        # Q : Define decoder block that two linear layers and ReLU activation\n",
        "        #     linear layer in/out dimension is reversed order of linear layers above the encoder block\n",
        "        # Hint) activation function use after linear layer\n",
        "        self.decoder = nn.Sequential(\n",
        "            nn.Linear(in_features=30, out_features=100),\n",
        "            nn.ReLU(),\n",
        "            nn.Linear(in_features=100, out_features=784),\n",
        "            nn.ReLU()\n",
        "        )\n",
        "\n",
        "                \n",
        "    def forward(self, x):\n",
        "        # Q : Define batch size\n",
        "        # Hint) x.shape -> (batch_size, data shape) \n",
        "        #       data shape is from fourth block\n",
        "        batch_size = x.size(0)\n",
        "\n",
        "        # Q : Reshape x to put encoder block\n",
        "        # Hint) first linear layer input dimension is 784 (28,28)\n",
        "        #       the size -1 is inferred from other dimensions\n",
        "        x = x.view(-1, 28*28)\n",
        "        encoded = self.encoder(x)\n",
        "\n",
        "        # Q : Reshape decoder output to original x shape. Fill the ???\n",
        "        out = self.decoder(encoded).view(batch_size, 1, 28, 28)\n",
        "        return out, encoded\n"
      ]
    },
    {
      "cell_type": "markdown",
      "metadata": {
        "id": "yLiqw-rpMAiP"
      },
      "source": [
        "### 2) Loss func & Optimizer"
      ]
    },
    {
      "cell_type": "code",
      "execution_count": 9,
      "metadata": {
        "colab": {
          "base_uri": "https://localhost:8080/"
        },
        "id": "ZKc1UKNgMAiQ",
        "outputId": "a7ab0c40-fdac-4255-8f20-126adf7651b0"
      },
      "outputs": [
        {
          "output_type": "stream",
          "name": "stdout",
          "text": [
            "cuda:0\n"
          ]
        }
      ],
      "source": [
        "device = torch.device(\"cuda:0\" if torch.cuda.is_available() else \"cpu\")\n",
        "print(device)"
      ]
    },
    {
      "cell_type": "code",
      "source": [
        "# Q : Define model to Autoencoder and load to GPU\n",
        "model = Autoencoder().to(device)"
      ],
      "metadata": {
        "id": "g7PZvkyur5HT"
      },
      "execution_count": 10,
      "outputs": []
    },
    {
      "cell_type": "code",
      "execution_count": 11,
      "metadata": {
        "id": "K9o1euqGI0jm"
      },
      "outputs": [],
      "source": [
        "# Q : Define loss function and optimizer\n",
        "#     We use Mean Squared Loss (MSE loss), and Adam optimizer with defined learning_rate\n",
        "# Hint)\n",
        "# https://pytorch.org/docs/stable/nn.html#loss-functions\n",
        "# https://pytorch.org/docs/stable/generated/torch.optim.Adam.html\n",
        "loss_fn = nn.MSELoss()\n",
        "optimizer = torch.optim.Adam(model.parameters(), lr=learning_rate)"
      ]
    },
    {
      "cell_type": "markdown",
      "metadata": {
        "id": "_W2UI2F_MAiT"
      },
      "source": [
        "## 4. Train "
      ]
    },
    {
      "cell_type": "code",
      "execution_count": 12,
      "metadata": {
        "id": "HSa4Z2lMcGwL"
      },
      "outputs": [],
      "source": [
        "import time\n",
        "import copy\n",
        "\n",
        "def train_model(model, dataloaders, criterion, optimizer, num_epochs=10):\n",
        "    \"\"\"\n",
        "    model: model to train\n",
        "    dataloaders: train, val, test data's loader\n",
        "    criterion: loss function\n",
        "    optimizer: optimizer to update your model\n",
        "    \"\"\"\n",
        "    since = time.time()\n",
        "\n",
        "    train_loss_history = []\n",
        "    val_loss_history = []\n",
        "\n",
        "    best_model_wts = copy.deepcopy(model.state_dict())\n",
        "    best_val_loss = 100000000\n",
        "\n",
        "    for epoch in range(num_epochs):\n",
        "        print('Epoch {}/{}'.format(epoch, num_epochs - 1))\n",
        "        print('-' * 10)\n",
        "\n",
        "        # Each epoch has a training and validation phase\n",
        "        for phase in ['train', 'val']:\n",
        "            if phase == 'train':\n",
        "                # Q : Set model to training mode\n",
        "                model.train()\n",
        "            else:\n",
        "                # Q : Set model to evaluate mode\n",
        "                model.eval()\n",
        "\n",
        "            running_loss = 0.0\n",
        "\n",
        "            # Iterate over data.\n",
        "            for inputs, labels in dataloaders[phase]:\n",
        "                # Load input data to GPU\n",
        "                inputs = inputs.cuda()\n",
        "\n",
        "                # Q : Set parameter gradients zero\n",
        "                # Hint) Related to 'optimizer'\n",
        "                optimizer.zero_grad()\n",
        "\n",
        "                with torch.set_grad_enabled(phase == 'train'):\n",
        "                    # Q : input forward to model and fill ??? in loss function\n",
        "                    outputs, encoded = model(inputs)\n",
        "                    loss = loss_fn(outputs, inputs) # calculate a loss\n",
        "\n",
        "                    # backward + optimize only if in training phase\n",
        "                    if phase == 'train':\n",
        "                        # Q : perform back-propagation and perform gradient descent\n",
        "                        # Hint ) Backprop is related to 'loss' and Gradient descent is related to 'optimizer'\n",
        "                        loss.backward()\n",
        "                        optimizer.step()\n",
        "\n",
        "                # statistics\n",
        "                running_loss += loss.item() * inputs.size(0)\n",
        "\n",
        "            epoch_loss = running_loss / len(dataloaders[phase].dataset)\n",
        "\n",
        "            print('{} Loss: {:.4f}'.format(phase, epoch_loss))\n",
        "            \n",
        "            # deep copy the model\n",
        "            if phase == 'train':\n",
        "                train_loss_history.append(epoch_loss)\n",
        "            \n",
        "            if phase == 'val':\n",
        "                val_loss_history.append(epoch_loss)\n",
        "\n",
        "            if phase == 'val' and epoch_loss < best_val_loss:\n",
        "                best_val_loss = epoch_loss\n",
        "                best_model_wts = copy.deepcopy(model.state_dict())\n",
        "\n",
        "    time_elapsed = time.time() - since\n",
        "    print('Training complete in {:.0f}m {:.0f}s'.format(time_elapsed // 60, time_elapsed % 60))\n",
        "    print('Best val Loss: {:4f}'.format(best_val_loss))\n",
        "\n",
        "    # Q : Load best model weights. Fill ???\n",
        "    model.load_state_dict(best_model_wts)\n",
        "    return model, train_loss_history, val_loss_history"
      ]
    },
    {
      "cell_type": "code",
      "execution_count": 13,
      "metadata": {
        "colab": {
          "base_uri": "https://localhost:8080/"
        },
        "id": "XTgWxvbai42S",
        "outputId": "735cc159-ec22-4861-a851-0d4579dbdfb8",
        "scrolled": false
      },
      "outputs": [
        {
          "output_type": "stream",
          "name": "stdout",
          "text": [
            "Epoch 0/49\n",
            "----------\n",
            "train Loss: 0.0765\n",
            "val Loss: 0.0560\n",
            "Epoch 1/49\n",
            "----------\n",
            "train Loss: 0.0449\n",
            "val Loss: 0.0388\n",
            "Epoch 2/49\n",
            "----------\n",
            "train Loss: 0.0361\n",
            "val Loss: 0.0339\n",
            "Epoch 3/49\n",
            "----------\n",
            "train Loss: 0.0322\n",
            "val Loss: 0.0311\n",
            "Epoch 4/49\n",
            "----------\n",
            "train Loss: 0.0300\n",
            "val Loss: 0.0293\n",
            "Epoch 5/49\n",
            "----------\n",
            "train Loss: 0.0286\n",
            "val Loss: 0.0281\n",
            "Epoch 6/49\n",
            "----------\n",
            "train Loss: 0.0276\n",
            "val Loss: 0.0273\n",
            "Epoch 7/49\n",
            "----------\n",
            "train Loss: 0.0269\n",
            "val Loss: 0.0267\n",
            "Epoch 8/49\n",
            "----------\n",
            "train Loss: 0.0264\n",
            "val Loss: 0.0263\n",
            "Epoch 9/49\n",
            "----------\n",
            "train Loss: 0.0260\n",
            "val Loss: 0.0259\n",
            "Epoch 10/49\n",
            "----------\n",
            "train Loss: 0.0256\n",
            "val Loss: 0.0255\n",
            "Epoch 11/49\n",
            "----------\n",
            "train Loss: 0.0253\n",
            "val Loss: 0.0252\n",
            "Epoch 12/49\n",
            "----------\n",
            "train Loss: 0.0250\n",
            "val Loss: 0.0250\n",
            "Epoch 13/49\n",
            "----------\n",
            "train Loss: 0.0247\n",
            "val Loss: 0.0247\n",
            "Epoch 14/49\n",
            "----------\n",
            "train Loss: 0.0245\n",
            "val Loss: 0.0245\n",
            "Epoch 15/49\n",
            "----------\n",
            "train Loss: 0.0243\n",
            "val Loss: 0.0243\n",
            "Epoch 16/49\n",
            "----------\n",
            "train Loss: 0.0241\n",
            "val Loss: 0.0242\n",
            "Epoch 17/49\n",
            "----------\n",
            "train Loss: 0.0240\n",
            "val Loss: 0.0241\n",
            "Epoch 18/49\n",
            "----------\n",
            "train Loss: 0.0239\n",
            "val Loss: 0.0240\n",
            "Epoch 19/49\n",
            "----------\n",
            "train Loss: 0.0238\n",
            "val Loss: 0.0239\n",
            "Epoch 20/49\n",
            "----------\n",
            "train Loss: 0.0237\n",
            "val Loss: 0.0238\n",
            "Epoch 21/49\n",
            "----------\n",
            "train Loss: 0.0237\n",
            "val Loss: 0.0237\n",
            "Epoch 22/49\n",
            "----------\n",
            "train Loss: 0.0236\n",
            "val Loss: 0.0237\n",
            "Epoch 23/49\n",
            "----------\n",
            "train Loss: 0.0235\n",
            "val Loss: 0.0236\n",
            "Epoch 24/49\n",
            "----------\n",
            "train Loss: 0.0234\n",
            "val Loss: 0.0235\n",
            "Epoch 25/49\n",
            "----------\n",
            "train Loss: 0.0234\n",
            "val Loss: 0.0234\n",
            "Epoch 26/49\n",
            "----------\n",
            "train Loss: 0.0233\n",
            "val Loss: 0.0234\n",
            "Epoch 27/49\n",
            "----------\n",
            "train Loss: 0.0232\n",
            "val Loss: 0.0233\n",
            "Epoch 28/49\n",
            "----------\n",
            "train Loss: 0.0231\n",
            "val Loss: 0.0232\n",
            "Epoch 29/49\n",
            "----------\n",
            "train Loss: 0.0231\n",
            "val Loss: 0.0231\n",
            "Epoch 30/49\n",
            "----------\n",
            "train Loss: 0.0230\n",
            "val Loss: 0.0231\n",
            "Epoch 31/49\n",
            "----------\n",
            "train Loss: 0.0230\n",
            "val Loss: 0.0230\n",
            "Epoch 32/49\n",
            "----------\n",
            "train Loss: 0.0229\n",
            "val Loss: 0.0230\n",
            "Epoch 33/49\n",
            "----------\n",
            "train Loss: 0.0229\n",
            "val Loss: 0.0230\n",
            "Epoch 34/49\n",
            "----------\n",
            "train Loss: 0.0228\n",
            "val Loss: 0.0229\n",
            "Epoch 35/49\n",
            "----------\n",
            "train Loss: 0.0228\n",
            "val Loss: 0.0229\n",
            "Epoch 36/49\n",
            "----------\n",
            "train Loss: 0.0228\n",
            "val Loss: 0.0229\n",
            "Epoch 37/49\n",
            "----------\n",
            "train Loss: 0.0227\n",
            "val Loss: 0.0228\n",
            "Epoch 38/49\n",
            "----------\n",
            "train Loss: 0.0227\n",
            "val Loss: 0.0228\n",
            "Epoch 39/49\n",
            "----------\n",
            "train Loss: 0.0227\n",
            "val Loss: 0.0228\n",
            "Epoch 40/49\n",
            "----------\n",
            "train Loss: 0.0226\n",
            "val Loss: 0.0228\n",
            "Epoch 41/49\n",
            "----------\n",
            "train Loss: 0.0226\n",
            "val Loss: 0.0227\n",
            "Epoch 42/49\n",
            "----------\n",
            "train Loss: 0.0226\n",
            "val Loss: 0.0227\n",
            "Epoch 43/49\n",
            "----------\n",
            "train Loss: 0.0226\n",
            "val Loss: 0.0227\n",
            "Epoch 44/49\n",
            "----------\n",
            "train Loss: 0.0225\n",
            "val Loss: 0.0226\n",
            "Epoch 45/49\n",
            "----------\n",
            "train Loss: 0.0225\n",
            "val Loss: 0.0226\n",
            "Epoch 46/49\n",
            "----------\n",
            "train Loss: 0.0225\n",
            "val Loss: 0.0226\n",
            "Epoch 47/49\n",
            "----------\n",
            "train Loss: 0.0225\n",
            "val Loss: 0.0226\n",
            "Epoch 48/49\n",
            "----------\n",
            "train Loss: 0.0225\n",
            "val Loss: 0.0226\n",
            "Epoch 49/49\n",
            "----------\n",
            "train Loss: 0.0224\n",
            "val Loss: 0.0226\n",
            "Training complete in 6m 30s\n",
            "Best val Loss: 0.022553\n"
          ]
        }
      ],
      "source": [
        "# Train model\n",
        "best_model, train_loss_history, val_loss_history = train_model(model, dataloaders, loss_fn, optimizer, num_epochs=num_epochs)"
      ]
    },
    {
      "cell_type": "code",
      "execution_count": 14,
      "metadata": {
        "colab": {
          "base_uri": "https://localhost:8080/",
          "height": 279
        },
        "id": "CSxdlpwLVjIG",
        "outputId": "5c0aed9b-ed69-454f-9a56-54d34ec02b6d"
      },
      "outputs": [
        {
          "output_type": "display_data",
          "data": {
            "image/png": "[encoded data removed]",
            "text/plain": [
              "<Figure size 432x288 with 1 Axes>"
            ]
          },
          "metadata": {
            "needs_background": "light"
          }
        }
      ],
      "source": [
        "# Let's draw a learning curve like below.\n",
        "plt.plot(train_loss_history, label=\"train loss\")\n",
        "plt.plot(val_loss_history, label=\"val loss\")\n",
        "plt.xlabel(\"epoch\")\n",
        "plt.ylabel(\"loss\")\n",
        "plt.legend()\n",
        "plt.show()"
      ]
    },
    {
      "cell_type": "markdown",
      "metadata": {
        "id": "qbYYgt8WTZzY"
      },
      "source": [
        "## 5. Check with Test Image"
      ]
    },
    {
      "cell_type": "code",
      "execution_count": 15,
      "metadata": {
        "colab": {
          "base_uri": "https://localhost:8080/"
        },
        "id": "XCKx34u5MAic",
        "outputId": "3fc9b205-7c05-4e12-8087-f478a6f1f156"
      },
      "outputs": [
        {
          "output_type": "stream",
          "name": "stdout",
          "text": [
            "0.022326745712757112\n"
          ]
        }
      ],
      "source": [
        "# Q : Implement the trained best model test code (8 lines)\n",
        "#     1. NO gradient calculation\n",
        "#     2. Total loss is to 0.0\n",
        "#     3. Iterate the test dataloader (from defined dataloaders 'dictionary')\n",
        "#     4. Load inputs to GPU\n",
        "#     5. Forward inputs to model (best_model from above training)\n",
        "#     6. Calculate loss\n",
        "#     7. Add to the total loss (2.)\n",
        "#     8. Calculate test loss\n",
        "with torch.no_grad():\n",
        "  total_loss = 0.0\n",
        "  for inputs, labels in dataloaders[\"test\"]:\n",
        "    inputs = inputs.cuda()\n",
        "    outputs, encoded = best_model(inputs)\n",
        "    test_loss = loss_fn(outputs, inputs)\n",
        "    total_loss += test_loss.item() * inputs.size(0)\n",
        "  test_loss = total_loss / len(dataloaders[\"test\"].dataset)\n",
        "\n",
        "print(test_loss)"
      ]
    },
    {
      "cell_type": "code",
      "execution_count": 16,
      "metadata": {
        "colab": {
          "base_uri": "https://localhost:8080/",
          "height": 954
        },
        "id": "rvww5H9GMAie",
        "outputId": "3fd8fc8e-46b0-43ac-c6fc-8087d6f819b2",
        "scrolled": false
      },
      "outputs": [
        {
          "output_type": "stream",
          "name": "stdout",
          "text": [
            "torch.Size([16, 28, 28])\n"
          ]
        },
        {
          "output_type": "display_data",
          "data": {
            "image/png": "[encoded data removed]",
            "text/plain": [
              "<Figure size 432x288 with 2 Axes>"
            ]
          },
          "metadata": {
            "needs_background": "light"
          }
        },
        {
          "output_type": "display_data",
          "data": {
            "image/png": "[encoded data removed]",
            "text/plain": [
              "<Figure size 432x288 with 2 Axes>"
            ]
          },
          "metadata": {
            "needs_background": "light"
          }
        },
        {
          "output_type": "display_data",
          "data": {
            "image/png": "[encoded data removed]",
            "text/plain": [
              "<Figure size 432x288 with 2 Axes>"
            ]
          },
          "metadata": {
            "needs_background": "light"
          }
        },
        {
          "output_type": "display_data",
          "data": {
            "image/png": "[encoded data removed]",
            "text/plain": [
              "<Figure size 432x288 with 2 Axes>"
            ]
          },
          "metadata": {
            "needs_background": "light"
          }
        },
        {
          "output_type": "display_data",
          "data": {
            "image/png": "[encoded data removed]",
            "text/plain": [
              "<Figure size 432x288 with 2 Axes>"
            ]
          },
          "metadata": {
            "needs_background": "light"
          }
        }
      ],
      "source": [
        "# Q : Define output image from model output on CPU\n",
        "# Hint) output image shape is torch.Size([16, 1, 28, 28])\n",
        "# https://pytorch.org/docs/stable/generated/torch.squeeze.html\n",
        "out_img = torch.squeeze(outputs.cpu().data)\n",
        "print(out_img.size())\n",
        "\n",
        "for i in range(5):\n",
        "    plt.subplot(1,2,1)\n",
        "    plt.imshow(torch.squeeze(inputs[i]).cpu().numpy(),cmap='gray')\n",
        "    plt.subplot(1,2,2)\n",
        "    plt.imshow(out_img[i].numpy(),cmap='gray')\n",
        "    plt.show()"
      ]
    },
    {
      "cell_type": "markdown",
      "metadata": {
        "id": "eA994jG-X53U"
      },
      "source": [
        "## 6. Visualizing MNIST"
      ]
    },
    {
      "cell_type": "code",
      "execution_count": 17,
      "metadata": {
        "id": "T_W-7sy8WT54"
      },
      "outputs": [],
      "source": [
        "np.random.seed(42)\n",
        "from sklearn.manifold import TSNE"
      ]
    },
    {
      "cell_type": "code",
      "execution_count": 18,
      "metadata": {
        "id": "IzOQPuxchAJq"
      },
      "outputs": [],
      "source": [
        "test_dataset_array = mnist_test.data.numpy() / 255\n",
        "test_dataset_array = np.float32(test_dataset_array)\n",
        "labels = mnist_test.targets.numpy()"
      ]
    },
    {
      "cell_type": "code",
      "execution_count": 19,
      "metadata": {
        "id": "aPh9EtHZjCqH"
      },
      "outputs": [],
      "source": [
        "# Q : Define model inputs using test_dataset_array (1~2 lines)\n",
        "inputs = torch.tensor(test_dataset_array).cuda()\n",
        "\n",
        "_, encoded = best_model(inputs)\n",
        "encoded = encoded.cpu().detach().numpy()"
      ]
    },
    {
      "cell_type": "code",
      "execution_count": 20,
      "metadata": {
        "id": "7cWVqp0DWUg8",
        "colab": {
          "base_uri": "https://localhost:8080/"
        },
        "outputId": "dc7d5ac5-0430-4045-fb4a-8b60db6e2d8c"
      },
      "outputs": [
        {
          "output_type": "stream",
          "name": "stderr",
          "text": [
            "/usr/local/lib/python3.7/dist-packages/sklearn/manifold/_t_sne.py:783: FutureWarning: The default initialization in TSNE will change from 'random' to 'pca' in 1.2.\n",
            "  FutureWarning,\n",
            "/usr/local/lib/python3.7/dist-packages/sklearn/manifold/_t_sne.py:793: FutureWarning: The default learning rate in TSNE will change from 200.0 to 'auto' in 1.2.\n",
            "  FutureWarning,\n"
          ]
        }
      ],
      "source": [
        "tsne = TSNE()\n",
        "# Q : Embed encoded data using TSNE\n",
        "X_test_2D = tsne.fit_transform(encoded)\n",
        "\n",
        "X_test_2D = (X_test_2D - X_test_2D.min()) / (X_test_2D.max() - X_test_2D.min())"
      ]
    },
    {
      "cell_type": "code",
      "metadata": {
        "id": "XM23epMaXyua",
        "colab": {
          "base_uri": "https://localhost:8080/",
          "height": 248
        },
        "outputId": "6cbc994d-125e-4544-db4e-b0551a66d298"
      },
      "source": [
        "# Q : Fill ??? for scatter plot X, y\n",
        "# Hint) index 0 for data, index 1 for label\n",
        "plt.scatter(X_test_2D[:,0], X_test_2D[:,1], c=labels, s=10, cmap=\"tab10\")\n",
        "plt.axis(\"off\")\n",
        "plt.show()"
      ],
      "execution_count": 21,
      "outputs": [
        {
          "output_type": "display_data",
          "data": {
            "image/png": "[encoded data removed]",
            "text/plain": [
              "<Figure size 432x288 with 1 Axes>"
            ]
          },
          "metadata": {
            "needs_background": "light"
          }
        }
      ]
    },
    {
      "cell_type": "markdown",
      "metadata": {
        "id": "plqT50pDYEqK"
      },
      "source": [
        "Let's make this diagram a bit prettier:"
      ]
    },
    {
      "cell_type": "code",
      "execution_count": 22,
      "metadata": {
        "colab": {
          "base_uri": "https://localhost:8080/",
          "height": 466
        },
        "id": "jbkgwf3zXzI2",
        "outputId": "90d24d8e-d168-4110-c7de-db3e109ec9a2"
      },
      "outputs": [
        {
          "output_type": "display_data",
          "data": {
            "image/png": "[encoded data removed]",
            "text/plain": [
              "<Figure size 720x576 with 1 Axes>"
            ]
          },
          "metadata": {
            "needs_background": "light"
          }
        }
      ],
      "source": [
        "# adapted from https://scikit-learn.org/stable/auto_examples/manifold/plot_lle_digits.html\n",
        "plt.figure(figsize=(10, 8))\n",
        "cmap = plt.cm.tab10\n",
        "plt.scatter(X_test_2D[:, 0], X_test_2D[:, 1], c=labels, s=10, cmap=cmap)\n",
        "image_positions = np.array([[1., 1.]])\n",
        "for index, position in enumerate(X_test_2D):\n",
        "    dist = np.sum((position - image_positions) ** 2, axis=1)\n",
        "    if np.min(dist) > 0.02: # if far enough from other images\n",
        "        image_positions = np.r_[image_positions, [position]]\n",
        "        imagebox = mpl.offsetbox.AnnotationBbox(\n",
        "            mpl.offsetbox.OffsetImage(torch.squeeze(inputs).cpu().numpy()[index], cmap=\"binary\"),\n",
        "            position, bboxprops={\"edgecolor\": cmap(labels[index]), \"lw\": 2})\n",
        "        plt.gca().add_artist(imagebox)\n",
        "plt.axis(\"off\")\n",
        "plt.show()"
      ]
    },
    {
      "cell_type": "markdown",
      "metadata": {
        "id": "fN02iieYcDG2"
      },
      "source": [
        "# Denoising Autoencoder"
      ]
    },
    {
      "cell_type": "code",
      "execution_count": 23,
      "metadata": {
        "id": "2rpW3c1leLf1"
      },
      "outputs": [],
      "source": [
        "# Q : Define model, loss function, optimizer (3 lines)\n",
        "# Hint) Refer to 3.2)\n",
        "model_D = Autoencoder().cuda()\n",
        "loss_fn = nn.MSELoss()\n",
        "optimizer = torch.optim.Adam(model_D.parameters(), lr=learning_rate)"
      ]
    },
    {
      "cell_type": "code",
      "execution_count": 24,
      "metadata": {
        "id": "9sX5Ke5wg3LK"
      },
      "outputs": [],
      "source": [
        "# Q : Add noise to inputs using normal distribution with mean=0, std=0.1\n",
        "#     Copy above train_model() code and just add 'noise part' (add 3~4 lines)\n",
        "# Hint) Reshape noise to same shape of inputs -> (inputs.size(0), 1, 28, 28)\n",
        "#       nn.init.normal : Fills the input Tensor with values drawn from the normal distribution \n",
        "#       https://pytorch.org/docs/stable/nn.init.html#torch.nn.init.normal_\n",
        "\n",
        "def train_model_D(model, dataloaders, criterion, optimizer, num_epochs=10):\n",
        "    \"\"\"\n",
        "    model: model to train\n",
        "    dataloaders: train, val, test data's loader\n",
        "    criterion: loss function\n",
        "    optimizer: optimizer to update your model\n",
        "    \"\"\"\n",
        "    since = time.time()\n",
        "\n",
        "    train_loss_history = []\n",
        "    val_loss_history = []\n",
        "\n",
        "    best_model_wts = copy.deepcopy(model.state_dict())\n",
        "    best_val_loss = 100000000\n",
        "\n",
        "    for epoch in range(num_epochs):\n",
        "        print('Epoch {}/{}'.format(epoch, num_epochs - 1))\n",
        "        print('-' * 10)\n",
        "\n",
        "        # Each epoch has a training and validation phase\n",
        "        for phase in ['train', 'val']:\n",
        "            if phase == 'train':\n",
        "                # Q : Set model to training mode\n",
        "                model.train()\n",
        "            else:\n",
        "                # Q : Set model to evaluate mode\n",
        "                model.eval()\n",
        "\n",
        "            running_loss = 0.0\n",
        "\n",
        "            # Iterate over data.\n",
        "            for inputs, labels in dataloaders[phase]:\n",
        "                # Load input data to GPU\n",
        "                inputs = inputs.cuda()\n",
        "                # Add noise\n",
        "                noise = nn.init.normal_(torch.FloatTensor(inputs.size(0), 1, 28, 28), 0, 0.1).cuda()\n",
        "                noise_inputs = noise + inputs\n",
        "\n",
        "                # Q : Set parameter gradients zero\n",
        "                # Hint) Related to 'optimizer'\n",
        "                optimizer.zero_grad()\n",
        "\n",
        "                with torch.set_grad_enabled(phase == 'train'):\n",
        "                    # Q : input forward to model and fill ??? in loss function\n",
        "                    outputs, encoded = model(noise_inputs)\n",
        "                    loss = loss_fn(outputs, inputs) # calculate a loss\n",
        "\n",
        "                    # backward + optimize only if in training phase\n",
        "                    if phase == 'train':\n",
        "                        # Q : perform back-propagation and perform gradient descent\n",
        "                        # Hint ) Backprop is related to 'loss' and Gradient descent is related to 'optimizer'\n",
        "                        loss.backward()\n",
        "                        optimizer.step()\n",
        "\n",
        "                # statistics\n",
        "                running_loss += loss.item() * inputs.size(0)\n",
        "\n",
        "            epoch_loss = running_loss / len(dataloaders[phase].dataset)\n",
        "\n",
        "            print('{} Loss: {:.4f}'.format(phase, epoch_loss))\n",
        "            \n",
        "            # deep copy the model\n",
        "            if phase == 'train':\n",
        "                train_loss_history.append(epoch_loss)\n",
        "            \n",
        "            if phase == 'val':\n",
        "                val_loss_history.append(epoch_loss)\n",
        "\n",
        "            if phase == 'val' and epoch_loss < best_val_loss:\n",
        "                best_val_loss = epoch_loss\n",
        "                best_model_wts = copy.deepcopy(model.state_dict())\n",
        "\n",
        "    time_elapsed = time.time() - since\n",
        "    print('Training complete in {:.0f}m {:.0f}s'.format(time_elapsed // 60, time_elapsed % 60))\n",
        "    print('Best val Loss: {:4f}'.format(best_val_loss))\n",
        "\n",
        "    # Q : Load best model weights. Fill ???\n",
        "    model.load_state_dict(best_model_wts)\n",
        "    return model, train_loss_history, val_loss_history"
      ]
    },
    {
      "cell_type": "code",
      "execution_count": 25,
      "metadata": {
        "colab": {
          "base_uri": "https://localhost:8080/"
        },
        "id": "9vFT8feZiB1M",
        "outputId": "decf507d-5673-4d25-816d-9c454336ec58",
        "scrolled": false
      },
      "outputs": [
        {
          "output_type": "stream",
          "name": "stdout",
          "text": [
            "Epoch 0/49\n",
            "----------\n",
            "train Loss: 0.0744\n",
            "val Loss: 0.0529\n",
            "Epoch 1/49\n",
            "----------\n",
            "train Loss: 0.0429\n",
            "val Loss: 0.0369\n",
            "Epoch 2/49\n",
            "----------\n",
            "train Loss: 0.0340\n",
            "val Loss: 0.0318\n",
            "Epoch 3/49\n",
            "----------\n",
            "train Loss: 0.0304\n",
            "val Loss: 0.0293\n",
            "Epoch 4/49\n",
            "----------\n",
            "train Loss: 0.0284\n",
            "val Loss: 0.0277\n",
            "Epoch 5/49\n",
            "----------\n",
            "train Loss: 0.0271\n",
            "val Loss: 0.0265\n",
            "Epoch 6/49\n",
            "----------\n",
            "train Loss: 0.0260\n",
            "val Loss: 0.0256\n",
            "Epoch 7/49\n",
            "----------\n",
            "train Loss: 0.0253\n",
            "val Loss: 0.0251\n",
            "Epoch 8/49\n",
            "----------\n",
            "train Loss: 0.0245\n",
            "val Loss: 0.0242\n",
            "Epoch 9/49\n",
            "----------\n",
            "train Loss: 0.0240\n",
            "val Loss: 0.0238\n",
            "Epoch 10/49\n",
            "----------\n",
            "train Loss: 0.0236\n",
            "val Loss: 0.0235\n",
            "Epoch 11/49\n",
            "----------\n",
            "train Loss: 0.0234\n",
            "val Loss: 0.0233\n",
            "Epoch 12/49\n",
            "----------\n",
            "train Loss: 0.0231\n",
            "val Loss: 0.0228\n",
            "Epoch 13/49\n",
            "----------\n",
            "train Loss: 0.0228\n",
            "val Loss: 0.0227\n",
            "Epoch 14/49\n",
            "----------\n",
            "train Loss: 0.0226\n",
            "val Loss: 0.0226\n",
            "Epoch 15/49\n",
            "----------\n",
            "train Loss: 0.0225\n",
            "val Loss: 0.0225\n",
            "Epoch 16/49\n",
            "----------\n",
            "train Loss: 0.0224\n",
            "val Loss: 0.0224\n",
            "Epoch 17/49\n",
            "----------\n",
            "train Loss: 0.0224\n",
            "val Loss: 0.0223\n",
            "Epoch 18/49\n",
            "----------\n",
            "train Loss: 0.0223\n",
            "val Loss: 0.0222\n",
            "Epoch 19/49\n",
            "----------\n",
            "train Loss: 0.0222\n",
            "val Loss: 0.0222\n",
            "Epoch 20/49\n",
            "----------\n",
            "train Loss: 0.0220\n",
            "val Loss: 0.0218\n",
            "Epoch 21/49\n",
            "----------\n",
            "train Loss: 0.0218\n",
            "val Loss: 0.0217\n",
            "Epoch 22/49\n",
            "----------\n",
            "train Loss: 0.0217\n",
            "val Loss: 0.0217\n",
            "Epoch 23/49\n",
            "----------\n",
            "train Loss: 0.0217\n",
            "val Loss: 0.0216\n",
            "Epoch 24/49\n",
            "----------\n",
            "train Loss: 0.0216\n",
            "val Loss: 0.0216\n",
            "Epoch 25/49\n",
            "----------\n",
            "train Loss: 0.0216\n",
            "val Loss: 0.0216\n",
            "Epoch 26/49\n",
            "----------\n",
            "train Loss: 0.0215\n",
            "val Loss: 0.0215\n",
            "Epoch 27/49\n",
            "----------\n",
            "train Loss: 0.0215\n",
            "val Loss: 0.0215\n",
            "Epoch 28/49\n",
            "----------\n",
            "train Loss: 0.0215\n",
            "val Loss: 0.0214\n",
            "Epoch 29/49\n",
            "----------\n",
            "train Loss: 0.0214\n",
            "val Loss: 0.0214\n",
            "Epoch 30/49\n",
            "----------\n",
            "train Loss: 0.0214\n",
            "val Loss: 0.0214\n",
            "Epoch 31/49\n",
            "----------\n",
            "train Loss: 0.0214\n",
            "val Loss: 0.0214\n",
            "Epoch 32/49\n",
            "----------\n",
            "train Loss: 0.0214\n",
            "val Loss: 0.0213\n",
            "Epoch 33/49\n",
            "----------\n",
            "train Loss: 0.0213\n",
            "val Loss: 0.0213\n",
            "Epoch 34/49\n",
            "----------\n",
            "train Loss: 0.0213\n",
            "val Loss: 0.0213\n",
            "Epoch 35/49\n",
            "----------\n",
            "train Loss: 0.0213\n",
            "val Loss: 0.0212\n",
            "Epoch 36/49\n",
            "----------\n",
            "train Loss: 0.0213\n",
            "val Loss: 0.0213\n",
            "Epoch 37/49\n",
            "----------\n",
            "train Loss: 0.0212\n",
            "val Loss: 0.0212\n",
            "Epoch 38/49\n",
            "----------\n",
            "train Loss: 0.0212\n",
            "val Loss: 0.0212\n",
            "Epoch 39/49\n",
            "----------\n",
            "train Loss: 0.0212\n",
            "val Loss: 0.0212\n",
            "Epoch 40/49\n",
            "----------\n",
            "train Loss: 0.0212\n",
            "val Loss: 0.0212\n",
            "Epoch 41/49\n",
            "----------\n",
            "train Loss: 0.0212\n",
            "val Loss: 0.0211\n",
            "Epoch 42/49\n",
            "----------\n",
            "train Loss: 0.0211\n",
            "val Loss: 0.0211\n",
            "Epoch 43/49\n",
            "----------\n",
            "train Loss: 0.0211\n",
            "val Loss: 0.0211\n",
            "Epoch 44/49\n",
            "----------\n",
            "train Loss: 0.0211\n",
            "val Loss: 0.0211\n",
            "Epoch 45/49\n",
            "----------\n",
            "train Loss: 0.0211\n",
            "val Loss: 0.0211\n",
            "Epoch 46/49\n",
            "----------\n",
            "train Loss: 0.0211\n",
            "val Loss: 0.0211\n",
            "Epoch 47/49\n",
            "----------\n",
            "train Loss: 0.0211\n",
            "val Loss: 0.0211\n",
            "Epoch 48/49\n",
            "----------\n",
            "train Loss: 0.0210\n",
            "val Loss: 0.0210\n",
            "Epoch 49/49\n",
            "----------\n",
            "train Loss: 0.0210\n",
            "val Loss: 0.0210\n",
            "Training complete in 6m 54s\n",
            "Best val Loss: 0.021042\n"
          ]
        }
      ],
      "source": [
        "best_model_D, train_loss_history_D, val_loss_history_D = train_model_D(model_D, dataloaders, loss_fn, optimizer, num_epochs=num_epochs)"
      ]
    },
    {
      "cell_type": "code",
      "execution_count": 26,
      "metadata": {
        "colab": {
          "base_uri": "https://localhost:8080/",
          "height": 279
        },
        "id": "c7ru3Gq-VQPX",
        "outputId": "f5009da6-8a83-44ff-9115-4e1e213d85f7"
      },
      "outputs": [
        {
          "output_type": "display_data",
          "data": {
            "image/png": "[encoded data removed]",
            "text/plain": [
              "<Figure size 432x288 with 1 Axes>"
            ]
          },
          "metadata": {
            "needs_background": "light"
          }
        }
      ],
      "source": [
        "plt.plot(train_loss_history_D, label=\"train\")\n",
        "plt.plot(val_loss_history_D, label=\"val\")\n",
        "plt.xlabel(\"epoch\")\n",
        "plt.ylabel(\"loss\")\n",
        "plt.legend()\n",
        "plt.show()"
      ]
    },
    {
      "cell_type": "code",
      "execution_count": 27,
      "metadata": {
        "colab": {
          "base_uri": "https://localhost:8080/"
        },
        "id": "i4OOPlpveiFL",
        "outputId": "108348ad-fc9d-464b-8383-6a8980ec062f"
      },
      "outputs": [
        {
          "output_type": "stream",
          "name": "stdout",
          "text": [
            "0.020813325116038322\n"
          ]
        }
      ],
      "source": [
        "# Q : Add noise to inputs using normal distribution with mean=0, std=0.1 \n",
        "#     Copy above model test code (in 5. Check with Test Image) and just add 'noise part' (add 3~4 lines)\n",
        "# Hint) Reshape noise to same shape of inputs -> (inputs.size(0), 1, 28, 28)\n",
        "#       nn.init.normal : Fills the input Tensor with values drawn from the normal distribution \n",
        "#       https://pytorch.org/docs/stable/nn.init.html#torch.nn.init.normal_\n",
        "with torch.no_grad():\n",
        "    total_loss = 0.0\n",
        "    for inputs, labels in dataloaders[\"test\"]:\n",
        "        inputs = inputs.cuda()\n",
        "        noise = nn.init.normal_(torch.FloatTensor(inputs.size(0), 1, 28, 28), 0, 0.1).cuda()\n",
        "        noise_inputs = noise + inputs\n",
        "        outputs, encoded = best_model_D(noise_inputs)\n",
        "        test_loss = loss_fn(outputs, inputs)\n",
        "        total_loss += test_loss.item() * inputs.size(0)\n",
        "    test_loss = total_loss / len(dataloaders[\"test\"].dataset)\n",
        "\n",
        "print(test_loss)\n"
      ]
    },
    {
      "cell_type": "code",
      "execution_count": 28,
      "metadata": {
        "colab": {
          "base_uri": "https://localhost:8080/",
          "height": 1000
        },
        "id": "e_VzzQ4Te1Gm",
        "outputId": "33ff5153-fcc8-496e-b900-727502132269"
      },
      "outputs": [
        {
          "output_type": "stream",
          "name": "stdout",
          "text": [
            "torch.Size([16, 28, 28])\n"
          ]
        },
        {
          "output_type": "display_data",
          "data": {
            "image/png": "[encoded data removed]",
            "text/plain": [
              "<Figure size 432x288 with 2 Axes>"
            ]
          },
          "metadata": {
            "needs_background": "light"
          }
        },
        {
          "output_type": "display_data",
          "data": {
            "image/png": "[encoded data removed]",
            "text/plain": [
              "<Figure size 432x288 with 2 Axes>"
            ]
          },
          "metadata": {
            "needs_background": "light"
          }
        },
        {
          "output_type": "display_data",
          "data": {
            "image/png": "[encoded data removed]",
            "text/plain": [
              "<Figure size 432x288 with 2 Axes>"
            ]
          },
          "metadata": {
            "needs_background": "light"
          }
        },
        {
          "output_type": "display_data",
          "data": {
            "image/png": "[encoded data removed]",
            "text/plain": [
              "<Figure size 432x288 with 2 Axes>"
            ]
          },
          "metadata": {
            "needs_background": "light"
          }
        },
        {
          "output_type": "display_data",
          "data": {
            "image/png": "[encoded data removed]",
            "text/plain": [
              "<Figure size 432x288 with 2 Axes>"
            ]
          },
          "metadata": {
            "needs_background": "light"
          }
        },
        {
          "output_type": "display_data",
          "data": {
            "image/png": "[encoded data removed]",
            "text/plain": [
              "<Figure size 432x288 with 2 Axes>"
            ]
          },
          "metadata": {
            "needs_background": "light"
          }
        },
        {
          "output_type": "display_data",
          "data": {
            "image/png": "[encoded data removed]",
            "text/plain": [
              "<Figure size 432x288 with 2 Axes>"
            ]
          },
          "metadata": {
            "needs_background": "light"
          }
        },
        {
          "output_type": "display_data",
          "data": {
            "image/png": "[encoded data removed]",
            "text/plain": [
              "<Figure size 432x288 with 2 Axes>"
            ]
          },
          "metadata": {
            "needs_background": "light"
          }
        },
        {
          "output_type": "display_data",
          "data": {
            "image/png": "[encoded data removed]",
            "text/plain": [
              "<Figure size 432x288 with 2 Axes>"
            ]
          },
          "metadata": {
            "needs_background": "light"
          }
        },
        {
          "output_type": "display_data",
          "data": {
            "image/png": "[encoded data removed]",
            "text/plain": [
              "<Figure size 432x288 with 2 Axes>"
            ]
          },
          "metadata": {
            "needs_background": "light"
          }
        }
      ],
      "source": [
        "# Q : print out 10 images using code in 5. Check with Test Image\n",
        "out_img = torch.squeeze(outputs.cpu().data)\n",
        "print(out_img.size())\n",
        "\n",
        "for i in range(10):\n",
        "    plt.subplot(1,2,1)\n",
        "    plt.imshow(torch.squeeze(noise_inputs[i]).cpu().numpy(),cmap='gray')\n",
        "    plt.subplot(1,2,2)\n",
        "    plt.imshow(out_img[i].numpy(),cmap='gray')\n",
        "    plt.show()"
      ]
    }
  ],
  "metadata": {
    "accelerator": "GPU",
    "colab": {
      "collapsed_sections": [],
      "name": "PyTorch_Study_04_Autoencoder(Solution).ipynb",
      "provenance": [],
      "include_colab_link": true
    },
    "kernelspec": {
      "display_name": "Python 3",
      "language": "python",
      "name": "python3"
    },
    "language_info": {
      "codemirror_mode": {
        "name": "ipython",
        "version": 3
      },
      "file_extension": ".py",
      "mimetype": "text/x-python",
      "name": "python",
      "nbconvert_exporter": "python",
      "pygments_lexer": "ipython3",
      "version": "3.8.5"
    },
    "widgets": {
      "application/vnd.jupyter.widget-state+json": {
        "a6a2632f3db5453f9ad255b0ca5ea251": {
          "model_module": "@jupyter-widgets/controls",
          "model_name": "HBoxModel",
          "model_module_version": "1.5.0",
          "state": {
            "_view_name": "HBoxView",
            "_dom_classes": [],
            "_model_name": "HBoxModel",
            "_view_module": "@jupyter-widgets/controls",
            "_model_module_version": "1.5.0",
            "_view_count": null,
            "_view_module_version": "1.5.0",
            "box_style": "",
            "layout": "IPY_MODEL_1482dff97b914601a494c85d2a7b26fd",
            "_model_module": "@jupyter-widgets/controls",
            "children": [
              "IPY_MODEL_691330e3870949b78e064a243045dec5",
              "IPY_MODEL_edba010714234c138230671a4837d8c0",
              "IPY_MODEL_d56a53bc0aff475da26caf426b9bb971"
            ]
          }
        },
        "1482dff97b914601a494c85d2a7b26fd": {
          "model_module": "@jupyter-widgets/base",
          "model_name": "LayoutModel",
          "model_module_version": "1.2.0",
          "state": {
            "_view_name": "LayoutView",
            "grid_template_rows": null,
            "right": null,
            "justify_content": null,
            "_view_module": "@jupyter-widgets/base",
            "overflow": null,
            "_model_module_version": "1.2.0",
            "_view_count": null,
            "flex_flow": null,
            "width": null,
            "min_width": null,
            "border": null,
            "align_items": null,
            "bottom": null,
            "_model_module": "@jupyter-widgets/base",
            "top": null,
            "grid_column": null,
            "overflow_y": null,
            "overflow_x": null,
            "grid_auto_flow": null,
            "grid_area": null,
            "grid_template_columns": null,
            "flex": null,
            "_model_name": "LayoutModel",
            "justify_items": null,
            "grid_row": null,
            "max_height": null,
            "align_content": null,
            "visibility": null,
            "align_self": null,
            "height": null,
            "min_height": null,
            "padding": null,
            "grid_auto_rows": null,
            "grid_gap": null,
            "max_width": null,
            "order": null,
            "_view_module_version": "1.2.0",
            "grid_template_areas": null,
            "object_position": null,
            "object_fit": null,
            "grid_auto_columns": null,
            "margin": null,
            "display": null,
            "left": null
          }
        },
        "691330e3870949b78e064a243045dec5": {
          "model_module": "@jupyter-widgets/controls",
          "model_name": "HTMLModel",
          "model_module_version": "1.5.0",
          "state": {
            "_view_name": "HTMLView",
            "style": "IPY_MODEL_01a16c3677b84fb4b253eb90c8bfc278",
            "_dom_classes": [],
            "description": "",
            "_model_name": "HTMLModel",
            "placeholder": "​",
            "_view_module": "@jupyter-widgets/controls",
            "_model_module_version": "1.5.0",
            "value": "",
            "_view_count": null,
            "_view_module_version": "1.5.0",
            "description_tooltip": null,
            "_model_module": "@jupyter-widgets/controls",
            "layout": "IPY_MODEL_fe23d06df15b4445b98e3089cddd66d5"
          }
        },
        "edba010714234c138230671a4837d8c0": {
          "model_module": "@jupyter-widgets/controls",
          "model_name": "FloatProgressModel",
          "model_module_version": "1.5.0",
          "state": {
            "_view_name": "ProgressView",
            "style": "IPY_MODEL_48449273329f4f84937135513ac5228a",
            "_dom_classes": [],
            "description": "",
            "_model_name": "FloatProgressModel",
            "bar_style": "success",
            "max": 9912422,
            "_view_module": "@jupyter-widgets/controls",
            "_model_module_version": "1.5.0",
            "value": 9912422,
            "_view_count": null,
            "_view_module_version": "1.5.0",
            "orientation": "horizontal",
            "min": 0,
            "description_tooltip": null,
            "_model_module": "@jupyter-widgets/controls",
            "layout": "IPY_MODEL_249faaad76c74cd386fca3fdce4c744e"
          }
        },
        "d56a53bc0aff475da26caf426b9bb971": {
          "model_module": "@jupyter-widgets/controls",
          "model_name": "HTMLModel",
          "model_module_version": "1.5.0",
          "state": {
            "_view_name": "HTMLView",
            "style": "IPY_MODEL_798c600d86454097956a11b70e89f192",
            "_dom_classes": [],
            "description": "",
            "_model_name": "HTMLModel",
            "placeholder": "​",
            "_view_module": "@jupyter-widgets/controls",
            "_model_module_version": "1.5.0",
            "value": " 9913344/? [00:00&lt;00:00, 24946360.76it/s]",
            "_view_count": null,
            "_view_module_version": "1.5.0",
            "description_tooltip": null,
            "_model_module": "@jupyter-widgets/controls",
            "layout": "IPY_MODEL_d806b22307d24a64b42ab60d23ea7c0d"
          }
        },
        "01a16c3677b84fb4b253eb90c8bfc278": {
          "model_module": "@jupyter-widgets/controls",
          "model_name": "DescriptionStyleModel",
          "model_module_version": "1.5.0",
          "state": {
            "_view_name": "StyleView",
            "_model_name": "DescriptionStyleModel",
            "description_width": "",
            "_view_module": "@jupyter-widgets/base",
            "_model_module_version": "1.5.0",
            "_view_count": null,
            "_view_module_version": "1.2.0",
            "_model_module": "@jupyter-widgets/controls"
          }
        },
        "fe23d06df15b4445b98e3089cddd66d5": {
          "model_module": "@jupyter-widgets/base",
          "model_name": "LayoutModel",
          "model_module_version": "1.2.0",
          "state": {
            "_view_name": "LayoutView",
            "grid_template_rows": null,
            "right": null,
            "justify_content": null,
            "_view_module": "@jupyter-widgets/base",
            "overflow": null,
            "_model_module_version": "1.2.0",
            "_view_count": null,
            "flex_flow": null,
            "width": null,
            "min_width": null,
            "border": null,
            "align_items": null,
            "bottom": null,
            "_model_module": "@jupyter-widgets/base",
            "top": null,
            "grid_column": null,
            "overflow_y": null,
            "overflow_x": null,
            "grid_auto_flow": null,
            "grid_area": null,
            "grid_template_columns": null,
            "flex": null,
            "_model_name": "LayoutModel",
            "justify_items": null,
            "grid_row": null,
            "max_height": null,
            "align_content": null,
            "visibility": null,
            "align_self": null,
            "height": null,
            "min_height": null,
            "padding": null,
            "grid_auto_rows": null,
            "grid_gap": null,
            "max_width": null,
            "order": null,
            "_view_module_version": "1.2.0",
            "grid_template_areas": null,
            "object_position": null,
            "object_fit": null,
            "grid_auto_columns": null,
            "margin": null,
            "display": null,
            "left": null
          }
        },
        "48449273329f4f84937135513ac5228a": {
          "model_module": "@jupyter-widgets/controls",
          "model_name": "ProgressStyleModel",
          "model_module_version": "1.5.0",
          "state": {
            "_view_name": "StyleView",
            "_model_name": "ProgressStyleModel",
            "description_width": "",
            "_view_module": "@jupyter-widgets/base",
            "_model_module_version": "1.5.0",
            "_view_count": null,
            "_view_module_version": "1.2.0",
            "bar_color": null,
            "_model_module": "@jupyter-widgets/controls"
          }
        },
        "249faaad76c74cd386fca3fdce4c744e": {
          "model_module": "@jupyter-widgets/base",
          "model_name": "LayoutModel",
          "model_module_version": "1.2.0",
          "state": {
            "_view_name": "LayoutView",
            "grid_template_rows": null,
            "right": null,
            "justify_content": null,
            "_view_module": "@jupyter-widgets/base",
            "overflow": null,
            "_model_module_version": "1.2.0",
            "_view_count": null,
            "flex_flow": null,
            "width": null,
            "min_width": null,
            "border": null,
            "align_items": null,
            "bottom": null,
            "_model_module": "@jupyter-widgets/base",
            "top": null,
            "grid_column": null,
            "overflow_y": null,
            "overflow_x": null,
            "grid_auto_flow": null,
            "grid_area": null,
            "grid_template_columns": null,
            "flex": null,
            "_model_name": "LayoutModel",
            "justify_items": null,
            "grid_row": null,
            "max_height": null,
            "align_content": null,
            "visibility": null,
            "align_self": null,
            "height": null,
            "min_height": null,
            "padding": null,
            "grid_auto_rows": null,
            "grid_gap": null,
            "max_width": null,
            "order": null,
            "_view_module_version": "1.2.0",
            "grid_template_areas": null,
            "object_position": null,
            "object_fit": null,
            "grid_auto_columns": null,
            "margin": null,
            "display": null,
            "left": null
          }
        },
        "798c600d86454097956a11b70e89f192": {
          "model_module": "@jupyter-widgets/controls",
          "model_name": "DescriptionStyleModel",
          "model_module_version": "1.5.0",
          "state": {
            "_view_name": "StyleView",
            "_model_name": "DescriptionStyleModel",
            "description_width": "",
            "_view_module": "@jupyter-widgets/base",
            "_model_module_version": "1.5.0",
            "_view_count": null,
            "_view_module_version": "1.2.0",
            "_model_module": "@jupyter-widgets/controls"
          }
        },
        "d806b22307d24a64b42ab60d23ea7c0d": {
          "model_module": "@jupyter-widgets/base",
          "model_name": "LayoutModel",
          "model_module_version": "1.2.0",
          "state": {
            "_view_name": "LayoutView",
            "grid_template_rows": null,
            "right": null,
            "justify_content": null,
            "_view_module": "@jupyter-widgets/base",
            "overflow": null,
            "_model_module_version": "1.2.0",
            "_view_count": null,
            "flex_flow": null,
            "width": null,
            "min_width": null,
            "border": null,
            "align_items": null,
            "bottom": null,
            "_model_module": "@jupyter-widgets/base",
            "top": null,
            "grid_column": null,
            "overflow_y": null,
            "overflow_x": null,
            "grid_auto_flow": null,
            "grid_area": null,
            "grid_template_columns": null,
            "flex": null,
            "_model_name": "LayoutModel",
            "justify_items": null,
            "grid_row": null,
            "max_height": null,
            "align_content": null,
            "visibility": null,
            "align_self": null,
            "height": null,
            "min_height": null,
            "padding": null,
            "grid_auto_rows": null,
            "grid_gap": null,
            "max_width": null,
            "order": null,
            "_view_module_version": "1.2.0",
            "grid_template_areas": null,
            "object_position": null,
            "object_fit": null,
            "grid_auto_columns": null,
            "margin": null,
            "display": null,
            "left": null
          }
        },
        "5c32dfe9a9824fa88006dc84c4a0e863": {
          "model_module": "@jupyter-widgets/controls",
          "model_name": "HBoxModel",
          "model_module_version": "1.5.0",
          "state": {
            "_view_name": "HBoxView",
            "_dom_classes": [],
            "_model_name": "HBoxModel",
            "_view_module": "@jupyter-widgets/controls",
            "_model_module_version": "1.5.0",
            "_view_count": null,
            "_view_module_version": "1.5.0",
            "box_style": "",
            "layout": "IPY_MODEL_ad82acb7a1e64957a00d7bd213eecc7b",
            "_model_module": "@jupyter-widgets/controls",
            "children": [
              "IPY_MODEL_be89234c93ce4b26a8070aed962b3b32",
              "IPY_MODEL_7af941f27e1a4ffd9a66f1ef0423bf2f",
              "IPY_MODEL_bc73839332ee4f28abd0cdd8d6f7bd75"
            ]
          }
        },
        "ad82acb7a1e64957a00d7bd213eecc7b": {
          "model_module": "@jupyter-widgets/base",
          "model_name": "LayoutModel",
          "model_module_version": "1.2.0",
          "state": {
            "_view_name": "LayoutView",
            "grid_template_rows": null,
            "right": null,
            "justify_content": null,
            "_view_module": "@jupyter-widgets/base",
            "overflow": null,
            "_model_module_version": "1.2.0",
            "_view_count": null,
            "flex_flow": null,
            "width": null,
            "min_width": null,
            "border": null,
            "align_items": null,
            "bottom": null,
            "_model_module": "@jupyter-widgets/base",
            "top": null,
            "grid_column": null,
            "overflow_y": null,
            "overflow_x": null,
            "grid_auto_flow": null,
            "grid_area": null,
            "grid_template_columns": null,
            "flex": null,
            "_model_name": "LayoutModel",
            "justify_items": null,
            "grid_row": null,
            "max_height": null,
            "align_content": null,
            "visibility": null,
            "align_self": null,
            "height": null,
            "min_height": null,
            "padding": null,
            "grid_auto_rows": null,
            "grid_gap": null,
            "max_width": null,
            "order": null,
            "_view_module_version": "1.2.0",
            "grid_template_areas": null,
            "object_position": null,
            "object_fit": null,
            "grid_auto_columns": null,
            "margin": null,
            "display": null,
            "left": null
          }
        },
        "be89234c93ce4b26a8070aed962b3b32": {
          "model_module": "@jupyter-widgets/controls",
          "model_name": "HTMLModel",
          "model_module_version": "1.5.0",
          "state": {
            "_view_name": "HTMLView",
            "style": "IPY_MODEL_b03bf8f81ff6483b82daba6cbfa70dba",
            "_dom_classes": [],
            "description": "",
            "_model_name": "HTMLModel",
            "placeholder": "​",
            "_view_module": "@jupyter-widgets/controls",
            "_model_module_version": "1.5.0",
            "value": "",
            "_view_count": null,
            "_view_module_version": "1.5.0",
            "description_tooltip": null,
            "_model_module": "@jupyter-widgets/controls",
            "layout": "IPY_MODEL_be1d8fd75f804c16bedfa238d899c47f"
          }
        },
        "7af941f27e1a4ffd9a66f1ef0423bf2f": {
          "model_module": "@jupyter-widgets/controls",
          "model_name": "FloatProgressModel",
          "model_module_version": "1.5.0",
          "state": {
            "_view_name": "ProgressView",
            "style": "IPY_MODEL_e0c83ceb9a894b7e92e045daa6904404",
            "_dom_classes": [],
            "description": "",
            "_model_name": "FloatProgressModel",
            "bar_style": "success",
            "max": 28881,
            "_view_module": "@jupyter-widgets/controls",
            "_model_module_version": "1.5.0",
            "value": 28881,
            "_view_count": null,
            "_view_module_version": "1.5.0",
            "orientation": "horizontal",
            "min": 0,
            "description_tooltip": null,
            "_model_module": "@jupyter-widgets/controls",
            "layout": "IPY_MODEL_04704859bbad461d8a09172f1a80f20e"
          }
        },
        "bc73839332ee4f28abd0cdd8d6f7bd75": {
          "model_module": "@jupyter-widgets/controls",
          "model_name": "HTMLModel",
          "model_module_version": "1.5.0",
          "state": {
            "_view_name": "HTMLView",
            "style": "IPY_MODEL_025737b3d8d5491f93b09b7a39cb8eb1",
            "_dom_classes": [],
            "description": "",
            "_model_name": "HTMLModel",
            "placeholder": "​",
            "_view_module": "@jupyter-widgets/controls",
            "_model_module_version": "1.5.0",
            "value": " 29696/? [00:00&lt;00:00, 702223.31it/s]",
            "_view_count": null,
            "_view_module_version": "1.5.0",
            "description_tooltip": null,
            "_model_module": "@jupyter-widgets/controls",
            "layout": "IPY_MODEL_9288cde0035c4e1c9ff0e51aa1f31385"
          }
        },
        "b03bf8f81ff6483b82daba6cbfa70dba": {
          "model_module": "@jupyter-widgets/controls",
          "model_name": "DescriptionStyleModel",
          "model_module_version": "1.5.0",
          "state": {
            "_view_name": "StyleView",
            "_model_name": "DescriptionStyleModel",
            "description_width": "",
            "_view_module": "@jupyter-widgets/base",
            "_model_module_version": "1.5.0",
            "_view_count": null,
            "_view_module_version": "1.2.0",
            "_model_module": "@jupyter-widgets/controls"
          }
        },
        "be1d8fd75f804c16bedfa238d899c47f": {
          "model_module": "@jupyter-widgets/base",
          "model_name": "LayoutModel",
          "model_module_version": "1.2.0",
          "state": {
            "_view_name": "LayoutView",
            "grid_template_rows": null,
            "right": null,
            "justify_content": null,
            "_view_module": "@jupyter-widgets/base",
            "overflow": null,
            "_model_module_version": "1.2.0",
            "_view_count": null,
            "flex_flow": null,
            "width": null,
            "min_width": null,
            "border": null,
            "align_items": null,
            "bottom": null,
            "_model_module": "@jupyter-widgets/base",
            "top": null,
            "grid_column": null,
            "overflow_y": null,
            "overflow_x": null,
            "grid_auto_flow": null,
            "grid_area": null,
            "grid_template_columns": null,
            "flex": null,
            "_model_name": "LayoutModel",
            "justify_items": null,
            "grid_row": null,
            "max_height": null,
            "align_content": null,
            "visibility": null,
            "align_self": null,
            "height": null,
            "min_height": null,
            "padding": null,
            "grid_auto_rows": null,
            "grid_gap": null,
            "max_width": null,
            "order": null,
            "_view_module_version": "1.2.0",
            "grid_template_areas": null,
            "object_position": null,
            "object_fit": null,
            "grid_auto_columns": null,
            "margin": null,
            "display": null,
            "left": null
          }
        },
        "e0c83ceb9a894b7e92e045daa6904404": {
          "model_module": "@jupyter-widgets/controls",
          "model_name": "ProgressStyleModel",
          "model_module_version": "1.5.0",
          "state": {
            "_view_name": "StyleView",
            "_model_name": "ProgressStyleModel",
            "description_width": "",
            "_view_module": "@jupyter-widgets/base",
            "_model_module_version": "1.5.0",
            "_view_count": null,
            "_view_module_version": "1.2.0",
            "bar_color": null,
            "_model_module": "@jupyter-widgets/controls"
          }
        },
        "04704859bbad461d8a09172f1a80f20e": {
          "model_module": "@jupyter-widgets/base",
          "model_name": "LayoutModel",
          "model_module_version": "1.2.0",
          "state": {
            "_view_name": "LayoutView",
            "grid_template_rows": null,
            "right": null,
            "justify_content": null,
            "_view_module": "@jupyter-widgets/base",
            "overflow": null,
            "_model_module_version": "1.2.0",
            "_view_count": null,
            "flex_flow": null,
            "width": null,
            "min_width": null,
            "border": null,
            "align_items": null,
            "bottom": null,
            "_model_module": "@jupyter-widgets/base",
            "top": null,
            "grid_column": null,
            "overflow_y": null,
            "overflow_x": null,
            "grid_auto_flow": null,
            "grid_area": null,
            "grid_template_columns": null,
            "flex": null,
            "_model_name": "LayoutModel",
            "justify_items": null,
            "grid_row": null,
            "max_height": null,
            "align_content": null,
            "visibility": null,
            "align_self": null,
            "height": null,
            "min_height": null,
            "padding": null,
            "grid_auto_rows": null,
            "grid_gap": null,
            "max_width": null,
            "order": null,
            "_view_module_version": "1.2.0",
            "grid_template_areas": null,
            "object_position": null,
            "object_fit": null,
            "grid_auto_columns": null,
            "margin": null,
            "display": null,
            "left": null
          }
        },
        "025737b3d8d5491f93b09b7a39cb8eb1": {
          "model_module": "@jupyter-widgets/controls",
          "model_name": "DescriptionStyleModel",
          "model_module_version": "1.5.0",
          "state": {
            "_view_name": "StyleView",
            "_model_name": "DescriptionStyleModel",
            "description_width": "",
            "_view_module": "@jupyter-widgets/base",
            "_model_module_version": "1.5.0",
            "_view_count": null,
            "_view_module_version": "1.2.0",
            "_model_module": "@jupyter-widgets/controls"
          }
        },
        "9288cde0035c4e1c9ff0e51aa1f31385": {
          "model_module": "@jupyter-widgets/base",
          "model_name": "LayoutModel",
          "model_module_version": "1.2.0",
          "state": {
            "_view_name": "LayoutView",
            "grid_template_rows": null,
            "right": null,
            "justify_content": null,
            "_view_module": "@jupyter-widgets/base",
            "overflow": null,
            "_model_module_version": "1.2.0",
            "_view_count": null,
            "flex_flow": null,
            "width": null,
            "min_width": null,
            "border": null,
            "align_items": null,
            "bottom": null,
            "_model_module": "@jupyter-widgets/base",
            "top": null,
            "grid_column": null,
            "overflow_y": null,
            "overflow_x": null,
            "grid_auto_flow": null,
            "grid_area": null,
            "grid_template_columns": null,
            "flex": null,
            "_model_name": "LayoutModel",
            "justify_items": null,
            "grid_row": null,
            "max_height": null,
            "align_content": null,
            "visibility": null,
            "align_self": null,
            "height": null,
            "min_height": null,
            "padding": null,
            "grid_auto_rows": null,
            "grid_gap": null,
            "max_width": null,
            "order": null,
            "_view_module_version": "1.2.0",
            "grid_template_areas": null,
            "object_position": null,
            "object_fit": null,
            "grid_auto_columns": null,
            "margin": null,
            "display": null,
            "left": null
          }
        },
        "642650c0ea474f6bb28fed13b156c18a": {
          "model_module": "@jupyter-widgets/controls",
          "model_name": "HBoxModel",
          "model_module_version": "1.5.0",
          "state": {
            "_view_name": "HBoxView",
            "_dom_classes": [],
            "_model_name": "HBoxModel",
            "_view_module": "@jupyter-widgets/controls",
            "_model_module_version": "1.5.0",
            "_view_count": null,
            "_view_module_version": "1.5.0",
            "box_style": "",
            "layout": "IPY_MODEL_9ece1f1a90cb46cd8b76f398beca715d",
            "_model_module": "@jupyter-widgets/controls",
            "children": [
              "IPY_MODEL_1bc8a158b60f4e39aa3085b26c7f6766",
              "IPY_MODEL_aa50a9a6d5bd475f9b20fc4dd82e1aa6",
              "IPY_MODEL_4887027a597e4d939cc47b14b12d5a65"
            ]
          }
        },
        "9ece1f1a90cb46cd8b76f398beca715d": {
          "model_module": "@jupyter-widgets/base",
          "model_name": "LayoutModel",
          "model_module_version": "1.2.0",
          "state": {
            "_view_name": "LayoutView",
            "grid_template_rows": null,
            "right": null,
            "justify_content": null,
            "_view_module": "@jupyter-widgets/base",
            "overflow": null,
            "_model_module_version": "1.2.0",
            "_view_count": null,
            "flex_flow": null,
            "width": null,
            "min_width": null,
            "border": null,
            "align_items": null,
            "bottom": null,
            "_model_module": "@jupyter-widgets/base",
            "top": null,
            "grid_column": null,
            "overflow_y": null,
            "overflow_x": null,
            "grid_auto_flow": null,
            "grid_area": null,
            "grid_template_columns": null,
            "flex": null,
            "_model_name": "LayoutModel",
            "justify_items": null,
            "grid_row": null,
            "max_height": null,
            "align_content": null,
            "visibility": null,
            "align_self": null,
            "height": null,
            "min_height": null,
            "padding": null,
            "grid_auto_rows": null,
            "grid_gap": null,
            "max_width": null,
            "order": null,
            "_view_module_version": "1.2.0",
            "grid_template_areas": null,
            "object_position": null,
            "object_fit": null,
            "grid_auto_columns": null,
            "margin": null,
            "display": null,
            "left": null
          }
        },
        "1bc8a158b60f4e39aa3085b26c7f6766": {
          "model_module": "@jupyter-widgets/controls",
          "model_name": "HTMLModel",
          "model_module_version": "1.5.0",
          "state": {
            "_view_name": "HTMLView",
            "style": "IPY_MODEL_538db3051c8e49fb82c48d35510e181a",
            "_dom_classes": [],
            "description": "",
            "_model_name": "HTMLModel",
            "placeholder": "​",
            "_view_module": "@jupyter-widgets/controls",
            "_model_module_version": "1.5.0",
            "value": "",
            "_view_count": null,
            "_view_module_version": "1.5.0",
            "description_tooltip": null,
            "_model_module": "@jupyter-widgets/controls",
            "layout": "IPY_MODEL_5045847febf1492ea291360b731ec12f"
          }
        },
        "aa50a9a6d5bd475f9b20fc4dd82e1aa6": {
          "model_module": "@jupyter-widgets/controls",
          "model_name": "FloatProgressModel",
          "model_module_version": "1.5.0",
          "state": {
            "_view_name": "ProgressView",
            "style": "IPY_MODEL_4d4cdce98a8d49209ecbfb5736ebc9d6",
            "_dom_classes": [],
            "description": "",
            "_model_name": "FloatProgressModel",
            "bar_style": "success",
            "max": 1648877,
            "_view_module": "@jupyter-widgets/controls",
            "_model_module_version": "1.5.0",
            "value": 1648877,
            "_view_count": null,
            "_view_module_version": "1.5.0",
            "orientation": "horizontal",
            "min": 0,
            "description_tooltip": null,
            "_model_module": "@jupyter-widgets/controls",
            "layout": "IPY_MODEL_54465d6cfae94fb6a948d45fe41b3fff"
          }
        },
        "4887027a597e4d939cc47b14b12d5a65": {
          "model_module": "@jupyter-widgets/controls",
          "model_name": "HTMLModel",
          "model_module_version": "1.5.0",
          "state": {
            "_view_name": "HTMLView",
            "style": "IPY_MODEL_4877a31e0fac4f20a1f4354d97944026",
            "_dom_classes": [],
            "description": "",
            "_model_name": "HTMLModel",
            "placeholder": "​",
            "_view_module": "@jupyter-widgets/controls",
            "_model_module_version": "1.5.0",
            "value": " 1649664/? [00:00&lt;00:00, 6505326.98it/s]",
            "_view_count": null,
            "_view_module_version": "1.5.0",
            "description_tooltip": null,
            "_model_module": "@jupyter-widgets/controls",
            "layout": "IPY_MODEL_33b66f330e61415ba6b31a541679d56d"
          }
        },
        "538db3051c8e49fb82c48d35510e181a": {
          "model_module": "@jupyter-widgets/controls",
          "model_name": "DescriptionStyleModel",
          "model_module_version": "1.5.0",
          "state": {
            "_view_name": "StyleView",
            "_model_name": "DescriptionStyleModel",
            "description_width": "",
            "_view_module": "@jupyter-widgets/base",
            "_model_module_version": "1.5.0",
            "_view_count": null,
            "_view_module_version": "1.2.0",
            "_model_module": "@jupyter-widgets/controls"
          }
        },
        "5045847febf1492ea291360b731ec12f": {
          "model_module": "@jupyter-widgets/base",
          "model_name": "LayoutModel",
          "model_module_version": "1.2.0",
          "state": {
            "_view_name": "LayoutView",
            "grid_template_rows": null,
            "right": null,
            "justify_content": null,
            "_view_module": "@jupyter-widgets/base",
            "overflow": null,
            "_model_module_version": "1.2.0",
            "_view_count": null,
            "flex_flow": null,
            "width": null,
            "min_width": null,
            "border": null,
            "align_items": null,
            "bottom": null,
            "_model_module": "@jupyter-widgets/base",
            "top": null,
            "grid_column": null,
            "overflow_y": null,
            "overflow_x": null,
            "grid_auto_flow": null,
            "grid_area": null,
            "grid_template_columns": null,
            "flex": null,
            "_model_name": "LayoutModel",
            "justify_items": null,
            "grid_row": null,
            "max_height": null,
            "align_content": null,
            "visibility": null,
            "align_self": null,
            "height": null,
            "min_height": null,
            "padding": null,
            "grid_auto_rows": null,
            "grid_gap": null,
            "max_width": null,
            "order": null,
            "_view_module_version": "1.2.0",
            "grid_template_areas": null,
            "object_position": null,
            "object_fit": null,
            "grid_auto_columns": null,
            "margin": null,
            "display": null,
            "left": null
          }
        },
        "4d4cdce98a8d49209ecbfb5736ebc9d6": {
          "model_module": "@jupyter-widgets/controls",
          "model_name": "ProgressStyleModel",
          "model_module_version": "1.5.0",
          "state": {
            "_view_name": "StyleView",
            "_model_name": "ProgressStyleModel",
            "description_width": "",
            "_view_module": "@jupyter-widgets/base",
            "_model_module_version": "1.5.0",
            "_view_count": null,
            "_view_module_version": "1.2.0",
            "bar_color": null,
            "_model_module": "@jupyter-widgets/controls"
          }
        },
        "54465d6cfae94fb6a948d45fe41b3fff": {
          "model_module": "@jupyter-widgets/base",
          "model_name": "LayoutModel",
          "model_module_version": "1.2.0",
          "state": {
            "_view_name": "LayoutView",
            "grid_template_rows": null,
            "right": null,
            "justify_content": null,
            "_view_module": "@jupyter-widgets/base",
            "overflow": null,
            "_model_module_version": "1.2.0",
            "_view_count": null,
            "flex_flow": null,
            "width": null,
            "min_width": null,
            "border": null,
            "align_items": null,
            "bottom": null,
            "_model_module": "@jupyter-widgets/base",
            "top": null,
            "grid_column": null,
            "overflow_y": null,
            "overflow_x": null,
            "grid_auto_flow": null,
            "grid_area": null,
            "grid_template_columns": null,
            "flex": null,
            "_model_name": "LayoutModel",
            "justify_items": null,
            "grid_row": null,
            "max_height": null,
            "align_content": null,
            "visibility": null,
            "align_self": null,
            "height": null,
            "min_height": null,
            "padding": null,
            "grid_auto_rows": null,
            "grid_gap": null,
            "max_width": null,
            "order": null,
            "_view_module_version": "1.2.0",
            "grid_template_areas": null,
            "object_position": null,
            "object_fit": null,
            "grid_auto_columns": null,
            "margin": null,
            "display": null,
            "left": null
          }
        },
        "4877a31e0fac4f20a1f4354d97944026": {
          "model_module": "@jupyter-widgets/controls",
          "model_name": "DescriptionStyleModel",
          "model_module_version": "1.5.0",
          "state": {
            "_view_name": "StyleView",
            "_model_name": "DescriptionStyleModel",
            "description_width": "",
            "_view_module": "@jupyter-widgets/base",
            "_model_module_version": "1.5.0",
            "_view_count": null,
            "_view_module_version": "1.2.0",
            "_model_module": "@jupyter-widgets/controls"
          }
        },
        "33b66f330e61415ba6b31a541679d56d": {
          "model_module": "@jupyter-widgets/base",
          "model_name": "LayoutModel",
          "model_module_version": "1.2.0",
          "state": {
            "_view_name": "LayoutView",
            "grid_template_rows": null,
            "right": null,
            "justify_content": null,
            "_view_module": "@jupyter-widgets/base",
            "overflow": null,
            "_model_module_version": "1.2.0",
            "_view_count": null,
            "flex_flow": null,
            "width": null,
            "min_width": null,
            "border": null,
            "align_items": null,
            "bottom": null,
            "_model_module": "@jupyter-widgets/base",
            "top": null,
            "grid_column": null,
            "overflow_y": null,
            "overflow_x": null,
            "grid_auto_flow": null,
            "grid_area": null,
            "grid_template_columns": null,
            "flex": null,
            "_model_name": "LayoutModel",
            "justify_items": null,
            "grid_row": null,
            "max_height": null,
            "align_content": null,
            "visibility": null,
            "align_self": null,
            "height": null,
            "min_height": null,
            "padding": null,
            "grid_auto_rows": null,
            "grid_gap": null,
            "max_width": null,
            "order": null,
            "_view_module_version": "1.2.0",
            "grid_template_areas": null,
            "object_position": null,
            "object_fit": null,
            "grid_auto_columns": null,
            "margin": null,
            "display": null,
            "left": null
          }
        },
        "9960a95be2bb4a128e2037022c1f21cf": {
          "model_module": "@jupyter-widgets/controls",
          "model_name": "HBoxModel",
          "model_module_version": "1.5.0",
          "state": {
            "_view_name": "HBoxView",
            "_dom_classes": [],
            "_model_name": "HBoxModel",
            "_view_module": "@jupyter-widgets/controls",
            "_model_module_version": "1.5.0",
            "_view_count": null,
            "_view_module_version": "1.5.0",
            "box_style": "",
            "layout": "IPY_MODEL_b93a44e342a84f1d8e1b0b75b7cfaa3f",
            "_model_module": "@jupyter-widgets/controls",
            "children": [
              "IPY_MODEL_22154ad71c3a46e2a61318d191a21e77",
              "IPY_MODEL_06d49056a80f4d4abc9f73521c8b1169",
              "IPY_MODEL_be4d3b073bb04f57941dafa9f58e406e"
            ]
          }
        },
        "b93a44e342a84f1d8e1b0b75b7cfaa3f": {
          "model_module": "@jupyter-widgets/base",
          "model_name": "LayoutModel",
          "model_module_version": "1.2.0",
          "state": {
            "_view_name": "LayoutView",
            "grid_template_rows": null,
            "right": null,
            "justify_content": null,
            "_view_module": "@jupyter-widgets/base",
            "overflow": null,
            "_model_module_version": "1.2.0",
            "_view_count": null,
            "flex_flow": null,
            "width": null,
            "min_width": null,
            "border": null,
            "align_items": null,
            "bottom": null,
            "_model_module": "@jupyter-widgets/base",
            "top": null,
            "grid_column": null,
            "overflow_y": null,
            "overflow_x": null,
            "grid_auto_flow": null,
            "grid_area": null,
            "grid_template_columns": null,
            "flex": null,
            "_model_name": "LayoutModel",
            "justify_items": null,
            "grid_row": null,
            "max_height": null,
            "align_content": null,
            "visibility": null,
            "align_self": null,
            "height": null,
            "min_height": null,
            "padding": null,
            "grid_auto_rows": null,
            "grid_gap": null,
            "max_width": null,
            "order": null,
            "_view_module_version": "1.2.0",
            "grid_template_areas": null,
            "object_position": null,
            "object_fit": null,
            "grid_auto_columns": null,
            "margin": null,
            "display": null,
            "left": null
          }
        },
        "22154ad71c3a46e2a61318d191a21e77": {
          "model_module": "@jupyter-widgets/controls",
          "model_name": "HTMLModel",
          "model_module_version": "1.5.0",
          "state": {
            "_view_name": "HTMLView",
            "style": "IPY_MODEL_bd451077f5e8415cbf0d76b639fbc19e",
            "_dom_classes": [],
            "description": "",
            "_model_name": "HTMLModel",
            "placeholder": "​",
            "_view_module": "@jupyter-widgets/controls",
            "_model_module_version": "1.5.0",
            "value": "",
            "_view_count": null,
            "_view_module_version": "1.5.0",
            "description_tooltip": null,
            "_model_module": "@jupyter-widgets/controls",
            "layout": "IPY_MODEL_c74e02bb205746bf8180cf8e094c02fc"
          }
        },
        "06d49056a80f4d4abc9f73521c8b1169": {
          "model_module": "@jupyter-widgets/controls",
          "model_name": "FloatProgressModel",
          "model_module_version": "1.5.0",
          "state": {
            "_view_name": "ProgressView",
            "style": "IPY_MODEL_73b967dea8144be48ccf8d5ddeb68bd5",
            "_dom_classes": [],
            "description": "",
            "_model_name": "FloatProgressModel",
            "bar_style": "success",
            "max": 4542,
            "_view_module": "@jupyter-widgets/controls",
            "_model_module_version": "1.5.0",
            "value": 4542,
            "_view_count": null,
            "_view_module_version": "1.5.0",
            "orientation": "horizontal",
            "min": 0,
            "description_tooltip": null,
            "_model_module": "@jupyter-widgets/controls",
            "layout": "IPY_MODEL_3d02cf84e4fd497c946c46f60f3e81bb"
          }
        },
        "be4d3b073bb04f57941dafa9f58e406e": {
          "model_module": "@jupyter-widgets/controls",
          "model_name": "HTMLModel",
          "model_module_version": "1.5.0",
          "state": {
            "_view_name": "HTMLView",
            "style": "IPY_MODEL_a54ebea5891b4f3ba42659e6e5a8d475",
            "_dom_classes": [],
            "description": "",
            "_model_name": "HTMLModel",
            "placeholder": "​",
            "_view_module": "@jupyter-widgets/controls",
            "_model_module_version": "1.5.0",
            "value": " 5120/? [00:00&lt;00:00, 102464.10it/s]",
            "_view_count": null,
            "_view_module_version": "1.5.0",
            "description_tooltip": null,
            "_model_module": "@jupyter-widgets/controls",
            "layout": "IPY_MODEL_5963e49fbc86407ab54ab99c50b3525d"
          }
        },
        "bd451077f5e8415cbf0d76b639fbc19e": {
          "model_module": "@jupyter-widgets/controls",
          "model_name": "DescriptionStyleModel",
          "model_module_version": "1.5.0",
          "state": {
            "_view_name": "StyleView",
            "_model_name": "DescriptionStyleModel",
            "description_width": "",
            "_view_module": "@jupyter-widgets/base",
            "_model_module_version": "1.5.0",
            "_view_count": null,
            "_view_module_version": "1.2.0",
            "_model_module": "@jupyter-widgets/controls"
          }
        },
        "c74e02bb205746bf8180cf8e094c02fc": {
          "model_module": "@jupyter-widgets/base",
          "model_name": "LayoutModel",
          "model_module_version": "1.2.0",
          "state": {
            "_view_name": "LayoutView",
            "grid_template_rows": null,
            "right": null,
            "justify_content": null,
            "_view_module": "@jupyter-widgets/base",
            "overflow": null,
            "_model_module_version": "1.2.0",
            "_view_count": null,
            "flex_flow": null,
            "width": null,
            "min_width": null,
            "border": null,
            "align_items": null,
            "bottom": null,
            "_model_module": "@jupyter-widgets/base",
            "top": null,
            "grid_column": null,
            "overflow_y": null,
            "overflow_x": null,
            "grid_auto_flow": null,
            "grid_area": null,
            "grid_template_columns": null,
            "flex": null,
            "_model_name": "LayoutModel",
            "justify_items": null,
            "grid_row": null,
            "max_height": null,
            "align_content": null,
            "visibility": null,
            "align_self": null,
            "height": null,
            "min_height": null,
            "padding": null,
            "grid_auto_rows": null,
            "grid_gap": null,
            "max_width": null,
            "order": null,
            "_view_module_version": "1.2.0",
            "grid_template_areas": null,
            "object_position": null,
            "object_fit": null,
            "grid_auto_columns": null,
            "margin": null,
            "display": null,
            "left": null
          }
        },
        "73b967dea8144be48ccf8d5ddeb68bd5": {
          "model_module": "@jupyter-widgets/controls",
          "model_name": "ProgressStyleModel",
          "model_module_version": "1.5.0",
          "state": {
            "_view_name": "StyleView",
            "_model_name": "ProgressStyleModel",
            "description_width": "",
            "_view_module": "@jupyter-widgets/base",
            "_model_module_version": "1.5.0",
            "_view_count": null,
            "_view_module_version": "1.2.0",
            "bar_color": null,
            "_model_module": "@jupyter-widgets/controls"
          }
        },
        "3d02cf84e4fd497c946c46f60f3e81bb": {
          "model_module": "@jupyter-widgets/base",
          "model_name": "LayoutModel",
          "model_module_version": "1.2.0",
          "state": {
            "_view_name": "LayoutView",
            "grid_template_rows": null,
            "right": null,
            "justify_content": null,
            "_view_module": "@jupyter-widgets/base",
            "overflow": null,
            "_model_module_version": "1.2.0",
            "_view_count": null,
            "flex_flow": null,
            "width": null,
            "min_width": null,
            "border": null,
            "align_items": null,
            "bottom": null,
            "_model_module": "@jupyter-widgets/base",
            "top": null,
            "grid_column": null,
            "overflow_y": null,
            "overflow_x": null,
            "grid_auto_flow": null,
            "grid_area": null,
            "grid_template_columns": null,
            "flex": null,
            "_model_name": "LayoutModel",
            "justify_items": null,
            "grid_row": null,
            "max_height": null,
            "align_content": null,
            "visibility": null,
            "align_self": null,
            "height": null,
            "min_height": null,
            "padding": null,
            "grid_auto_rows": null,
            "grid_gap": null,
            "max_width": null,
            "order": null,
            "_view_module_version": "1.2.0",
            "grid_template_areas": null,
            "object_position": null,
            "object_fit": null,
            "grid_auto_columns": null,
            "margin": null,
            "display": null,
            "left": null
          }
        },
        "a54ebea5891b4f3ba42659e6e5a8d475": {
          "model_module": "@jupyter-widgets/controls",
          "model_name": "DescriptionStyleModel",
          "model_module_version": "1.5.0",
          "state": {
            "_view_name": "StyleView",
            "_model_name": "DescriptionStyleModel",
            "description_width": "",
            "_view_module": "@jupyter-widgets/base",
            "_model_module_version": "1.5.0",
            "_view_count": null,
            "_view_module_version": "1.2.0",
            "_model_module": "@jupyter-widgets/controls"
          }
        },
        "5963e49fbc86407ab54ab99c50b3525d": {
          "model_module": "@jupyter-widgets/base",
          "model_name": "LayoutModel",
          "model_module_version": "1.2.0",
          "state": {
            "_view_name": "LayoutView",
            "grid_template_rows": null,
            "right": null,
            "justify_content": null,
            "_view_module": "@jupyter-widgets/base",
            "overflow": null,
            "_model_module_version": "1.2.0",
            "_view_count": null,
            "flex_flow": null,
            "width": null,
            "min_width": null,
            "border": null,
            "align_items": null,
            "bottom": null,
            "_model_module": "@jupyter-widgets/base",
            "top": null,
            "grid_column": null,
            "overflow_y": null,
            "overflow_x": null,
            "grid_auto_flow": null,
            "grid_area": null,
            "grid_template_columns": null,
            "flex": null,
            "_model_name": "LayoutModel",
            "justify_items": null,
            "grid_row": null,
            "max_height": null,
            "align_content": null,
            "visibility": null,
            "align_self": null,
            "height": null,
            "min_height": null,
            "padding": null,
            "grid_auto_rows": null,
            "grid_gap": null,
            "max_width": null,
            "order": null,
            "_view_module_version": "1.2.0",
            "grid_template_areas": null,
            "object_position": null,
            "object_fit": null,
            "grid_auto_columns": null,
            "margin": null,
            "display": null,
            "left": null
          }
        }
      }
    }
  },
  "nbformat": 4,
  "nbformat_minor": 0
}
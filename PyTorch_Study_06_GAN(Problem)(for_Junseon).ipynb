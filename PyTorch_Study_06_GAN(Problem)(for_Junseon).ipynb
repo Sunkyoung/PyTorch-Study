{
  "cells": [
    {
      "cell_type": "markdown",
      "metadata": {
        "id": "view-in-github",
        "colab_type": "text"
      },
      "source": [
        "<a href=\"https://colab.research.google.com/github/Sunkyoung/PyTorch-Study/blob/main/PyTorch_Study_06_GAN(Problem)(for_Junseon).ipynb\" target=\"_parent\"><img src=\"https://colab.research.google.com/assets/colab-badge.svg\" alt=\"Open In Colab\"/></a>"
      ]
    },
    {
      "cell_type": "markdown",
      "metadata": {
        "id": "5dp5YBn0YVRr"
      },
      "source": [
        "![picture](https://drive.google.com/uc?id=1vC0N3Obk4HZJk9JOG7fKgYE10YYlCqsg)"
      ]
    },
    {
      "cell_type": "markdown",
      "metadata": {
        "id": "WlMohGabYVRs"
      },
      "source": [
        "# Week 6: Generative adversarial network (GAN) "
      ]
    },
    {
      "cell_type": "markdown",
      "metadata": {
        "id": "AQqG3-ZwYVRs"
      },
      "source": [
        "- We will cover basic concepts of GAN & implement vanilla GAN \\[[Goodfellow et al., NIPS 2014](https://papers.nips.cc/paper/5423-generative-adversarial-nets.pdf)\\]\n",
        "- We will give basic skeletone code which include (1) training structure (2) sample visualization (3) FID evaluation\n",
        "- You should implement (1) ***generator & discriminator architecture*** (2) ***noise sampling***  (3) ***GAN loss*** \n",
        "- Additionally, will give you [DCGAN](https://arxiv.org/abs/1511.06434) (basic GAN architecture) code that you can enjoy by your-self \n",
        "\n",
        "If you have any questions, feel free to ask\n",
        "- For additional questions, send emails to jihoontack@kaist.ac.kr"
      ]
    },
    {
      "cell_type": "markdown",
      "source": [
        "## Practice Notebook for Junseon\n",
        "### **TODO : Fill the answer below Q**"
      ],
      "metadata": {
        "id": "xlaVTP0HYfPm"
      }
    },
    {
      "cell_type": "markdown",
      "metadata": {
        "id": "VvgdS9LYYVRt"
      },
      "source": [
        "## 0. Preliminary"
      ]
    },
    {
      "cell_type": "markdown",
      "metadata": {
        "id": "OvHXxd3PYVRt"
      },
      "source": [
        "### 0.1. Prelim step 1: Load packages & GPU setup"
      ]
    },
    {
      "cell_type": "code",
      "execution_count": null,
      "metadata": {
        "id": "uCWI8QQhYVRt",
        "outputId": "4a741777-5d25-49b1-9a99-a3f692e96644",
        "colab": {
          "base_uri": "https://localhost:8080/"
        }
      },
      "outputs": [
        {
          "output_type": "stream",
          "name": "stdout",
          "text": [
            "Fri Jan 21 06:44:00 2022       \n",
            "+-----------------------------------------------------------------------------+\n",
            "| NVIDIA-SMI 495.46       Driver Version: 460.32.03    CUDA Version: 11.2     |\n",
            "|-------------------------------+----------------------+----------------------+\n",
            "| GPU  Name        Persistence-M| Bus-Id        Disp.A | Volatile Uncorr. ECC |\n",
            "| Fan  Temp  Perf  Pwr:Usage/Cap|         Memory-Usage | GPU-Util  Compute M. |\n",
            "|                               |                      |               MIG M. |\n",
            "|===============================+======================+======================|\n",
            "|   0  Tesla T4            Off  | 00000000:00:04.0 Off |                    0 |\n",
            "| N/A   45C    P8    10W /  70W |      0MiB / 15109MiB |      0%      Default |\n",
            "|                               |                      |                  N/A |\n",
            "+-------------------------------+----------------------+----------------------+\n",
            "                                                                               \n",
            "+-----------------------------------------------------------------------------+\n",
            "| Processes:                                                                  |\n",
            "|  GPU   GI   CI        PID   Type   Process name                  GPU Memory |\n",
            "|        ID   ID                                                   Usage      |\n",
            "|=============================================================================|\n",
            "|  No running processes found                                                 |\n",
            "+-----------------------------------------------------------------------------+\n"
          ]
        }
      ],
      "source": [
        "# visualize current GPU usages in your server\n",
        "!nvidia-smi "
      ]
    },
    {
      "cell_type": "code",
      "execution_count": null,
      "metadata": {
        "id": "WTvyRHqvYVRu"
      },
      "outputs": [],
      "source": [
        "# set gpu by number \n",
        "import os\n",
        "import random\n",
        "os.environ['CUDA_VISIBLE_DEVICES'] = '0'  # setting gpu number"
      ]
    },
    {
      "cell_type": "code",
      "execution_count": null,
      "metadata": {
        "id": "lm1vrID-YVRv"
      },
      "outputs": [],
      "source": [
        "# load packages\n",
        "import numpy as np\n",
        "import matplotlib.pyplot as plt\n",
        "import matplotlib.animation as animation\n",
        "import imageio #### install with \"pip install imageio\"\n",
        "from IPython.display import HTML\n",
        "\n",
        "import torch\n",
        "import torch.nn as nn\n",
        "import torch.nn.parallel\n",
        "import torch.backends.cudnn as cudnn\n",
        "import torch.optim as optim\n",
        "import torch.utils.data\n",
        "import torchvision.datasets as dset\n",
        "import torchvision.transforms as transforms\n",
        "import torchvision.utils as vutils\n",
        "from torchvision.utils import make_grid"
      ]
    },
    {
      "cell_type": "code",
      "execution_count": null,
      "metadata": {
        "id": "sXqM2PtiYVRv"
      },
      "outputs": [],
      "source": [
        "# Create folders\n",
        "if not os.path.exists('./checkpoint'):\n",
        "    os.mkdir('./checkpoint')\n",
        "    \n",
        "if not os.path.exists('./dataset'):\n",
        "    os.mkdir('./dataset')\n",
        "    \n",
        "if not os.path.exists('./img'):\n",
        "    os.mkdir('./img')\n",
        "    \n",
        "if not os.path.exists('./img/real'):\n",
        "    os.mkdir('./img/real')\n",
        "\n",
        "if not os.path.exists('./img/fake'):\n",
        "    os.mkdir('./img/fake')"
      ]
    },
    {
      "cell_type": "markdown",
      "metadata": {
        "id": "l6YPUqO2YVRv"
      },
      "source": [
        "### 0.2. Prelim step 2: Define visualization & image saving code"
      ]
    },
    {
      "cell_type": "code",
      "execution_count": null,
      "metadata": {
        "id": "Ryx102SeYVRv"
      },
      "outputs": [],
      "source": [
        "# visualize the first image from the torch tensor\n",
        "def vis_image(image):\n",
        "    plt.imshow(image[0].detach().cpu().numpy(),cmap='gray')\n",
        "    plt.show()"
      ]
    },
    {
      "cell_type": "code",
      "execution_count": null,
      "metadata": {
        "id": "4g7kQ_-7YVRw"
      },
      "outputs": [],
      "source": [
        "def save_gif(training_progress_images, images):\n",
        "    '''\n",
        "        training_progress_images: list of training images generated each iteration\n",
        "        images: image that is generated in this iteration\n",
        "    '''\n",
        "    img_grid = make_grid(images.data)\n",
        "    img_grid = np.transpose(img_grid.detach().cpu().numpy(), (1, 2, 0))\n",
        "    img_grid = 255. * img_grid \n",
        "    img_grid = img_grid.astype(np.uint8)\n",
        "    training_progress_images.append(img_grid)\n",
        "    imageio.mimsave('./img/training_progress.gif', training_progress_images)\n",
        "    return training_progress_images"
      ]
    },
    {
      "cell_type": "code",
      "execution_count": null,
      "metadata": {
        "id": "a0BvNvMAYVRw"
      },
      "outputs": [],
      "source": [
        "# visualize gif file\n",
        "def vis_gif(training_progress_images):\n",
        "    fig = plt.figure()\n",
        "    \n",
        "    ims = []\n",
        "    for i in range(len(training_progress_images)):\n",
        "        im = plt.imshow(training_progress_images[i], animated=True)\n",
        "        ims.append([im])\n",
        "\n",
        "    ani = animation.ArtistAnimation(fig, ims, interval=50, blit=True, repeat_delay=1000)\n",
        "    \n",
        "    html = ani.to_html5_video()\n",
        "    HTML(html)"
      ]
    },
    {
      "cell_type": "code",
      "execution_count": null,
      "metadata": {
        "id": "ELnW7mPDYVRw"
      },
      "outputs": [],
      "source": [
        "# visualize gif file\n",
        "def plot_gif(training_progress_images, plot_length=10):\n",
        "    plt.close()\n",
        "    fig = plt.figure()\n",
        "    \n",
        "    total_len = len(training_progress_images)\n",
        "    for i in range(plot_length):\n",
        "        im = plt.imshow(training_progress_images[int(total_len/plot_length)*i])\n",
        "        plt.show()"
      ]
    },
    {
      "cell_type": "code",
      "execution_count": null,
      "metadata": {
        "id": "l7XQbL16YVRw"
      },
      "outputs": [],
      "source": [
        "def save_image_list(dataset, real):\n",
        "    if real:\n",
        "        base_path = './img/real'\n",
        "    else:\n",
        "        base_path = './img/fake'\n",
        "    \n",
        "    dataset_path = []\n",
        "    \n",
        "    for i in range(len(dataset)):\n",
        "        save_path =  f'{base_path}/image_{i}.png'\n",
        "        dataset_path.append(save_path)\n",
        "        vutils.save_image(dataset[i], save_path)\n",
        "    \n",
        "    return base_path"
      ]
    },
    {
      "cell_type": "markdown",
      "metadata": {
        "id": "o_XVlfypYVRx"
      },
      "source": [
        "### 0.3. Prelim step 3: Load dataset, define dataloader"
      ]
    },
    {
      "cell_type": "markdown",
      "metadata": {
        "id": "27otlSQ0YVRx"
      },
      "source": [
        "![picture](https://drive.google.com/uc?id=1kdig6RLSCvYJNqarbb8gviYsnxZfSkYQ)"
      ]
    },
    {
      "cell_type": "markdown",
      "metadata": {
        "id": "w8ylz_2oYVRx"
      },
      "source": [
        "\n",
        "In this class we will use **MNIST** (or you can use **Fashion-MNIST**) due to the time constraint :( \\\n",
        "You can practice with CIFAR-10 by your-self since dataset is already implemented inside PyTorch!\n",
        "- Simply use `dataset=dset.CIFAR10(.)` function in PyTorch.\n",
        "- If you are using CIFAR dataset, please note that the resolution is different to MNIST and should change model input dimension."
      ]
    },
    {
      "cell_type": "code",
      "execution_count": null,
      "metadata": {
        "id": "ktg_f62RYVRx",
        "colab": {
          "base_uri": "https://localhost:8080/",
          "height": 443,
          "referenced_widgets": [
            "4967d1e601914590bd100aaaad29052c",
            "7dee414324fa4237a39d3b7a34f7685c",
            "4dd5236d2ce240559b72023755eabc07",
            "4f04b084730e421ebbeca34389cce0d4",
            "0abb8b4e5c80426296328cb0f222268a",
            "d299db6348d5467a9b7619997f43fc56",
            "1c0b95395676423eb9fdc042de17b024",
            "ddd45d9d4d714183aaf4e52fbfa006d5",
            "a4a2161edff5430b93f7177473123912",
            "c8cb1f347df54179bf4c561832376640",
            "8d8becfac07549eaad5c51acdf2cdc2d",
            "66d0cb6e00ee441bac6199576b729f37",
            "ee320d6a001b430a8a99c21e75b89b27",
            "d0c290ec0fad4d11882f2c20d9943bb3",
            "519c5918475947e6b543e281c1a9a635",
            "0037e38988594b17951270b1f9e35ec5",
            "46567425c2d844cc8dcd437e91570b57",
            "9dde589a75e345c6b90d23718c6ae57e",
            "2a7e6b9f51c44b4b88757d5ff970d64d",
            "413d645775974c9495ba05343a219aa1",
            "e3c588dbb86a4606aaeea6994cd84175",
            "2c6da77e03e94b4ea0381cbc35f805c6",
            "51e10c131d1e49899279c67d7cf41515",
            "4bf8e67c945e4f5f9d965bce7000d98f",
            "7837fb9401774187b3e5842f5b41f47c",
            "35797d1b74d74c62a8fc697dde3efb60",
            "b51e97fe5c4346a79991b6fa77b2a59e",
            "81361bdee13349cd8193900831e55bc3",
            "0ae781fe64cb459993781e5d02607b21",
            "9285abca5cb049adb6c432427082e224",
            "94f008e2eb8c418c97066628aecdfcf3",
            "4c6fc5fd60fe48338c730e1c233674ec",
            "ce904143db144770897c97be1c64a255",
            "11741b74219f42bd860d20252ccf1a43",
            "d574611411834f55b2aad90f285b8029",
            "d7d13f0170e044d4850786fbd8b1f2e3",
            "0e263d8211474cf6a62b00eb1ad4659f",
            "0105e7be253a4c6190faf6618bf29ad9",
            "660f79c78bae4e56ab73d3bf64995045",
            "0dff6571817d4c5db7fa0f8614323b4a",
            "5fca187d4461483eb563c2b5727bd7ae",
            "4a9c6b51d7a5431381d14c73668dbea3",
            "b1d7ae45770f49c7b4ff8121a24c0e2f",
            "18695a22c2294521805710c8653af975"
          ]
        },
        "outputId": "250907e6-c3d7-486e-b050-562a99e114d6"
      },
      "outputs": [
        {
          "output_type": "stream",
          "name": "stdout",
          "text": [
            "Downloading http://yann.lecun.com/exdb/mnist/train-images-idx3-ubyte.gz\n",
            "Downloading http://yann.lecun.com/exdb/mnist/train-images-idx3-ubyte.gz to ./dataset/MNIST/raw/train-images-idx3-ubyte.gz\n"
          ]
        },
        {
          "output_type": "display_data",
          "data": {
            "application/vnd.jupyter.widget-view+json": {
              "model_id": "4967d1e601914590bd100aaaad29052c",
              "version_minor": 0,
              "version_major": 2
            },
            "text/plain": [
              "  0%|          | 0/9912422 [00:00<?, ?it/s]"
            ]
          },
          "metadata": {}
        },
        {
          "output_type": "stream",
          "name": "stdout",
          "text": [
            "Extracting ./dataset/MNIST/raw/train-images-idx3-ubyte.gz to ./dataset/MNIST/raw\n",
            "\n",
            "Downloading http://yann.lecun.com/exdb/mnist/train-labels-idx1-ubyte.gz\n",
            "Downloading http://yann.lecun.com/exdb/mnist/train-labels-idx1-ubyte.gz to ./dataset/MNIST/raw/train-labels-idx1-ubyte.gz\n"
          ]
        },
        {
          "output_type": "display_data",
          "data": {
            "application/vnd.jupyter.widget-view+json": {
              "model_id": "66d0cb6e00ee441bac6199576b729f37",
              "version_minor": 0,
              "version_major": 2
            },
            "text/plain": [
              "  0%|          | 0/28881 [00:00<?, ?it/s]"
            ]
          },
          "metadata": {}
        },
        {
          "output_type": "stream",
          "name": "stdout",
          "text": [
            "Extracting ./dataset/MNIST/raw/train-labels-idx1-ubyte.gz to ./dataset/MNIST/raw\n",
            "\n",
            "Downloading http://yann.lecun.com/exdb/mnist/t10k-images-idx3-ubyte.gz\n",
            "Downloading http://yann.lecun.com/exdb/mnist/t10k-images-idx3-ubyte.gz to ./dataset/MNIST/raw/t10k-images-idx3-ubyte.gz\n"
          ]
        },
        {
          "output_type": "display_data",
          "data": {
            "application/vnd.jupyter.widget-view+json": {
              "model_id": "51e10c131d1e49899279c67d7cf41515",
              "version_minor": 0,
              "version_major": 2
            },
            "text/plain": [
              "  0%|          | 0/1648877 [00:00<?, ?it/s]"
            ]
          },
          "metadata": {}
        },
        {
          "output_type": "stream",
          "name": "stdout",
          "text": [
            "Extracting ./dataset/MNIST/raw/t10k-images-idx3-ubyte.gz to ./dataset/MNIST/raw\n",
            "\n",
            "Downloading http://yann.lecun.com/exdb/mnist/t10k-labels-idx1-ubyte.gz\n",
            "Downloading http://yann.lecun.com/exdb/mnist/t10k-labels-idx1-ubyte.gz to ./dataset/MNIST/raw/t10k-labels-idx1-ubyte.gz\n"
          ]
        },
        {
          "output_type": "display_data",
          "data": {
            "application/vnd.jupyter.widget-view+json": {
              "model_id": "11741b74219f42bd860d20252ccf1a43",
              "version_minor": 0,
              "version_major": 2
            },
            "text/plain": [
              "  0%|          | 0/4542 [00:00<?, ?it/s]"
            ]
          },
          "metadata": {}
        },
        {
          "output_type": "stream",
          "name": "stdout",
          "text": [
            "Extracting ./dataset/MNIST/raw/t10k-labels-idx1-ubyte.gz to ./dataset/MNIST/raw\n",
            "\n"
          ]
        }
      ],
      "source": [
        "dataset = dset.MNIST(root=\"./dataset\", download=True,\n",
        "                                   transform=transforms.Compose([\n",
        "                                   transforms.ToTensor(),\n",
        "                ]))\n",
        "# If you want to download FMNIST use dset.FashionMNIST\n",
        "# dataset = dset.FashionMNIST(.)\n",
        "\n",
        "dataloader = torch.utils.data.DataLoader(dataset, batch_size=128, shuffle=True, num_workers=2)"
      ]
    },
    {
      "cell_type": "markdown",
      "metadata": {
        "id": "NUZlWpMVYVRx"
      },
      "source": [
        "## 1. Define your generator & discriminator"
      ]
    },
    {
      "cell_type": "markdown",
      "metadata": {
        "id": "VHYRlRY3YVRx"
      },
      "source": [
        "### 1.1. Define generator module"
      ]
    },
    {
      "cell_type": "code",
      "execution_count": null,
      "metadata": {
        "id": "VOaXR3hHYVRx"
      },
      "outputs": [],
      "source": [
        "class Generator(nn.Module):\n",
        "    def __init__(self):\n",
        "        super(Generator, self).__init__()\n",
        "        self.main = nn.Sequential(\n",
        "        # Q. Define generator model\n",
        "        #    Three linear layers and three activation layers\n",
        "        #    Use ReLU for first two activation, and then use Sigmoid for the last activation\n",
        "        #    input shape: 100 -> 256 -> 256, output shape : 784\n",
        "        )\n",
        "\n",
        "    def forward(self, input):\n",
        "        # Q. Forward input to main model and change the output shape if necessary\n",
        "        # Hint) output shape : (batch_size, 1, 28, 28)\n",
        "        \n",
        "        return output"
      ]
    },
    {
      "cell_type": "markdown",
      "metadata": {
        "id": "r23dss15YVRy"
      },
      "source": [
        "### 1.2. Define discriminator module"
      ]
    },
    {
      "cell_type": "code",
      "execution_count": null,
      "metadata": {
        "id": "bCHoSIOJYVRy"
      },
      "outputs": [],
      "source": [
        "class Discriminator(nn.Module):\n",
        "    def __init__(self):\n",
        "        super(Discriminator, self).__init__()\n",
        "        self.main = nn.Sequential(\n",
        "        # Q. Define discriminator model\n",
        "        #    Three linear layers and three activation layers\n",
        "        #    Use LeakyReLU with negative slope 0.2 for first two activation, and then use Sigmoid for the last activation\n",
        "        #    input shape: Generator model output -> 256 -> 256, output shape : 1\n",
        "        # Hint) LeakyReLU : https://pytorch.org/docs/1.9.1/generated/torch.nn.LeakyReLU.html\n",
        "            nn.Linear(784, 256),\n",
        "            nn.LeakyReLU(0.2),\n",
        "            nn.Linear(256, 256),\n",
        "            nn.LeakyReLU(0.2),\n",
        "            nn.Linear(256, 1),\n",
        "            nn.Sigmoid(),\n",
        "        )\n",
        "\n",
        "    def forward(self, input):\n",
        "        # Q. Forward input to main model and change the input, output shape if necessary\n",
        "        # Hint) input shape : refer to first forward layer's shape / output shape : (batch_size,)\n",
        "\n",
        "        return output"
      ]
    },
    {
      "cell_type": "markdown",
      "metadata": {
        "id": "j2AiR7F8YVRy"
      },
      "source": [
        "### 1.3. Upload on GPU, define optimizer"
      ]
    },
    {
      "cell_type": "code",
      "execution_count": null,
      "metadata": {
        "id": "gDPwhacVYVRy"
      },
      "outputs": [],
      "source": [
        "netG = Generator().cuda()\n",
        "netD = Discriminator().cuda()\n",
        "\n",
        "optimizerD = optim.Adam(netD.parameters(), lr=0.0002)\n",
        "optimizerG = optim.Adam(netG.parameters(), lr=0.0002)"
      ]
    },
    {
      "cell_type": "markdown",
      "source": [
        "## 2. Noise Sampling\n"
      ],
      "metadata": {
        "id": "Dzp-94SFdi2k"
      }
    },
    {
      "cell_type": "code",
      "source": [
        "# Q. Define noise with random numbers from a normal distribution and load to GPU\n",
        "#    shape : (batch_size, refer to input shape of generator first layer)\n",
        "# Hint) https://pytorch.org/docs/stable/generated/torch.randn.html\n",
        "fixed_noise = "
      ],
      "metadata": {
        "id": "Vn_5c6l-dimI"
      },
      "execution_count": null,
      "outputs": []
    },
    {
      "cell_type": "markdown",
      "metadata": {
        "id": "fKOAniGZYVRy"
      },
      "source": [
        "## 3. Train GAN"
      ]
    },
    {
      "cell_type": "markdown",
      "metadata": {
        "id": "rS6nNQrcYVRz"
      },
      "source": [
        "Implement GAN by filling out the following blankes!"
      ]
    },
    {
      "cell_type": "code",
      "execution_count": null,
      "metadata": {
        "id": "aW81f2IWYVRz",
        "outputId": "38a2a52c-8483-498f-d319-537afba023e6",
        "colab": {
          "base_uri": "https://localhost:8080/"
        }
      },
      "outputs": [
        {
          "output_type": "stream",
          "name": "stdout",
          "text": [
            "[0/200] Loss_D: 0.0198 Loss_G: 5.6411 D(x): 0.9866 D(G(z)): 0.0058 / 0.0037\n"
          ]
        }
      ],
      "source": [
        "criterion = nn.BCELoss()\n",
        "n_epoch = 200\n",
        "training_progress_images_list = []\n",
        "\n",
        "for epoch in range(n_epoch):\n",
        "    for i, (data, _) in enumerate(dataloader):\n",
        "        # Q. Update Discrimator Network. Maximize log(D(x)) + log(1 - D(G(z)))\n",
        "        #    Fill ???\n",
        "        #    Ground truth (real) label  : 1\n",
        "        netD.???\n",
        "        data = data.cuda()\n",
        "        batch_size = data.size(0)\n",
        "\n",
        "        label = torch.???((batch_size,)).cuda()\n",
        "        output = ???\n",
        "        errD_real = criterion(output, label)\n",
        "        D_x = output.mean().item()\n",
        "\n",
        "        # Q. Train with generated fake image.  Fill ???\n",
        "        #    Fake image label : 0\n",
        "        # Hint) Define noise refer to above fixed_noise\n",
        "        noise = ???\n",
        "        fake = ???\n",
        "        label = torch.???((batch_size,)).cuda()\n",
        "        output = ???\n",
        "        errD_fake = criterion(output, label)\n",
        "        \n",
        "        D_G_z1 = output.mean().item()\n",
        "        \n",
        "        # Q. Define loss of discrimator\n",
        "        errD = \n",
        "\n",
        "        errD.backward()\n",
        "        optimizerD.step()\n",
        "\n",
        "        # Q. Update Generator Network : Maximize log(D(G(z)))\n",
        "        #    Fill ???\n",
        "        # Hint : Fake labels are real for generator cost\n",
        "        netG.zero_grad()\n",
        "        label = torch.???((batch_size,)).cuda()  \n",
        "        output = ???\n",
        "        errG = criterion(output, label)\n",
        "        D_G_z2 = output.mean().item()\n",
        "\n",
        "        errG.backward()\n",
        "        optimizerG.step()\n",
        "        \n",
        "    print('[%d/%d] Loss_D: %.4f Loss_G: %.4f D(x): %.4f D(G(z)): %.4f / %.4f' \n",
        "              % (epoch, n_epoch, errD.item(), errG.item(), D_x, D_G_z1, D_G_z2))\n",
        "    \n",
        "    #save the output\n",
        "    fake = netG(fixed_noise)\n",
        "    training_progress_images_list = save_gif(training_progress_images_list, fake)  # Save fake image while training!\n",
        "    \n",
        "    # Check pointing for every epoch\n",
        "    torch.save(netG.state_dict(), './checkpoint/netG_epoch_%d.pth' % (epoch))\n",
        "    torch.save(netD.state_dict(), './checkpoint/netD_epoch_%d.pth' % (epoch))"
      ]
    },
    {
      "cell_type": "markdown",
      "metadata": {
        "id": "bi3aDhP5YVRz"
      },
      "source": [
        "## 4. Visualize/Plot your generated samples"
      ]
    },
    {
      "cell_type": "code",
      "execution_count": null,
      "metadata": {
        "id": "9-HX1NWaYVRz"
      },
      "outputs": [],
      "source": [
        "#vis_gif(training_progress_images_list)\n",
        "plot_gif(training_progress_images_list)"
      ]
    },
    {
      "cell_type": "markdown",
      "metadata": {
        "id": "y5ucxFIeYVRz"
      },
      "source": [
        "## 5. Evaluate your model: Fréchet Inception Distance (FID) score"
      ]
    },
    {
      "cell_type": "markdown",
      "metadata": {
        "id": "H-RPkdn2YVRz"
      },
      "source": [
        "How to evaluate the equality of your generated sample?\\\n",
        "Maybe **training loss...? No!**\n",
        "Papers have shown that training loss might not be the best metric!\n",
        "\n",
        "There are many evaluation metric that has been proposed and most famous metric is as follows: [**Inception score**](https://arxiv.org/abs/1606.03498), [**Fréchet Inception Distance**](https://arxiv.org/abs/1706.08500)\n",
        "\n",
        "In this course, we will handle **Fréchet Inception Distance (FID) score.**"
      ]
    },
    {
      "cell_type": "markdown",
      "metadata": {
        "id": "Fwsa8UaIYVRz"
      },
      "source": [
        "### 5.1. What is FID score?"
      ]
    },
    {
      "cell_type": "markdown",
      "metadata": {
        "id": "0g3tMJpCYVR0"
      },
      "source": [
        "FID measures the distance between **real dataset** & **fake dataset** in **feature space of Inception** pretrained network.\\\n",
        "From the extracted features of real & fake dataset, we can compute mean & covariance of each features to calculate the **distance between distributions**.\n",
        "- For more explanation see this [article](https://medium.com/@jonathan_hui/gan-how-to-measure-gan-performance-64b988c47732) or [paper](https://arxiv.org/abs/1706.08500)"
      ]
    },
    {
      "cell_type": "markdown",
      "metadata": {
        "id": "lUzivCwTYVR0"
      },
      "source": [
        "For the implementation, we simply use the source code from github: https://github.com/mseitzer/pytorch-fid\n",
        "\n",
        "Please note that Inception network is **pretrained on ImageNet**, therefore the MNIST FID score might be unrealiable.\\"
      ]
    },
    {
      "cell_type": "markdown",
      "metadata": {
        "id": "lQttM1qsYVR0"
      },
      "source": [
        "### 5.2. Load FID score function: code is from the github"
      ]
    },
    {
      "cell_type": "code",
      "execution_count": null,
      "metadata": {
        "id": "0ix3-cWWYVR0"
      },
      "outputs": [],
      "source": [
        "# The code is downloaded from github\n",
        "!git clone https://github.com/mseitzer/pytorch-fid.git\n",
        "!mv /content/pytorch-fid/src/pytorch_fid/fid_score.py .\n",
        "!mv /content/pytorch-fid/src/pytorch_fid/inception.py ."
      ]
    },
    {
      "cell_type": "code",
      "execution_count": null,
      "metadata": {
        "id": "9onfx320YVR0"
      },
      "outputs": [],
      "source": [
        "from fid_score import calculate_fid_given_paths  "
      ]
    },
    {
      "cell_type": "markdown",
      "metadata": {
        "id": "VuMLpymMYVR0"
      },
      "source": [
        "### 5.3. Evaluate your model (save samples!!)\n",
        "\n",
        "The Inception network's input resolution is 224 by 224, we upscale small resolution datasets (e.g., MNSIT, CIFAR) into same resolution.\n",
        "\n",
        "Please note that, we only save *50 samples in this lecture*, however in practice we use **full test dataset**: [reference](https://arxiv.org/abs/1807.04720)"
      ]
    },
    {
      "cell_type": "code",
      "execution_count": null,
      "metadata": {
        "id": "nhba2DoIYVR1"
      },
      "outputs": [],
      "source": [
        "test_dataset = dset.MNIST(root=\"./dataset\", download=True, train=False,\n",
        "                                           transform=transforms.Compose([\n",
        "                                           transforms.ToTensor(),\n",
        "                        ]))\n",
        "\n",
        "dataloader = torch.utils.data.DataLoader(test_dataset, batch_size=50, shuffle=True, num_workers=2)\n",
        "\n",
        "for i, (data, _) in enumerate(dataloader):\n",
        "    real_dataset = data\n",
        "    break\n",
        "    \n",
        "noise = torch.randn(50, 100).cuda()\n",
        "fake_dataset = netG(noise)"
      ]
    },
    {
      "cell_type": "code",
      "execution_count": null,
      "metadata": {
        "id": "EwJc3q45YVR1"
      },
      "outputs": [],
      "source": [
        "real_image_path_list = save_image_list(real_dataset, True)\n",
        "fake_image_path_list = save_image_list(fake_dataset, False)"
      ]
    },
    {
      "cell_type": "markdown",
      "metadata": {
        "id": "ipOXPMsrYVR1"
      },
      "source": [
        "### 5.4 Evaluate FID score"
      ]
    },
    {
      "cell_type": "code",
      "execution_count": null,
      "metadata": {
        "id": "blpXyaEjYVR1"
      },
      "outputs": [],
      "source": [
        "fid_value = calculate_fid_given_paths(paths=[real_image_path_list, fake_image_path_list], \n",
        "                                      batch_size=50,\n",
        "                                      device='cuda',\n",
        "                                      dims=2048,\n",
        "                                      num_workers=8)"
      ]
    },
    {
      "cell_type": "code",
      "execution_count": null,
      "metadata": {
        "id": "dKlYXOb6YVR1"
      },
      "outputs": [],
      "source": [
        "print (f'FID score: {fid_value}')"
      ]
    },
    {
      "cell_type": "markdown",
      "metadata": {
        "id": "h2MVBUh0YVR1"
      },
      "source": [
        "## Additional: DCGAN \n",
        "\n",
        "A DCGAN is a direct extension of the GAN described above, except that it explicitly uses **convolutional and convolutional-transpose layers** in the discriminator and generator, respectively.\n",
        "\n",
        "https://pytorch.org/tutorials/beginner/dcgan_faces_tutorial.html"
      ]
    },
    {
      "cell_type": "markdown",
      "metadata": {
        "id": "8Sa47SelYVR1"
      },
      "source": [
        "There are various modern architectures of GAN e.g., DCGAN, SNGAN, and also training methods e.g., WGAN, gradient penulty\n",
        "\n",
        "You can try the following architecture to improve the quality of generation!\n",
        "- **Note that this version is for 64 by 64 resolution**"
      ]
    },
    {
      "cell_type": "code",
      "execution_count": null,
      "metadata": {
        "id": "TRU9NekbYVR2"
      },
      "outputs": [],
      "source": [
        "nc = 3 # number of channels, RGB\n",
        "nz = 100 # input noise dimension\n",
        "ngf = 64 # number of generator filters\n",
        "ndf = 64 # number of discriminator filters\n",
        "\n",
        "class Generator(nn.Module):\n",
        "    def __init__(self):\n",
        "        super(Generator, self).__init__()\n",
        "        self.main = nn.Sequential(\n",
        "            # Q. Define generator model\n",
        "            #    Five Convolutional-transpose layers instead of Linear \n",
        "            #    First four layers use Batch-normalization layer and ReLU activation\n",
        "            #    Last layer use Tanh activation only.\n",
        "            #    Input size\n",
        "            #    1) Z\n",
        "            #    2) (ngf*8) x 4 x 4\n",
        "            #    3) (ngf*4) x 8 x 8\n",
        "            #    4) (ngf*2) x 16 x 16\n",
        "            #    5) (ngf) x 32 x 32\n",
        "            #    Output size : (nc) x 64 x 64\n",
        "        )\n",
        "\n",
        "    def forward(self, input):\n",
        "        output = self.main(input)\n",
        "        return output"
      ]
    },
    {
      "cell_type": "code",
      "execution_count": null,
      "metadata": {
        "id": "ZbdM9Zl0YVR2"
      },
      "outputs": [],
      "source": [
        "class Discriminator(nn.Module):\n",
        "    def __init__(self):\n",
        "        super(Discriminator, self).__init__()\n",
        "        self.main = nn.Sequential(\n",
        "            # Q. Define discriminator model\n",
        "            #    Five Convolutional layers instead of Linear \n",
        "            #    Layers except first and last use Batch-normalization\n",
        "            #    First four layers use LeakyReLU activation and Last layer use Sigmoid activation only.\n",
        "            #    Input size\n",
        "            #    1) (nc) x 64 x 64\n",
        "            #    2) (ngf) x 32 x 32\n",
        "            #    3) (ndf*2) x 16 x 16\n",
        "            #    4) (ndf*4) x 8 x 8\n",
        "            #    5) (ndf*8) x 4 x 4\n",
        "        )\n",
        "\n",
        "    def forward(self, input):\n",
        "        output = self.main(input)\n",
        "        return output.view(-1, 1).squeeze(1)"
      ]
    },
    {
      "cell_type": "markdown",
      "metadata": {
        "id": "tEWf9ma3YVR2"
      },
      "source": [
        "## Reference\n",
        "\n",
        "PyTorch official DCGAN tutorial: https://pytorch.org/tutorials/beginner/dcgan_faces_tutorial.html \\\n",
        "github 1: https://github.com/Ksuryateja/DCGAN-CIFAR10-pytorch/blob/master/gan_cifar.py \\\n",
        "github 2: https://github.com/mseitzer/pytorch-fid \\\n",
        "FID score: https://github.com/mseitzer/pytorch-fid \\\n",
        "Inception score: https://github.com/sbarratt/inception-score-pytorch"
      ]
    }
  ],
  "metadata": {
    "kernelspec": {
      "display_name": "Python 3",
      "language": "python",
      "name": "python3"
    },
    "language_info": {
      "codemirror_mode": {
        "name": "ipython",
        "version": 3
      },
      "file_extension": ".py",
      "mimetype": "text/x-python",
      "name": "python",
      "nbconvert_exporter": "python",
      "pygments_lexer": "ipython3",
      "version": "3.6.10"
    },
    "colab": {
      "name": "PyTorch_Study_06_GAN(Problem)(for Junseon).ipynb",
      "provenance": [],
      "include_colab_link": true
    },
    "accelerator": "GPU",
    "widgets": {
      "application/vnd.jupyter.widget-state+json": {
        "4967d1e601914590bd100aaaad29052c": {
          "model_module": "@jupyter-widgets/controls",
          "model_name": "HBoxModel",
          "model_module_version": "1.5.0",
          "state": {
            "_view_name": "HBoxView",
            "_dom_classes": [],
            "_model_name": "HBoxModel",
            "_view_module": "@jupyter-widgets/controls",
            "_model_module_version": "1.5.0",
            "_view_count": null,
            "_view_module_version": "1.5.0",
            "box_style": "",
            "layout": "IPY_MODEL_7dee414324fa4237a39d3b7a34f7685c",
            "_model_module": "@jupyter-widgets/controls",
            "children": [
              "IPY_MODEL_4dd5236d2ce240559b72023755eabc07",
              "IPY_MODEL_4f04b084730e421ebbeca34389cce0d4",
              "IPY_MODEL_0abb8b4e5c80426296328cb0f222268a"
            ]
          }
        },
        "7dee414324fa4237a39d3b7a34f7685c": {
          "model_module": "@jupyter-widgets/base",
          "model_name": "LayoutModel",
          "model_module_version": "1.2.0",
          "state": {
            "_view_name": "LayoutView",
            "grid_template_rows": null,
            "right": null,
            "justify_content": null,
            "_view_module": "@jupyter-widgets/base",
            "overflow": null,
            "_model_module_version": "1.2.0",
            "_view_count": null,
            "flex_flow": null,
            "width": null,
            "min_width": null,
            "border": null,
            "align_items": null,
            "bottom": null,
            "_model_module": "@jupyter-widgets/base",
            "top": null,
            "grid_column": null,
            "overflow_y": null,
            "overflow_x": null,
            "grid_auto_flow": null,
            "grid_area": null,
            "grid_template_columns": null,
            "flex": null,
            "_model_name": "LayoutModel",
            "justify_items": null,
            "grid_row": null,
            "max_height": null,
            "align_content": null,
            "visibility": null,
            "align_self": null,
            "height": null,
            "min_height": null,
            "padding": null,
            "grid_auto_rows": null,
            "grid_gap": null,
            "max_width": null,
            "order": null,
            "_view_module_version": "1.2.0",
            "grid_template_areas": null,
            "object_position": null,
            "object_fit": null,
            "grid_auto_columns": null,
            "margin": null,
            "display": null,
            "left": null
          }
        },
        "4dd5236d2ce240559b72023755eabc07": {
          "model_module": "@jupyter-widgets/controls",
          "model_name": "HTMLModel",
          "model_module_version": "1.5.0",
          "state": {
            "_view_name": "HTMLView",
            "style": "IPY_MODEL_d299db6348d5467a9b7619997f43fc56",
            "_dom_classes": [],
            "description": "",
            "_model_name": "HTMLModel",
            "placeholder": "​",
            "_view_module": "@jupyter-widgets/controls",
            "_model_module_version": "1.5.0",
            "value": "",
            "_view_count": null,
            "_view_module_version": "1.5.0",
            "description_tooltip": null,
            "_model_module": "@jupyter-widgets/controls",
            "layout": "IPY_MODEL_1c0b95395676423eb9fdc042de17b024"
          }
        },
        "4f04b084730e421ebbeca34389cce0d4": {
          "model_module": "@jupyter-widgets/controls",
          "model_name": "FloatProgressModel",
          "model_module_version": "1.5.0",
          "state": {
            "_view_name": "ProgressView",
            "style": "IPY_MODEL_ddd45d9d4d714183aaf4e52fbfa006d5",
            "_dom_classes": [],
            "description": "",
            "_model_name": "FloatProgressModel",
            "bar_style": "success",
            "max": 9912422,
            "_view_module": "@jupyter-widgets/controls",
            "_model_module_version": "1.5.0",
            "value": 9912422,
            "_view_count": null,
            "_view_module_version": "1.5.0",
            "orientation": "horizontal",
            "min": 0,
            "description_tooltip": null,
            "_model_module": "@jupyter-widgets/controls",
            "layout": "IPY_MODEL_a4a2161edff5430b93f7177473123912"
          }
        },
        "0abb8b4e5c80426296328cb0f222268a": {
          "model_module": "@jupyter-widgets/controls",
          "model_name": "HTMLModel",
          "model_module_version": "1.5.0",
          "state": {
            "_view_name": "HTMLView",
            "style": "IPY_MODEL_c8cb1f347df54179bf4c561832376640",
            "_dom_classes": [],
            "description": "",
            "_model_name": "HTMLModel",
            "placeholder": "​",
            "_view_module": "@jupyter-widgets/controls",
            "_model_module_version": "1.5.0",
            "value": " 9913344/? [00:00&lt;00:00, 23628797.41it/s]",
            "_view_count": null,
            "_view_module_version": "1.5.0",
            "description_tooltip": null,
            "_model_module": "@jupyter-widgets/controls",
            "layout": "IPY_MODEL_8d8becfac07549eaad5c51acdf2cdc2d"
          }
        },
        "d299db6348d5467a9b7619997f43fc56": {
          "model_module": "@jupyter-widgets/controls",
          "model_name": "DescriptionStyleModel",
          "model_module_version": "1.5.0",
          "state": {
            "_view_name": "StyleView",
            "_model_name": "DescriptionStyleModel",
            "description_width": "",
            "_view_module": "@jupyter-widgets/base",
            "_model_module_version": "1.5.0",
            "_view_count": null,
            "_view_module_version": "1.2.0",
            "_model_module": "@jupyter-widgets/controls"
          }
        },
        "1c0b95395676423eb9fdc042de17b024": {
          "model_module": "@jupyter-widgets/base",
          "model_name": "LayoutModel",
          "model_module_version": "1.2.0",
          "state": {
            "_view_name": "LayoutView",
            "grid_template_rows": null,
            "right": null,
            "justify_content": null,
            "_view_module": "@jupyter-widgets/base",
            "overflow": null,
            "_model_module_version": "1.2.0",
            "_view_count": null,
            "flex_flow": null,
            "width": null,
            "min_width": null,
            "border": null,
            "align_items": null,
            "bottom": null,
            "_model_module": "@jupyter-widgets/base",
            "top": null,
            "grid_column": null,
            "overflow_y": null,
            "overflow_x": null,
            "grid_auto_flow": null,
            "grid_area": null,
            "grid_template_columns": null,
            "flex": null,
            "_model_name": "LayoutModel",
            "justify_items": null,
            "grid_row": null,
            "max_height": null,
            "align_content": null,
            "visibility": null,
            "align_self": null,
            "height": null,
            "min_height": null,
            "padding": null,
            "grid_auto_rows": null,
            "grid_gap": null,
            "max_width": null,
            "order": null,
            "_view_module_version": "1.2.0",
            "grid_template_areas": null,
            "object_position": null,
            "object_fit": null,
            "grid_auto_columns": null,
            "margin": null,
            "display": null,
            "left": null
          }
        },
        "ddd45d9d4d714183aaf4e52fbfa006d5": {
          "model_module": "@jupyter-widgets/controls",
          "model_name": "ProgressStyleModel",
          "model_module_version": "1.5.0",
          "state": {
            "_view_name": "StyleView",
            "_model_name": "ProgressStyleModel",
            "description_width": "",
            "_view_module": "@jupyter-widgets/base",
            "_model_module_version": "1.5.0",
            "_view_count": null,
            "_view_module_version": "1.2.0",
            "bar_color": null,
            "_model_module": "@jupyter-widgets/controls"
          }
        },
        "a4a2161edff5430b93f7177473123912": {
          "model_module": "@jupyter-widgets/base",
          "model_name": "LayoutModel",
          "model_module_version": "1.2.0",
          "state": {
            "_view_name": "LayoutView",
            "grid_template_rows": null,
            "right": null,
            "justify_content": null,
            "_view_module": "@jupyter-widgets/base",
            "overflow": null,
            "_model_module_version": "1.2.0",
            "_view_count": null,
            "flex_flow": null,
            "width": null,
            "min_width": null,
            "border": null,
            "align_items": null,
            "bottom": null,
            "_model_module": "@jupyter-widgets/base",
            "top": null,
            "grid_column": null,
            "overflow_y": null,
            "overflow_x": null,
            "grid_auto_flow": null,
            "grid_area": null,
            "grid_template_columns": null,
            "flex": null,
            "_model_name": "LayoutModel",
            "justify_items": null,
            "grid_row": null,
            "max_height": null,
            "align_content": null,
            "visibility": null,
            "align_self": null,
            "height": null,
            "min_height": null,
            "padding": null,
            "grid_auto_rows": null,
            "grid_gap": null,
            "max_width": null,
            "order": null,
            "_view_module_version": "1.2.0",
            "grid_template_areas": null,
            "object_position": null,
            "object_fit": null,
            "grid_auto_columns": null,
            "margin": null,
            "display": null,
            "left": null
          }
        },
        "c8cb1f347df54179bf4c561832376640": {
          "model_module": "@jupyter-widgets/controls",
          "model_name": "DescriptionStyleModel",
          "model_module_version": "1.5.0",
          "state": {
            "_view_name": "StyleView",
            "_model_name": "DescriptionStyleModel",
            "description_width": "",
            "_view_module": "@jupyter-widgets/base",
            "_model_module_version": "1.5.0",
            "_view_count": null,
            "_view_module_version": "1.2.0",
            "_model_module": "@jupyter-widgets/controls"
          }
        },
        "8d8becfac07549eaad5c51acdf2cdc2d": {
          "model_module": "@jupyter-widgets/base",
          "model_name": "LayoutModel",
          "model_module_version": "1.2.0",
          "state": {
            "_view_name": "LayoutView",
            "grid_template_rows": null,
            "right": null,
            "justify_content": null,
            "_view_module": "@jupyter-widgets/base",
            "overflow": null,
            "_model_module_version": "1.2.0",
            "_view_count": null,
            "flex_flow": null,
            "width": null,
            "min_width": null,
            "border": null,
            "align_items": null,
            "bottom": null,
            "_model_module": "@jupyter-widgets/base",
            "top": null,
            "grid_column": null,
            "overflow_y": null,
            "overflow_x": null,
            "grid_auto_flow": null,
            "grid_area": null,
            "grid_template_columns": null,
            "flex": null,
            "_model_name": "LayoutModel",
            "justify_items": null,
            "grid_row": null,
            "max_height": null,
            "align_content": null,
            "visibility": null,
            "align_self": null,
            "height": null,
            "min_height": null,
            "padding": null,
            "grid_auto_rows": null,
            "grid_gap": null,
            "max_width": null,
            "order": null,
            "_view_module_version": "1.2.0",
            "grid_template_areas": null,
            "object_position": null,
            "object_fit": null,
            "grid_auto_columns": null,
            "margin": null,
            "display": null,
            "left": null
          }
        },
        "66d0cb6e00ee441bac6199576b729f37": {
          "model_module": "@jupyter-widgets/controls",
          "model_name": "HBoxModel",
          "model_module_version": "1.5.0",
          "state": {
            "_view_name": "HBoxView",
            "_dom_classes": [],
            "_model_name": "HBoxModel",
            "_view_module": "@jupyter-widgets/controls",
            "_model_module_version": "1.5.0",
            "_view_count": null,
            "_view_module_version": "1.5.0",
            "box_style": "",
            "layout": "IPY_MODEL_ee320d6a001b430a8a99c21e75b89b27",
            "_model_module": "@jupyter-widgets/controls",
            "children": [
              "IPY_MODEL_d0c290ec0fad4d11882f2c20d9943bb3",
              "IPY_MODEL_519c5918475947e6b543e281c1a9a635",
              "IPY_MODEL_0037e38988594b17951270b1f9e35ec5"
            ]
          }
        },
        "ee320d6a001b430a8a99c21e75b89b27": {
          "model_module": "@jupyter-widgets/base",
          "model_name": "LayoutModel",
          "model_module_version": "1.2.0",
          "state": {
            "_view_name": "LayoutView",
            "grid_template_rows": null,
            "right": null,
            "justify_content": null,
            "_view_module": "@jupyter-widgets/base",
            "overflow": null,
            "_model_module_version": "1.2.0",
            "_view_count": null,
            "flex_flow": null,
            "width": null,
            "min_width": null,
            "border": null,
            "align_items": null,
            "bottom": null,
            "_model_module": "@jupyter-widgets/base",
            "top": null,
            "grid_column": null,
            "overflow_y": null,
            "overflow_x": null,
            "grid_auto_flow": null,
            "grid_area": null,
            "grid_template_columns": null,
            "flex": null,
            "_model_name": "LayoutModel",
            "justify_items": null,
            "grid_row": null,
            "max_height": null,
            "align_content": null,
            "visibility": null,
            "align_self": null,
            "height": null,
            "min_height": null,
            "padding": null,
            "grid_auto_rows": null,
            "grid_gap": null,
            "max_width": null,
            "order": null,
            "_view_module_version": "1.2.0",
            "grid_template_areas": null,
            "object_position": null,
            "object_fit": null,
            "grid_auto_columns": null,
            "margin": null,
            "display": null,
            "left": null
          }
        },
        "d0c290ec0fad4d11882f2c20d9943bb3": {
          "model_module": "@jupyter-widgets/controls",
          "model_name": "HTMLModel",
          "model_module_version": "1.5.0",
          "state": {
            "_view_name": "HTMLView",
            "style": "IPY_MODEL_46567425c2d844cc8dcd437e91570b57",
            "_dom_classes": [],
            "description": "",
            "_model_name": "HTMLModel",
            "placeholder": "​",
            "_view_module": "@jupyter-widgets/controls",
            "_model_module_version": "1.5.0",
            "value": "",
            "_view_count": null,
            "_view_module_version": "1.5.0",
            "description_tooltip": null,
            "_model_module": "@jupyter-widgets/controls",
            "layout": "IPY_MODEL_9dde589a75e345c6b90d23718c6ae57e"
          }
        },
        "519c5918475947e6b543e281c1a9a635": {
          "model_module": "@jupyter-widgets/controls",
          "model_name": "FloatProgressModel",
          "model_module_version": "1.5.0",
          "state": {
            "_view_name": "ProgressView",
            "style": "IPY_MODEL_2a7e6b9f51c44b4b88757d5ff970d64d",
            "_dom_classes": [],
            "description": "",
            "_model_name": "FloatProgressModel",
            "bar_style": "success",
            "max": 28881,
            "_view_module": "@jupyter-widgets/controls",
            "_model_module_version": "1.5.0",
            "value": 28881,
            "_view_count": null,
            "_view_module_version": "1.5.0",
            "orientation": "horizontal",
            "min": 0,
            "description_tooltip": null,
            "_model_module": "@jupyter-widgets/controls",
            "layout": "IPY_MODEL_413d645775974c9495ba05343a219aa1"
          }
        },
        "0037e38988594b17951270b1f9e35ec5": {
          "model_module": "@jupyter-widgets/controls",
          "model_name": "HTMLModel",
          "model_module_version": "1.5.0",
          "state": {
            "_view_name": "HTMLView",
            "style": "IPY_MODEL_e3c588dbb86a4606aaeea6994cd84175",
            "_dom_classes": [],
            "description": "",
            "_model_name": "HTMLModel",
            "placeholder": "​",
            "_view_module": "@jupyter-widgets/controls",
            "_model_module_version": "1.5.0",
            "value": " 29696/? [00:00&lt;00:00, 666117.88it/s]",
            "_view_count": null,
            "_view_module_version": "1.5.0",
            "description_tooltip": null,
            "_model_module": "@jupyter-widgets/controls",
            "layout": "IPY_MODEL_2c6da77e03e94b4ea0381cbc35f805c6"
          }
        },
        "46567425c2d844cc8dcd437e91570b57": {
          "model_module": "@jupyter-widgets/controls",
          "model_name": "DescriptionStyleModel",
          "model_module_version": "1.5.0",
          "state": {
            "_view_name": "StyleView",
            "_model_name": "DescriptionStyleModel",
            "description_width": "",
            "_view_module": "@jupyter-widgets/base",
            "_model_module_version": "1.5.0",
            "_view_count": null,
            "_view_module_version": "1.2.0",
            "_model_module": "@jupyter-widgets/controls"
          }
        },
        "9dde589a75e345c6b90d23718c6ae57e": {
          "model_module": "@jupyter-widgets/base",
          "model_name": "LayoutModel",
          "model_module_version": "1.2.0",
          "state": {
            "_view_name": "LayoutView",
            "grid_template_rows": null,
            "right": null,
            "justify_content": null,
            "_view_module": "@jupyter-widgets/base",
            "overflow": null,
            "_model_module_version": "1.2.0",
            "_view_count": null,
            "flex_flow": null,
            "width": null,
            "min_width": null,
            "border": null,
            "align_items": null,
            "bottom": null,
            "_model_module": "@jupyter-widgets/base",
            "top": null,
            "grid_column": null,
            "overflow_y": null,
            "overflow_x": null,
            "grid_auto_flow": null,
            "grid_area": null,
            "grid_template_columns": null,
            "flex": null,
            "_model_name": "LayoutModel",
            "justify_items": null,
            "grid_row": null,
            "max_height": null,
            "align_content": null,
            "visibility": null,
            "align_self": null,
            "height": null,
            "min_height": null,
            "padding": null,
            "grid_auto_rows": null,
            "grid_gap": null,
            "max_width": null,
            "order": null,
            "_view_module_version": "1.2.0",
            "grid_template_areas": null,
            "object_position": null,
            "object_fit": null,
            "grid_auto_columns": null,
            "margin": null,
            "display": null,
            "left": null
          }
        },
        "2a7e6b9f51c44b4b88757d5ff970d64d": {
          "model_module": "@jupyter-widgets/controls",
          "model_name": "ProgressStyleModel",
          "model_module_version": "1.5.0",
          "state": {
            "_view_name": "StyleView",
            "_model_name": "ProgressStyleModel",
            "description_width": "",
            "_view_module": "@jupyter-widgets/base",
            "_model_module_version": "1.5.0",
            "_view_count": null,
            "_view_module_version": "1.2.0",
            "bar_color": null,
            "_model_module": "@jupyter-widgets/controls"
          }
        },
        "413d645775974c9495ba05343a219aa1": {
          "model_module": "@jupyter-widgets/base",
          "model_name": "LayoutModel",
          "model_module_version": "1.2.0",
          "state": {
            "_view_name": "LayoutView",
            "grid_template_rows": null,
            "right": null,
            "justify_content": null,
            "_view_module": "@jupyter-widgets/base",
            "overflow": null,
            "_model_module_version": "1.2.0",
            "_view_count": null,
            "flex_flow": null,
            "width": null,
            "min_width": null,
            "border": null,
            "align_items": null,
            "bottom": null,
            "_model_module": "@jupyter-widgets/base",
            "top": null,
            "grid_column": null,
            "overflow_y": null,
            "overflow_x": null,
            "grid_auto_flow": null,
            "grid_area": null,
            "grid_template_columns": null,
            "flex": null,
            "_model_name": "LayoutModel",
            "justify_items": null,
            "grid_row": null,
            "max_height": null,
            "align_content": null,
            "visibility": null,
            "align_self": null,
            "height": null,
            "min_height": null,
            "padding": null,
            "grid_auto_rows": null,
            "grid_gap": null,
            "max_width": null,
            "order": null,
            "_view_module_version": "1.2.0",
            "grid_template_areas": null,
            "object_position": null,
            "object_fit": null,
            "grid_auto_columns": null,
            "margin": null,
            "display": null,
            "left": null
          }
        },
        "e3c588dbb86a4606aaeea6994cd84175": {
          "model_module": "@jupyter-widgets/controls",
          "model_name": "DescriptionStyleModel",
          "model_module_version": "1.5.0",
          "state": {
            "_view_name": "StyleView",
            "_model_name": "DescriptionStyleModel",
            "description_width": "",
            "_view_module": "@jupyter-widgets/base",
            "_model_module_version": "1.5.0",
            "_view_count": null,
            "_view_module_version": "1.2.0",
            "_model_module": "@jupyter-widgets/controls"
          }
        },
        "2c6da77e03e94b4ea0381cbc35f805c6": {
          "model_module": "@jupyter-widgets/base",
          "model_name": "LayoutModel",
          "model_module_version": "1.2.0",
          "state": {
            "_view_name": "LayoutView",
            "grid_template_rows": null,
            "right": null,
            "justify_content": null,
            "_view_module": "@jupyter-widgets/base",
            "overflow": null,
            "_model_module_version": "1.2.0",
            "_view_count": null,
            "flex_flow": null,
            "width": null,
            "min_width": null,
            "border": null,
            "align_items": null,
            "bottom": null,
            "_model_module": "@jupyter-widgets/base",
            "top": null,
            "grid_column": null,
            "overflow_y": null,
            "overflow_x": null,
            "grid_auto_flow": null,
            "grid_area": null,
            "grid_template_columns": null,
            "flex": null,
            "_model_name": "LayoutModel",
            "justify_items": null,
            "grid_row": null,
            "max_height": null,
            "align_content": null,
            "visibility": null,
            "align_self": null,
            "height": null,
            "min_height": null,
            "padding": null,
            "grid_auto_rows": null,
            "grid_gap": null,
            "max_width": null,
            "order": null,
            "_view_module_version": "1.2.0",
            "grid_template_areas": null,
            "object_position": null,
            "object_fit": null,
            "grid_auto_columns": null,
            "margin": null,
            "display": null,
            "left": null
          }
        },
        "51e10c131d1e49899279c67d7cf41515": {
          "model_module": "@jupyter-widgets/controls",
          "model_name": "HBoxModel",
          "model_module_version": "1.5.0",
          "state": {
            "_view_name": "HBoxView",
            "_dom_classes": [],
            "_model_name": "HBoxModel",
            "_view_module": "@jupyter-widgets/controls",
            "_model_module_version": "1.5.0",
            "_view_count": null,
            "_view_module_version": "1.5.0",
            "box_style": "",
            "layout": "IPY_MODEL_4bf8e67c945e4f5f9d965bce7000d98f",
            "_model_module": "@jupyter-widgets/controls",
            "children": [
              "IPY_MODEL_7837fb9401774187b3e5842f5b41f47c",
              "IPY_MODEL_35797d1b74d74c62a8fc697dde3efb60",
              "IPY_MODEL_b51e97fe5c4346a79991b6fa77b2a59e"
            ]
          }
        },
        "4bf8e67c945e4f5f9d965bce7000d98f": {
          "model_module": "@jupyter-widgets/base",
          "model_name": "LayoutModel",
          "model_module_version": "1.2.0",
          "state": {
            "_view_name": "LayoutView",
            "grid_template_rows": null,
            "right": null,
            "justify_content": null,
            "_view_module": "@jupyter-widgets/base",
            "overflow": null,
            "_model_module_version": "1.2.0",
            "_view_count": null,
            "flex_flow": null,
            "width": null,
            "min_width": null,
            "border": null,
            "align_items": null,
            "bottom": null,
            "_model_module": "@jupyter-widgets/base",
            "top": null,
            "grid_column": null,
            "overflow_y": null,
            "overflow_x": null,
            "grid_auto_flow": null,
            "grid_area": null,
            "grid_template_columns": null,
            "flex": null,
            "_model_name": "LayoutModel",
            "justify_items": null,
            "grid_row": null,
            "max_height": null,
            "align_content": null,
            "visibility": null,
            "align_self": null,
            "height": null,
            "min_height": null,
            "padding": null,
            "grid_auto_rows": null,
            "grid_gap": null,
            "max_width": null,
            "order": null,
            "_view_module_version": "1.2.0",
            "grid_template_areas": null,
            "object_position": null,
            "object_fit": null,
            "grid_auto_columns": null,
            "margin": null,
            "display": null,
            "left": null
          }
        },
        "7837fb9401774187b3e5842f5b41f47c": {
          "model_module": "@jupyter-widgets/controls",
          "model_name": "HTMLModel",
          "model_module_version": "1.5.0",
          "state": {
            "_view_name": "HTMLView",
            "style": "IPY_MODEL_81361bdee13349cd8193900831e55bc3",
            "_dom_classes": [],
            "description": "",
            "_model_name": "HTMLModel",
            "placeholder": "​",
            "_view_module": "@jupyter-widgets/controls",
            "_model_module_version": "1.5.0",
            "value": "",
            "_view_count": null,
            "_view_module_version": "1.5.0",
            "description_tooltip": null,
            "_model_module": "@jupyter-widgets/controls",
            "layout": "IPY_MODEL_0ae781fe64cb459993781e5d02607b21"
          }
        },
        "35797d1b74d74c62a8fc697dde3efb60": {
          "model_module": "@jupyter-widgets/controls",
          "model_name": "FloatProgressModel",
          "model_module_version": "1.5.0",
          "state": {
            "_view_name": "ProgressView",
            "style": "IPY_MODEL_9285abca5cb049adb6c432427082e224",
            "_dom_classes": [],
            "description": "",
            "_model_name": "FloatProgressModel",
            "bar_style": "success",
            "max": 1648877,
            "_view_module": "@jupyter-widgets/controls",
            "_model_module_version": "1.5.0",
            "value": 1648877,
            "_view_count": null,
            "_view_module_version": "1.5.0",
            "orientation": "horizontal",
            "min": 0,
            "description_tooltip": null,
            "_model_module": "@jupyter-widgets/controls",
            "layout": "IPY_MODEL_94f008e2eb8c418c97066628aecdfcf3"
          }
        },
        "b51e97fe5c4346a79991b6fa77b2a59e": {
          "model_module": "@jupyter-widgets/controls",
          "model_name": "HTMLModel",
          "model_module_version": "1.5.0",
          "state": {
            "_view_name": "HTMLView",
            "style": "IPY_MODEL_4c6fc5fd60fe48338c730e1c233674ec",
            "_dom_classes": [],
            "description": "",
            "_model_name": "HTMLModel",
            "placeholder": "​",
            "_view_module": "@jupyter-widgets/controls",
            "_model_module_version": "1.5.0",
            "value": " 1649664/? [00:00&lt;00:00, 4102055.64it/s]",
            "_view_count": null,
            "_view_module_version": "1.5.0",
            "description_tooltip": null,
            "_model_module": "@jupyter-widgets/controls",
            "layout": "IPY_MODEL_ce904143db144770897c97be1c64a255"
          }
        },
        "81361bdee13349cd8193900831e55bc3": {
          "model_module": "@jupyter-widgets/controls",
          "model_name": "DescriptionStyleModel",
          "model_module_version": "1.5.0",
          "state": {
            "_view_name": "StyleView",
            "_model_name": "DescriptionStyleModel",
            "description_width": "",
            "_view_module": "@jupyter-widgets/base",
            "_model_module_version": "1.5.0",
            "_view_count": null,
            "_view_module_version": "1.2.0",
            "_model_module": "@jupyter-widgets/controls"
          }
        },
        "0ae781fe64cb459993781e5d02607b21": {
          "model_module": "@jupyter-widgets/base",
          "model_name": "LayoutModel",
          "model_module_version": "1.2.0",
          "state": {
            "_view_name": "LayoutView",
            "grid_template_rows": null,
            "right": null,
            "justify_content": null,
            "_view_module": "@jupyter-widgets/base",
            "overflow": null,
            "_model_module_version": "1.2.0",
            "_view_count": null,
            "flex_flow": null,
            "width": null,
            "min_width": null,
            "border": null,
            "align_items": null,
            "bottom": null,
            "_model_module": "@jupyter-widgets/base",
            "top": null,
            "grid_column": null,
            "overflow_y": null,
            "overflow_x": null,
            "grid_auto_flow": null,
            "grid_area": null,
            "grid_template_columns": null,
            "flex": null,
            "_model_name": "LayoutModel",
            "justify_items": null,
            "grid_row": null,
            "max_height": null,
            "align_content": null,
            "visibility": null,
            "align_self": null,
            "height": null,
            "min_height": null,
            "padding": null,
            "grid_auto_rows": null,
            "grid_gap": null,
            "max_width": null,
            "order": null,
            "_view_module_version": "1.2.0",
            "grid_template_areas": null,
            "object_position": null,
            "object_fit": null,
            "grid_auto_columns": null,
            "margin": null,
            "display": null,
            "left": null
          }
        },
        "9285abca5cb049adb6c432427082e224": {
          "model_module": "@jupyter-widgets/controls",
          "model_name": "ProgressStyleModel",
          "model_module_version": "1.5.0",
          "state": {
            "_view_name": "StyleView",
            "_model_name": "ProgressStyleModel",
            "description_width": "",
            "_view_module": "@jupyter-widgets/base",
            "_model_module_version": "1.5.0",
            "_view_count": null,
            "_view_module_version": "1.2.0",
            "bar_color": null,
            "_model_module": "@jupyter-widgets/controls"
          }
        },
        "94f008e2eb8c418c97066628aecdfcf3": {
          "model_module": "@jupyter-widgets/base",
          "model_name": "LayoutModel",
          "model_module_version": "1.2.0",
          "state": {
            "_view_name": "LayoutView",
            "grid_template_rows": null,
            "right": null,
            "justify_content": null,
            "_view_module": "@jupyter-widgets/base",
            "overflow": null,
            "_model_module_version": "1.2.0",
            "_view_count": null,
            "flex_flow": null,
            "width": null,
            "min_width": null,
            "border": null,
            "align_items": null,
            "bottom": null,
            "_model_module": "@jupyter-widgets/base",
            "top": null,
            "grid_column": null,
            "overflow_y": null,
            "overflow_x": null,
            "grid_auto_flow": null,
            "grid_area": null,
            "grid_template_columns": null,
            "flex": null,
            "_model_name": "LayoutModel",
            "justify_items": null,
            "grid_row": null,
            "max_height": null,
            "align_content": null,
            "visibility": null,
            "align_self": null,
            "height": null,
            "min_height": null,
            "padding": null,
            "grid_auto_rows": null,
            "grid_gap": null,
            "max_width": null,
            "order": null,
            "_view_module_version": "1.2.0",
            "grid_template_areas": null,
            "object_position": null,
            "object_fit": null,
            "grid_auto_columns": null,
            "margin": null,
            "display": null,
            "left": null
          }
        },
        "4c6fc5fd60fe48338c730e1c233674ec": {
          "model_module": "@jupyter-widgets/controls",
          "model_name": "DescriptionStyleModel",
          "model_module_version": "1.5.0",
          "state": {
            "_view_name": "StyleView",
            "_model_name": "DescriptionStyleModel",
            "description_width": "",
            "_view_module": "@jupyter-widgets/base",
            "_model_module_version": "1.5.0",
            "_view_count": null,
            "_view_module_version": "1.2.0",
            "_model_module": "@jupyter-widgets/controls"
          }
        },
        "ce904143db144770897c97be1c64a255": {
          "model_module": "@jupyter-widgets/base",
          "model_name": "LayoutModel",
          "model_module_version": "1.2.0",
          "state": {
            "_view_name": "LayoutView",
            "grid_template_rows": null,
            "right": null,
            "justify_content": null,
            "_view_module": "@jupyter-widgets/base",
            "overflow": null,
            "_model_module_version": "1.2.0",
            "_view_count": null,
            "flex_flow": null,
            "width": null,
            "min_width": null,
            "border": null,
            "align_items": null,
            "bottom": null,
            "_model_module": "@jupyter-widgets/base",
            "top": null,
            "grid_column": null,
            "overflow_y": null,
            "overflow_x": null,
            "grid_auto_flow": null,
            "grid_area": null,
            "grid_template_columns": null,
            "flex": null,
            "_model_name": "LayoutModel",
            "justify_items": null,
            "grid_row": null,
            "max_height": null,
            "align_content": null,
            "visibility": null,
            "align_self": null,
            "height": null,
            "min_height": null,
            "padding": null,
            "grid_auto_rows": null,
            "grid_gap": null,
            "max_width": null,
            "order": null,
            "_view_module_version": "1.2.0",
            "grid_template_areas": null,
            "object_position": null,
            "object_fit": null,
            "grid_auto_columns": null,
            "margin": null,
            "display": null,
            "left": null
          }
        },
        "11741b74219f42bd860d20252ccf1a43": {
          "model_module": "@jupyter-widgets/controls",
          "model_name": "HBoxModel",
          "model_module_version": "1.5.0",
          "state": {
            "_view_name": "HBoxView",
            "_dom_classes": [],
            "_model_name": "HBoxModel",
            "_view_module": "@jupyter-widgets/controls",
            "_model_module_version": "1.5.0",
            "_view_count": null,
            "_view_module_version": "1.5.0",
            "box_style": "",
            "layout": "IPY_MODEL_d574611411834f55b2aad90f285b8029",
            "_model_module": "@jupyter-widgets/controls",
            "children": [
              "IPY_MODEL_d7d13f0170e044d4850786fbd8b1f2e3",
              "IPY_MODEL_0e263d8211474cf6a62b00eb1ad4659f",
              "IPY_MODEL_0105e7be253a4c6190faf6618bf29ad9"
            ]
          }
        },
        "d574611411834f55b2aad90f285b8029": {
          "model_module": "@jupyter-widgets/base",
          "model_name": "LayoutModel",
          "model_module_version": "1.2.0",
          "state": {
            "_view_name": "LayoutView",
            "grid_template_rows": null,
            "right": null,
            "justify_content": null,
            "_view_module": "@jupyter-widgets/base",
            "overflow": null,
            "_model_module_version": "1.2.0",
            "_view_count": null,
            "flex_flow": null,
            "width": null,
            "min_width": null,
            "border": null,
            "align_items": null,
            "bottom": null,
            "_model_module": "@jupyter-widgets/base",
            "top": null,
            "grid_column": null,
            "overflow_y": null,
            "overflow_x": null,
            "grid_auto_flow": null,
            "grid_area": null,
            "grid_template_columns": null,
            "flex": null,
            "_model_name": "LayoutModel",
            "justify_items": null,
            "grid_row": null,
            "max_height": null,
            "align_content": null,
            "visibility": null,
            "align_self": null,
            "height": null,
            "min_height": null,
            "padding": null,
            "grid_auto_rows": null,
            "grid_gap": null,
            "max_width": null,
            "order": null,
            "_view_module_version": "1.2.0",
            "grid_template_areas": null,
            "object_position": null,
            "object_fit": null,
            "grid_auto_columns": null,
            "margin": null,
            "display": null,
            "left": null
          }
        },
        "d7d13f0170e044d4850786fbd8b1f2e3": {
          "model_module": "@jupyter-widgets/controls",
          "model_name": "HTMLModel",
          "model_module_version": "1.5.0",
          "state": {
            "_view_name": "HTMLView",
            "style": "IPY_MODEL_660f79c78bae4e56ab73d3bf64995045",
            "_dom_classes": [],
            "description": "",
            "_model_name": "HTMLModel",
            "placeholder": "​",
            "_view_module": "@jupyter-widgets/controls",
            "_model_module_version": "1.5.0",
            "value": "",
            "_view_count": null,
            "_view_module_version": "1.5.0",
            "description_tooltip": null,
            "_model_module": "@jupyter-widgets/controls",
            "layout": "IPY_MODEL_0dff6571817d4c5db7fa0f8614323b4a"
          }
        },
        "0e263d8211474cf6a62b00eb1ad4659f": {
          "model_module": "@jupyter-widgets/controls",
          "model_name": "FloatProgressModel",
          "model_module_version": "1.5.0",
          "state": {
            "_view_name": "ProgressView",
            "style": "IPY_MODEL_5fca187d4461483eb563c2b5727bd7ae",
            "_dom_classes": [],
            "description": "",
            "_model_name": "FloatProgressModel",
            "bar_style": "success",
            "max": 4542,
            "_view_module": "@jupyter-widgets/controls",
            "_model_module_version": "1.5.0",
            "value": 4542,
            "_view_count": null,
            "_view_module_version": "1.5.0",
            "orientation": "horizontal",
            "min": 0,
            "description_tooltip": null,
            "_model_module": "@jupyter-widgets/controls",
            "layout": "IPY_MODEL_4a9c6b51d7a5431381d14c73668dbea3"
          }
        },
        "0105e7be253a4c6190faf6618bf29ad9": {
          "model_module": "@jupyter-widgets/controls",
          "model_name": "HTMLModel",
          "model_module_version": "1.5.0",
          "state": {
            "_view_name": "HTMLView",
            "style": "IPY_MODEL_b1d7ae45770f49c7b4ff8121a24c0e2f",
            "_dom_classes": [],
            "description": "",
            "_model_name": "HTMLModel",
            "placeholder": "​",
            "_view_module": "@jupyter-widgets/controls",
            "_model_module_version": "1.5.0",
            "value": " 5120/? [00:00&lt;00:00, 150858.35it/s]",
            "_view_count": null,
            "_view_module_version": "1.5.0",
            "description_tooltip": null,
            "_model_module": "@jupyter-widgets/controls",
            "layout": "IPY_MODEL_18695a22c2294521805710c8653af975"
          }
        },
        "660f79c78bae4e56ab73d3bf64995045": {
          "model_module": "@jupyter-widgets/controls",
          "model_name": "DescriptionStyleModel",
          "model_module_version": "1.5.0",
          "state": {
            "_view_name": "StyleView",
            "_model_name": "DescriptionStyleModel",
            "description_width": "",
            "_view_module": "@jupyter-widgets/base",
            "_model_module_version": "1.5.0",
            "_view_count": null,
            "_view_module_version": "1.2.0",
            "_model_module": "@jupyter-widgets/controls"
          }
        },
        "0dff6571817d4c5db7fa0f8614323b4a": {
          "model_module": "@jupyter-widgets/base",
          "model_name": "LayoutModel",
          "model_module_version": "1.2.0",
          "state": {
            "_view_name": "LayoutView",
            "grid_template_rows": null,
            "right": null,
            "justify_content": null,
            "_view_module": "@jupyter-widgets/base",
            "overflow": null,
            "_model_module_version": "1.2.0",
            "_view_count": null,
            "flex_flow": null,
            "width": null,
            "min_width": null,
            "border": null,
            "align_items": null,
            "bottom": null,
            "_model_module": "@jupyter-widgets/base",
            "top": null,
            "grid_column": null,
            "overflow_y": null,
            "overflow_x": null,
            "grid_auto_flow": null,
            "grid_area": null,
            "grid_template_columns": null,
            "flex": null,
            "_model_name": "LayoutModel",
            "justify_items": null,
            "grid_row": null,
            "max_height": null,
            "align_content": null,
            "visibility": null,
            "align_self": null,
            "height": null,
            "min_height": null,
            "padding": null,
            "grid_auto_rows": null,
            "grid_gap": null,
            "max_width": null,
            "order": null,
            "_view_module_version": "1.2.0",
            "grid_template_areas": null,
            "object_position": null,
            "object_fit": null,
            "grid_auto_columns": null,
            "margin": null,
            "display": null,
            "left": null
          }
        },
        "5fca187d4461483eb563c2b5727bd7ae": {
          "model_module": "@jupyter-widgets/controls",
          "model_name": "ProgressStyleModel",
          "model_module_version": "1.5.0",
          "state": {
            "_view_name": "StyleView",
            "_model_name": "ProgressStyleModel",
            "description_width": "",
            "_view_module": "@jupyter-widgets/base",
            "_model_module_version": "1.5.0",
            "_view_count": null,
            "_view_module_version": "1.2.0",
            "bar_color": null,
            "_model_module": "@jupyter-widgets/controls"
          }
        },
        "4a9c6b51d7a5431381d14c73668dbea3": {
          "model_module": "@jupyter-widgets/base",
          "model_name": "LayoutModel",
          "model_module_version": "1.2.0",
          "state": {
            "_view_name": "LayoutView",
            "grid_template_rows": null,
            "right": null,
            "justify_content": null,
            "_view_module": "@jupyter-widgets/base",
            "overflow": null,
            "_model_module_version": "1.2.0",
            "_view_count": null,
            "flex_flow": null,
            "width": null,
            "min_width": null,
            "border": null,
            "align_items": null,
            "bottom": null,
            "_model_module": "@jupyter-widgets/base",
            "top": null,
            "grid_column": null,
            "overflow_y": null,
            "overflow_x": null,
            "grid_auto_flow": null,
            "grid_area": null,
            "grid_template_columns": null,
            "flex": null,
            "_model_name": "LayoutModel",
            "justify_items": null,
            "grid_row": null,
            "max_height": null,
            "align_content": null,
            "visibility": null,
            "align_self": null,
            "height": null,
            "min_height": null,
            "padding": null,
            "grid_auto_rows": null,
            "grid_gap": null,
            "max_width": null,
            "order": null,
            "_view_module_version": "1.2.0",
            "grid_template_areas": null,
            "object_position": null,
            "object_fit": null,
            "grid_auto_columns": null,
            "margin": null,
            "display": null,
            "left": null
          }
        },
        "b1d7ae45770f49c7b4ff8121a24c0e2f": {
          "model_module": "@jupyter-widgets/controls",
          "model_name": "DescriptionStyleModel",
          "model_module_version": "1.5.0",
          "state": {
            "_view_name": "StyleView",
            "_model_name": "DescriptionStyleModel",
            "description_width": "",
            "_view_module": "@jupyter-widgets/base",
            "_model_module_version": "1.5.0",
            "_view_count": null,
            "_view_module_version": "1.2.0",
            "_model_module": "@jupyter-widgets/controls"
          }
        },
        "18695a22c2294521805710c8653af975": {
          "model_module": "@jupyter-widgets/base",
          "model_name": "LayoutModel",
          "model_module_version": "1.2.0",
          "state": {
            "_view_name": "LayoutView",
            "grid_template_rows": null,
            "right": null,
            "justify_content": null,
            "_view_module": "@jupyter-widgets/base",
            "overflow": null,
            "_model_module_version": "1.2.0",
            "_view_count": null,
            "flex_flow": null,
            "width": null,
            "min_width": null,
            "border": null,
            "align_items": null,
            "bottom": null,
            "_model_module": "@jupyter-widgets/base",
            "top": null,
            "grid_column": null,
            "overflow_y": null,
            "overflow_x": null,
            "grid_auto_flow": null,
            "grid_area": null,
            "grid_template_columns": null,
            "flex": null,
            "_model_name": "LayoutModel",
            "justify_items": null,
            "grid_row": null,
            "max_height": null,
            "align_content": null,
            "visibility": null,
            "align_self": null,
            "height": null,
            "min_height": null,
            "padding": null,
            "grid_auto_rows": null,
            "grid_gap": null,
            "max_width": null,
            "order": null,
            "_view_module_version": "1.2.0",
            "grid_template_areas": null,
            "object_position": null,
            "object_fit": null,
            "grid_auto_columns": null,
            "margin": null,
            "display": null,
            "left": null
          }
        }
      }
    }
  },
  "nbformat": 4,
  "nbformat_minor": 0
}